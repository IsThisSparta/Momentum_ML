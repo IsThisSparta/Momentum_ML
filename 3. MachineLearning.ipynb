{
 "cells": [
  {
   "cell_type": "markdown",
   "id": "4d34e6c3-9469-4d0a-a862-cd7105c75e9e",
   "metadata": {},
   "source": [
    "# Run Machine Learning\n",
    "\n",
    "We now run machine learning on the clean data file created in the \"TransformData\" script. It contains clean monthly stock and factor data between January 2004 and December 2023.\n",
    "\n",
    "We begin by importing packages, and loading in our data."
   ]
  },
  {
   "cell_type": "code",
   "execution_count": 1,
   "id": "5edf32dd-cd0c-48de-ac92-05095a5b8c93",
   "metadata": {},
   "outputs": [],
   "source": [
    "#Load packages\n",
    "suppressPackageStartupMessages({\n",
    "    if(!require(tidyverse)){install.packages(\"tidyverse\")}\n",
    "    if(!require(tidyquant)){install.packages(\"tidyquant\")}\n",
    "    if(!require(lubridate)){install.packages(\"lubridate\")}\n",
    "    if(!require(glmnet)){install.packages(\"glmnet\")}\n",
    "    if(!require(rpart)){install.packages(\"rpart\")}\n",
    "    if(!require(randomForest)){install.packages(\"randomForest\")}\n",
    "    if(!require(xgboost)){install.packages(\"xgboost\")}\n",
    "    if(!require(keras3)){install.packages(\"keras3\")}\n",
    "    if(!require(quadprog)){install.packages(\"quadprog\")}\n",
    "    \n",
    "    library(tidyverse)\n",
    "    library(tidyquant)\n",
    "    library(lubridate)\n",
    "    library(glmnet)\n",
    "    library(rpart)\n",
    "    library(randomForest)\n",
    "    library(xgboost)\n",
    "    library(keras3)\n",
    "    library(quadprog)\n",
    "})"
   ]
  },
  {
   "cell_type": "code",
   "execution_count": 2,
   "id": "8801d492-31e7-421f-b900-7276ed4e6f3d",
   "metadata": {},
   "outputs": [
    {
     "data": {
      "text/html": [
       "<table class=\"dataframe\">\n",
       "<caption>A tibble: 6 × 23</caption>\n",
       "<thead>\n",
       "\t<tr><th scope=col>DATE</th><th scope=col>PERMNO</th><th scope=col>PERMCO</th><th scope=col>TIC</th><th scope=col>PRC</th><th scope=col>RET</th><th scope=col>SHROUT</th><th scope=col>CEQ</th><th scope=col>VOL</th><th scope=col>XRM</th><th scope=col>⋯</th><th scope=col>XRET</th><th scope=col>FRET</th><th scope=col>MCAP</th><th scope=col>BMKT</th><th scope=col>RET11</th><th scope=col>XRET11</th><th scope=col>RV</th><th scope=col>WML_star</th><th scope=col>N</th><th scope=col>GRJMOM</th></tr>\n",
       "\t<tr><th scope=col>&lt;date&gt;</th><th scope=col>&lt;dbl&gt;</th><th scope=col>&lt;dbl&gt;</th><th scope=col>&lt;chr&gt;</th><th scope=col>&lt;dbl&gt;</th><th scope=col>&lt;dbl&gt;</th><th scope=col>&lt;dbl&gt;</th><th scope=col>&lt;dbl&gt;</th><th scope=col>&lt;dbl&gt;</th><th scope=col>&lt;dbl&gt;</th><th scope=col>⋯</th><th scope=col>&lt;dbl&gt;</th><th scope=col>&lt;dbl&gt;</th><th scope=col>&lt;dbl&gt;</th><th scope=col>&lt;dbl&gt;</th><th scope=col>&lt;dbl&gt;</th><th scope=col>&lt;dbl&gt;</th><th scope=col>&lt;dbl&gt;</th><th scope=col>&lt;dbl&gt;</th><th scope=col>&lt;dbl&gt;</th><th scope=col>&lt;dbl&gt;</th></tr>\n",
       "</thead>\n",
       "<tbody>\n",
       "\t<tr><td>2004-01-31</td><td>10026</td><td>7976</td><td>JJSF</td><td>42.10</td><td> 0.114936</td><td>8801</td><td>182.564</td><td>0.09347483</td><td> 0.0215</td><td>⋯</td><td> 0.114236</td><td> 0.122565</td><td>0.2973503</td><td>0.5750736</td><td>0.03309673</td><td>0.4818449</td><td>0.4317959</td><td> 0.034519963</td><td>0.9</td><td>0.3954858</td></tr>\n",
       "\t<tr><td>2004-02-29</td><td>10026</td><td>7976</td><td>JJSF</td><td>47.26</td><td> 0.122565</td><td>8801</td><td>182.564</td><td>0.09796190</td><td> 0.0140</td><td>⋯</td><td> 0.121965</td><td>-0.044012</td><td>0.3209028</td><td>0.4936212</td><td>0.03532145</td><td>0.4563297</td><td>0.3444553</td><td>-0.013857615</td><td>0.9</td><td>0.3316977</td></tr>\n",
       "\t<tr><td>2004-03-31</td><td>10026</td><td>7976</td><td>JJSF</td><td>45.18</td><td>-0.044012</td><td>8906</td><td>182.564</td><td>0.10015411</td><td>-0.0132</td><td>⋯</td><td>-0.044912</td><td>-0.165339</td><td>0.3107843</td><td>0.5392157</td><td>0.04209582</td><td>0.5401961</td><td>0.3911765</td><td> 0.001996524</td><td>0.9</td><td>0.4039216</td></tr>\n",
       "\t<tr><td>2004-04-30</td><td>10026</td><td>7976</td><td>JJSF</td><td>37.71</td><td>-0.165339</td><td>8911</td><td>182.564</td><td>0.10577529</td><td>-0.0183</td><td>⋯</td><td>-0.166139</td><td> 0.048263</td><td>0.2843137</td><td>0.6313725</td><td>0.03380709</td><td>0.5176471</td><td>0.3294118</td><td>-0.064352988</td><td>0.9</td><td>0.3470588</td></tr>\n",
       "\t<tr><td>2004-05-31</td><td>10026</td><td>7976</td><td>JJSF</td><td>39.53</td><td> 0.048263</td><td>8911</td><td>182.564</td><td>0.10950843</td><td> 0.0117</td><td>⋯</td><td> 0.047663</td><td> 0.032886</td><td>0.2990196</td><td>0.6196078</td><td>0.01954936</td><td>0.4107843</td><td>0.2705882</td><td> 0.018351628</td><td>0.9</td><td>0.2990196</td></tr>\n",
       "\t<tr><td>2004-06-30</td><td>10026</td><td>7976</td><td>JJSF</td><td>40.83</td><td> 0.032886</td><td>8969</td><td>182.564</td><td>0.10883277</td><td> 0.0186</td><td>⋯</td><td> 0.032086</td><td>-0.100416</td><td>0.2956778</td><td>0.6139489</td><td>0.02416791</td><td>0.5186640</td><td>0.3290766</td><td> 0.026936144</td><td>0.9</td><td>0.3713163</td></tr>\n",
       "</tbody>\n",
       "</table>\n"
      ],
      "text/latex": [
       "A tibble: 6 × 23\n",
       "\\begin{tabular}{lllllllllllllllllllll}\n",
       " DATE & PERMNO & PERMCO & TIC & PRC & RET & SHROUT & CEQ & VOL & XRM & ⋯ & XRET & FRET & MCAP & BMKT & RET11 & XRET11 & RV & WML\\_star & N & GRJMOM\\\\\n",
       " <date> & <dbl> & <dbl> & <chr> & <dbl> & <dbl> & <dbl> & <dbl> & <dbl> & <dbl> & ⋯ & <dbl> & <dbl> & <dbl> & <dbl> & <dbl> & <dbl> & <dbl> & <dbl> & <dbl> & <dbl>\\\\\n",
       "\\hline\n",
       "\t 2004-01-31 & 10026 & 7976 & JJSF & 42.10 &  0.114936 & 8801 & 182.564 & 0.09347483 &  0.0215 & ⋯ &  0.114236 &  0.122565 & 0.2973503 & 0.5750736 & 0.03309673 & 0.4818449 & 0.4317959 &  0.034519963 & 0.9 & 0.3954858\\\\\n",
       "\t 2004-02-29 & 10026 & 7976 & JJSF & 47.26 &  0.122565 & 8801 & 182.564 & 0.09796190 &  0.0140 & ⋯ &  0.121965 & -0.044012 & 0.3209028 & 0.4936212 & 0.03532145 & 0.4563297 & 0.3444553 & -0.013857615 & 0.9 & 0.3316977\\\\\n",
       "\t 2004-03-31 & 10026 & 7976 & JJSF & 45.18 & -0.044012 & 8906 & 182.564 & 0.10015411 & -0.0132 & ⋯ & -0.044912 & -0.165339 & 0.3107843 & 0.5392157 & 0.04209582 & 0.5401961 & 0.3911765 &  0.001996524 & 0.9 & 0.4039216\\\\\n",
       "\t 2004-04-30 & 10026 & 7976 & JJSF & 37.71 & -0.165339 & 8911 & 182.564 & 0.10577529 & -0.0183 & ⋯ & -0.166139 &  0.048263 & 0.2843137 & 0.6313725 & 0.03380709 & 0.5176471 & 0.3294118 & -0.064352988 & 0.9 & 0.3470588\\\\\n",
       "\t 2004-05-31 & 10026 & 7976 & JJSF & 39.53 &  0.048263 & 8911 & 182.564 & 0.10950843 &  0.0117 & ⋯ &  0.047663 &  0.032886 & 0.2990196 & 0.6196078 & 0.01954936 & 0.4107843 & 0.2705882 &  0.018351628 & 0.9 & 0.2990196\\\\\n",
       "\t 2004-06-30 & 10026 & 7976 & JJSF & 40.83 &  0.032886 & 8969 & 182.564 & 0.10883277 &  0.0186 & ⋯ &  0.032086 & -0.100416 & 0.2956778 & 0.6139489 & 0.02416791 & 0.5186640 & 0.3290766 &  0.026936144 & 0.9 & 0.3713163\\\\\n",
       "\\end{tabular}\n"
      ],
      "text/markdown": [
       "\n",
       "A tibble: 6 × 23\n",
       "\n",
       "| DATE &lt;date&gt; | PERMNO &lt;dbl&gt; | PERMCO &lt;dbl&gt; | TIC &lt;chr&gt; | PRC &lt;dbl&gt; | RET &lt;dbl&gt; | SHROUT &lt;dbl&gt; | CEQ &lt;dbl&gt; | VOL &lt;dbl&gt; | XRM &lt;dbl&gt; | ⋯ ⋯ | XRET &lt;dbl&gt; | FRET &lt;dbl&gt; | MCAP &lt;dbl&gt; | BMKT &lt;dbl&gt; | RET11 &lt;dbl&gt; | XRET11 &lt;dbl&gt; | RV &lt;dbl&gt; | WML_star &lt;dbl&gt; | N &lt;dbl&gt; | GRJMOM &lt;dbl&gt; |\n",
       "|---|---|---|---|---|---|---|---|---|---|---|---|---|---|---|---|---|---|---|---|---|\n",
       "| 2004-01-31 | 10026 | 7976 | JJSF | 42.10 |  0.114936 | 8801 | 182.564 | 0.09347483 |  0.0215 | ⋯ |  0.114236 |  0.122565 | 0.2973503 | 0.5750736 | 0.03309673 | 0.4818449 | 0.4317959 |  0.034519963 | 0.9 | 0.3954858 |\n",
       "| 2004-02-29 | 10026 | 7976 | JJSF | 47.26 |  0.122565 | 8801 | 182.564 | 0.09796190 |  0.0140 | ⋯ |  0.121965 | -0.044012 | 0.3209028 | 0.4936212 | 0.03532145 | 0.4563297 | 0.3444553 | -0.013857615 | 0.9 | 0.3316977 |\n",
       "| 2004-03-31 | 10026 | 7976 | JJSF | 45.18 | -0.044012 | 8906 | 182.564 | 0.10015411 | -0.0132 | ⋯ | -0.044912 | -0.165339 | 0.3107843 | 0.5392157 | 0.04209582 | 0.5401961 | 0.3911765 |  0.001996524 | 0.9 | 0.4039216 |\n",
       "| 2004-04-30 | 10026 | 7976 | JJSF | 37.71 | -0.165339 | 8911 | 182.564 | 0.10577529 | -0.0183 | ⋯ | -0.166139 |  0.048263 | 0.2843137 | 0.6313725 | 0.03380709 | 0.5176471 | 0.3294118 | -0.064352988 | 0.9 | 0.3470588 |\n",
       "| 2004-05-31 | 10026 | 7976 | JJSF | 39.53 |  0.048263 | 8911 | 182.564 | 0.10950843 |  0.0117 | ⋯ |  0.047663 |  0.032886 | 0.2990196 | 0.6196078 | 0.01954936 | 0.4107843 | 0.2705882 |  0.018351628 | 0.9 | 0.2990196 |\n",
       "| 2004-06-30 | 10026 | 7976 | JJSF | 40.83 |  0.032886 | 8969 | 182.564 | 0.10883277 |  0.0186 | ⋯ |  0.032086 | -0.100416 | 0.2956778 | 0.6139489 | 0.02416791 | 0.5186640 | 0.3290766 |  0.026936144 | 0.9 | 0.3713163 |\n",
       "\n"
      ],
      "text/plain": [
       "  DATE       PERMNO PERMCO TIC  PRC   RET       SHROUT CEQ     VOL       \n",
       "1 2004-01-31 10026  7976   JJSF 42.10  0.114936 8801   182.564 0.09347483\n",
       "2 2004-02-29 10026  7976   JJSF 47.26  0.122565 8801   182.564 0.09796190\n",
       "3 2004-03-31 10026  7976   JJSF 45.18 -0.044012 8906   182.564 0.10015411\n",
       "4 2004-04-30 10026  7976   JJSF 37.71 -0.165339 8911   182.564 0.10577529\n",
       "5 2004-05-31 10026  7976   JJSF 39.53  0.048263 8911   182.564 0.10950843\n",
       "6 2004-06-30 10026  7976   JJSF 40.83  0.032886 8969   182.564 0.10883277\n",
       "  XRM     ⋯ XRET      FRET      MCAP      BMKT      RET11      XRET11   \n",
       "1  0.0215 ⋯  0.114236  0.122565 0.2973503 0.5750736 0.03309673 0.4818449\n",
       "2  0.0140 ⋯  0.121965 -0.044012 0.3209028 0.4936212 0.03532145 0.4563297\n",
       "3 -0.0132 ⋯ -0.044912 -0.165339 0.3107843 0.5392157 0.04209582 0.5401961\n",
       "4 -0.0183 ⋯ -0.166139  0.048263 0.2843137 0.6313725 0.03380709 0.5176471\n",
       "5  0.0117 ⋯  0.047663  0.032886 0.2990196 0.6196078 0.01954936 0.4107843\n",
       "6  0.0186 ⋯  0.032086 -0.100416 0.2956778 0.6139489 0.02416791 0.5186640\n",
       "  RV        WML_star     N   GRJMOM   \n",
       "1 0.4317959  0.034519963 0.9 0.3954858\n",
       "2 0.3444553 -0.013857615 0.9 0.3316977\n",
       "3 0.3911765  0.001996524 0.9 0.4039216\n",
       "4 0.3294118 -0.064352988 0.9 0.3470588\n",
       "5 0.2705882  0.018351628 0.9 0.2990196\n",
       "6 0.3290766  0.026936144 0.9 0.3713163"
      ]
     },
     "metadata": {},
     "output_type": "display_data"
    }
   ],
   "source": [
    "#Import data\n",
    "clean_data <- read_csv(\"Data/Generated/clean_data.csv\", show_col_types = FALSE) %>%\n",
    "    arrange(PERMNO, DATE)\n",
    "\n",
    "head(clean_data)"
   ]
  },
  {
   "cell_type": "markdown",
   "id": "c1b1cc5c-9415-4488-b941-72304b5f2ce0",
   "metadata": {},
   "source": [
    "We split our data in half forming a training sample from January 2004 to December 2013, and a testing sample from January 2014 to December 2023."
   ]
  },
  {
   "cell_type": "code",
   "execution_count": 3,
   "id": "305e99c2-7e79-4ab4-80d5-0a4c55f694b4",
   "metadata": {},
   "outputs": [],
   "source": [
    "#Setup samples \n",
    "separation_date <- as.Date(\"2014-1-1\")                #Middle of period\n",
    "training_sample <- filter(clean_data,                 #Training data\n",
    "                          DATE < separation_date)\n",
    "testing_sample <- filter(clean_data,                  #Testing data\n",
    "                         DATE >= separation_date)\n",
    "\n",
    "training_dates <- select(training_sample, DATE) %>%   #Dates for training\n",
    "    unique()\n",
    "testing_dates <- select(testing_sample, DATE) %>%     #Dates for testing\n",
    "    unique()\n",
    "\n",
    "#Set benchmark predictors\n",
    "benchmark_feat <- c(\"XRM\", \"MCAP\", \"BMKT\", \"RET11\")"
   ]
  },
  {
   "cell_type": "markdown",
   "id": "da4608fe-bcf3-4c3a-a5f1-63221a167c48",
   "metadata": {},
   "source": [
    "# Setup Machine Learning \n",
    "Now, we create a series of functions that can train our 5 machine learning model; elastic net, decision tree, random forest, boosted decision tree, and neural network. This training is done for a set of training data, and a list of stock features. In most cases, parameter values are hard coded to reduce runtimes.\n",
    "\n",
    "## Elastic Net\n",
    "First, we have the elastic net. Our alpha parameter is hard coded as 0.5, but cross-validation is used to find the best lambda value."
   ]
  },
  {
   "cell_type": "code",
   "execution_count": 4,
   "id": "e558f04a-ec90-4835-8c3b-e315a3e39aaf",
   "metadata": {},
   "outputs": [],
   "source": [
    "#Train elastic net\n",
    "Train_ENet <- function (train_data, features) {\n",
    "    alp = 0.5 # Hard coded alpha value\n",
    "    \n",
    "    y_penalized_train <- train_data$FRET            \n",
    "    x_penalized_train <- train_data %>%                 \n",
    "        select(all_of(features)) %>% as.matrix()\n",
    "    \n",
    "    #Use cross validation to find best lambda parameter\n",
    "    cv_pen <- cv.glmnet(x_penalized_train, y_penalized_train,\n",
    "                           alpha = alp)\n",
    "    best_lambda <- cv_pen$lambda.min\n",
    "    \n",
    "    #Use best lambda to get our fit model\n",
    "    fit_pen_pred <- glmnet(x_penalized_train, y_penalized_train,\n",
    "                           alpha = alp, lambda = best_lambda) \n",
    "    \n",
    "    return (fit_pen_pred)\n",
    "}"
   ]
  },
  {
   "cell_type": "code",
   "execution_count": 5,
   "id": "1476662d-ac17-4e04-b0f3-d304bfcbe8b4",
   "metadata": {},
   "outputs": [
    {
     "data": {
      "text/html": [
       "0.0766494889885053"
      ],
      "text/latex": [
       "0.0766494889885053"
      ],
      "text/markdown": [
       "0.0766494889885053"
      ],
      "text/plain": [
       "[1] 0.07664949"
      ]
     },
     "metadata": {},
     "output_type": "display_data"
    }
   ],
   "source": [
    "#Test the function\n",
    "net <- Train_ENet(training_sample, benchmark_feat)  #Train\n",
    "\n",
    "x_penalized_train <- training_sample %>%            #Format data\n",
    "    select(all_of(benchmark_feat)) %>% as.matrix()  \n",
    "\n",
    "#Show training mean absolute error\n",
    "err_elnet <- predict(net, x_penalized_train) - training_sample$FRET\n",
    "mean(abs(err_elnet))"
   ]
  },
  {
   "cell_type": "markdown",
   "id": "4cb62c64-46ef-4918-a4d2-41814261bb83",
   "metadata": {},
   "source": [
    "## Decision Tree\n",
    "Next we setup a decision tree, again with a hard-coded precision (number of leaves) and maximum depth."
   ]
  },
  {
   "cell_type": "code",
   "execution_count": 6,
   "id": "5ed6314d-2de3-4faf-a543-2899114f63d0",
   "metadata": {},
   "outputs": [],
   "source": [
    "#Train Decision Tree\n",
    "Train_Dec_Tree <- function (train_data, features) {\n",
    "    precision <- 0.0001 #Hard coded precision\n",
    "    depth <- 5          #Hard coded depth\n",
    "    \n",
    "    formula <- paste(\"FRET ~\", paste(features, collapse = \" + \")) # Defines the model \n",
    "    formula <- as.formula(formula)                                # Forcing formula object\n",
    "    \n",
    "    fit_tree <- rpart(formula, data = train_data,                 #Fit model\n",
    "                 cp = precision, maxdepth = depth)\n",
    "    \n",
    "    return (fit_tree)\n",
    "}"
   ]
  },
  {
   "cell_type": "code",
   "execution_count": 7,
   "id": "5cca67b1-6fe0-46dc-94ea-3d2bd31e3d72",
   "metadata": {},
   "outputs": [
    {
     "data": {
      "text/html": [
       "0.0726753256937267"
      ],
      "text/latex": [
       "0.0726753256937267"
      ],
      "text/markdown": [
       "0.0726753256937267"
      ],
      "text/plain": [
       "[1] 0.07267533"
      ]
     },
     "metadata": {},
     "output_type": "display_data"
    }
   ],
   "source": [
    "#Test the function\n",
    "tree <- Train_Dec_Tree(training_sample, benchmark_feat) #Train\n",
    "\n",
    "#Show training mean absolute error\n",
    "err_tree_train <- predict(tree, training_sample) - training_sample$FRET\n",
    "mean(abs(err_tree_train))"
   ]
  },
  {
   "cell_type": "markdown",
   "id": "7bcf90fc-49a4-4da2-a7a3-ea07999b001b",
   "metadata": {},
   "source": [
    "## Random Forest\n",
    "Next, we setup for random forests. The hyperparameters of tree sample size, terminal node cluster size, number of random trees and number of predictive variables per tree are hard coded."
   ]
  },
  {
   "cell_type": "code",
   "execution_count": 8,
   "id": "eb9aaab4-87e9-4e4f-a870-4c9f6d9b9a65",
   "metadata": {},
   "outputs": [],
   "source": [
    "#Train Random Forest\n",
    "Train_Rand_Forest <- function(train_data, features) {\n",
    "    s_size <- 10000 #Size of (random) sample for each tree\n",
    "    n_size <- 250   #Minimum size of terminal cluster\n",
    "    n_trees <- 40   #Number of random trees\n",
    "    n_var <- 3      #Number of predictive variables for each tree\n",
    "    \n",
    "    formula <- paste(\"FRET ~\", paste(features, collapse = \" + \")) # Defines the model \n",
    "    formula <- as.formula(formula)                                # Forcing formula object\n",
    "    fit_RF <- randomForest(formula, data = training_sample, sampsize = s_size,          \n",
    "                     replace = FALSE, nodesize = n_size, ntree = n_trees, mtry = n_var)   \n",
    "    \n",
    "    return (fit_RF)\n",
    "}"
   ]
  },
  {
   "cell_type": "code",
   "execution_count": 9,
   "id": "53ee5fe3-46a8-4a63-8789-59da6c88a31d",
   "metadata": {},
   "outputs": [
    {
     "data": {
      "text/html": [
       "0.06902821653549"
      ],
      "text/latex": [
       "0.06902821653549"
      ],
      "text/markdown": [
       "0.06902821653549"
      ],
      "text/plain": [
       "[1] 0.06902822"
      ]
     },
     "metadata": {},
     "output_type": "display_data"
    }
   ],
   "source": [
    "#Test the function\n",
    "forest <- Train_Rand_Forest(training_sample, benchmark_feat) #Train\n",
    "\n",
    "#Show training mean absolute error\n",
    "err_forest_train <- predict(forest, training_sample) - training_sample$FRET\n",
    "mean(abs(err_forest_train))"
   ]
  },
  {
   "cell_type": "markdown",
   "id": "def1036f-3976-4c6e-937f-7feb8f9ebd0b",
   "metadata": {},
   "source": [
    "## Boosted Decision Tree\n",
    "The boosted decision tree first requires the data to be in the XGB format. Note that we only use the training data with extreme values (in the first or fifth quantiles) to reduce training time and focus on the most impactful data points."
   ]
  },
  {
   "cell_type": "code",
   "execution_count": 10,
   "id": "e02c0b46-8def-4872-b1ca-5ac6bd924813",
   "metadata": {},
   "outputs": [],
   "source": [
    "#Format data to XGB format\n",
    "XGB_Matrix <- function(train_data, features) {\n",
    "    train_features_xgb <- train_data %>%           #Independent variable\n",
    "        filter(FRET < quantile(FRET, 0.2) |        #Select extreme values\n",
    "                   FRET > quantile(FRET, 0.8)) %>%            \n",
    "        select(all_of(features)) %>% as.matrix()\n",
    "    \n",
    "    train_label_xgb <- train_data %>%              #Dependent variable\n",
    "        filter(FRET < quantile(FRET, 0.2) |        #Select extreme values\n",
    "                   FRET > quantile(FRET, 0.8)) %>%\n",
    "        select(all_of(c(\"FRET\"))) %>% as.matrix()                     \n",
    "    \n",
    "    train_matrix_xgb <- xgb.DMatrix(data = train_features_xgb, #XGB format\n",
    "                                    label = train_label_xgb)    \n",
    "    \n",
    "    return (train_matrix_xgb)\n",
    "}"
   ]
  },
  {
   "cell_type": "markdown",
   "id": "d210e263-7766-4a13-9d04-5101a1863259",
   "metadata": {},
   "source": [
    "Again, all hyperparameters are hard-coded included the penalisation of leaves, number of trees used, and maximum tree depth."
   ]
  },
  {
   "cell_type": "code",
   "execution_count": 11,
   "id": "7a32b946-7f63-487d-8630-5705d8b6d8c8",
   "metadata": {},
   "outputs": [],
   "source": [
    "#Train boosted decision tree\n",
    "Train_Boost_Tree <- function(train_data, features) {\n",
    "    penalty <- 1  #Penalisation of of leaves\n",
    "    n_trees <- 40   #Number of trees used\n",
    "    max_depth <- 5  #Maximum tree depth\n",
    "    \n",
    "    train_matrix_xgb <- XGB_Matrix(train_data, features) #Format\n",
    "    \n",
    "    fit_xgb <- xgb.train(data = train_matrix_xgb, gamma = penalty, #Fit                     \n",
    "                  nrounds = n_trees, max_depth = max_depth, verbose = 0)\n",
    "    \n",
    "    return (fit_xgb)\n",
    "}"
   ]
  },
  {
   "cell_type": "code",
   "execution_count": 12,
   "id": "32b277f0-2abe-4d95-b593-d21d3c862a53",
   "metadata": {},
   "outputs": [
    {
     "data": {
      "text/html": [
       "0.0714220274175998"
      ],
      "text/latex": [
       "0.0714220274175998"
      ],
      "text/markdown": [
       "0.0714220274175998"
      ],
      "text/plain": [
       "[1] 0.07142203"
      ]
     },
     "metadata": {},
     "output_type": "display_data"
    }
   ],
   "source": [
    "#Test the function\n",
    "boost_tree <- Train_Boost_Tree(training_sample, benchmark_feat) #Train\n",
    "\n",
    "xgb_train <- training_sample %>%   #Format data\n",
    "    select(all_of(benchmark_feat)) %>% \n",
    "    as.matrix() \n",
    "\n",
    "#Show training mean absolute error\n",
    "err_XGB_train <- predict(boost_tree, xgb_train) - training_sample$FRET\n",
    "mean(abs(err_XGB_train))"
   ]
  },
  {
   "cell_type": "markdown",
   "id": "1d10b44b-75d0-41a1-b142-fc0695717dff",
   "metadata": {},
   "source": [
    "## Neural Net\n",
    "Finally, we have the neural network. A simple model is used that has three layers of 64, 16, and 4 nodes using the sigmoid activation function."
   ]
  },
  {
   "cell_type": "code",
   "execution_count": 13,
   "id": "e2f7044f-d5db-447d-93e9-b80ac8e9565a",
   "metadata": {},
   "outputs": [],
   "source": [
    "#Train neural net\n",
    "Train_Neural_Net <- function(train_data, features) {\n",
    "    NN_train_features <- train_data %>%           #Training features\n",
    "        select(all_of(features)) %>% as.matrix()\n",
    "    NN_train_labels <- train_data$FRET            #Training labels\n",
    "\n",
    "    #Define network structure\n",
    "    model <- keras_model_sequential()\n",
    "    model %>%\n",
    "        layer_dense(units = 64, activation = 'sigmoid', input_shape = ncol(NN_train_features)) %>%\n",
    "        layer_dense(units = 16, activation = 'sigmoid', input_shape = ncol(NN_train_features)) %>%\n",
    "        layer_dense(units = 4, activation = 'sigmoid') %>%\n",
    "        layer_dense(units = 1) # No activation means linear activation\n",
    "\n",
    "    #Compile the model\n",
    "    model %>% compile(loss = 'mean_squared_error', optimizer = optimizer_rmsprop())\n",
    "\n",
    "    #Fit the model on training data\n",
    "    model %>% fit(NN_train_features, NN_train_labels, epochs = 10, batch_size = 512)\n",
    "    \n",
    "    return (model)\n",
    "}"
   ]
  },
  {
   "cell_type": "code",
   "execution_count": 14,
   "id": "87628fc0-90bb-4e91-9cf0-9c545343f333",
   "metadata": {},
   "outputs": [
    {
     "data": {
      "text/html": [
       "0.0773982726991462"
      ],
      "text/latex": [
       "0.0773982726991462"
      ],
      "text/markdown": [
       "0.0773982726991462"
      ],
      "text/plain": [
       "[1] 0.07739827"
      ]
     },
     "metadata": {},
     "output_type": "display_data"
    }
   ],
   "source": [
    "#Test the function\n",
    "NN_train_features <- training_sample %>%                   #Format\n",
    "    select(all_of(benchmark_feat)) %>% as.matrix()\n",
    "\n",
    "model <- Train_Neural_Net(training_sample, benchmark_feat) #Train\n",
    "\n",
    "#Show training mean absolute error\n",
    "rr_NN_train <- predict(model, NN_train_features) - training_sample$FRET\n",
    "mean(abs(rr_NN_train))"
   ]
  },
  {
   "cell_type": "markdown",
   "id": "0c32f3e7-738c-48e5-9a93-3ed6ed971def",
   "metadata": {},
   "source": [
    "# Setup Model Training\n",
    "Now, we create a function that using the selected set of features, trains all of our 5 models seperately on the given training data. It returns the predictions for each of these models on the given test data."
   ]
  },
  {
   "cell_type": "code",
   "execution_count": 15,
   "id": "80f8546e-a4dd-4430-8dfa-156d5cc023f2",
   "metadata": {},
   "outputs": [],
   "source": [
    "#Train ensemble models\n",
    "Train_Ensemble_Models <- function(train_data, test_data, features) {\n",
    "    #Train elastic net\n",
    "    net <- Train_ENet(train_data, features)\n",
    "    x_penalized_test <- test_data %>%                                    \n",
    "       select(one_of(features)) %>% as.matrix()  \n",
    "    pen_pred <- predict(net, x_penalized_test)\n",
    "\n",
    "    #Train decision tree\n",
    "    tree <- Train_Dec_Tree(train_data, features)\n",
    "    tree_pred <- predict(tree, test_data)\n",
    "\n",
    "    #Train random forest\n",
    "    forest <- Train_Rand_Forest(train_data, features)\n",
    "    RF_pred <- predict(forest, test_data)\n",
    "\n",
    "    #Train boosted tree\n",
    "    boost_tree <- Train_Boost_Tree(train_data, features)\n",
    "    xgb_test <- test_data %>%                         \n",
    "        select(all_of(features)) %>% \n",
    "        as.matrix() \n",
    "    XGB_pred <- predict(boost_tree, xgb_test) \n",
    "\n",
    "    #Train Neural Net\n",
    "    model <- Train_Neural_Net(train_data, features)\n",
    "    NN_test <- test_data %>% \n",
    "        select(all_of(features)) %>% as.matrix()\n",
    "    NN_pred <- predict(model, NN_test)\n",
    "\n",
    "    #Store predictions and return\n",
    "    predictions <- cbind(pen_pred, tree_pred, RF_pred, XGB_pred, NN_pred)\n",
    "    colnames(predictions) <- c(\"Pen_reg\", \"Tree\", \"RF\", \"XGB\", \"NN\")\n",
    "    return (predictions)\n",
    "}"
   ]
  },
  {
   "cell_type": "code",
   "execution_count": 16,
   "id": "23db6980-3419-46ec-ba05-e1e0eb27032e",
   "metadata": {},
   "outputs": [
    {
     "data": {
      "text/html": [
       "<table class=\"dataframe\">\n",
       "<caption>A matrix: 6 × 5 of type dbl</caption>\n",
       "<thead>\n",
       "\t<tr><th></th><th scope=col>Pen_reg</th><th scope=col>Tree</th><th scope=col>RF</th><th scope=col>XGB</th><th scope=col>NN</th></tr>\n",
       "</thead>\n",
       "<tbody>\n",
       "\t<tr><th scope=row>1</th><td>0.017215035</td><td> 0.013226401</td><td> 0.016347659</td><td>-0.01580454</td><td>0.006197676</td></tr>\n",
       "\t<tr><th scope=row>2</th><td>0.014504626</td><td> 0.035395046</td><td> 0.008809728</td><td> 0.06131855</td><td>0.005897887</td></tr>\n",
       "\t<tr><th scope=row>3</th><td>0.007069302</td><td> 0.006723391</td><td>-0.023998467</td><td>-0.03154884</td><td>0.006008334</td></tr>\n",
       "\t<tr><th scope=row>4</th><td>0.006935380</td><td> 0.006723391</td><td>-0.003666540</td><td>-0.00537501</td><td>0.006314121</td></tr>\n",
       "\t<tr><th scope=row>5</th><td>0.015728066</td><td> 0.035395046</td><td> 0.037690531</td><td> 0.06131855</td><td>0.006317325</td></tr>\n",
       "\t<tr><th scope=row>6</th><td>0.017246463</td><td>-0.024503385</td><td>-0.037683829</td><td>-0.07820705</td><td>0.006316923</td></tr>\n",
       "</tbody>\n",
       "</table>\n"
      ],
      "text/latex": [
       "A matrix: 6 × 5 of type dbl\n",
       "\\begin{tabular}{r|lllll}\n",
       "  & Pen\\_reg & Tree & RF & XGB & NN\\\\\n",
       "\\hline\n",
       "\t1 & 0.017215035 &  0.013226401 &  0.016347659 & -0.01580454 & 0.006197676\\\\\n",
       "\t2 & 0.014504626 &  0.035395046 &  0.008809728 &  0.06131855 & 0.005897887\\\\\n",
       "\t3 & 0.007069302 &  0.006723391 & -0.023998467 & -0.03154884 & 0.006008334\\\\\n",
       "\t4 & 0.006935380 &  0.006723391 & -0.003666540 & -0.00537501 & 0.006314121\\\\\n",
       "\t5 & 0.015728066 &  0.035395046 &  0.037690531 &  0.06131855 & 0.006317325\\\\\n",
       "\t6 & 0.017246463 & -0.024503385 & -0.037683829 & -0.07820705 & 0.006316923\\\\\n",
       "\\end{tabular}\n"
      ],
      "text/markdown": [
       "\n",
       "A matrix: 6 × 5 of type dbl\n",
       "\n",
       "| <!--/--> | Pen_reg | Tree | RF | XGB | NN |\n",
       "|---|---|---|---|---|---|\n",
       "| 1 | 0.017215035 |  0.013226401 |  0.016347659 | -0.01580454 | 0.006197676 |\n",
       "| 2 | 0.014504626 |  0.035395046 |  0.008809728 |  0.06131855 | 0.005897887 |\n",
       "| 3 | 0.007069302 |  0.006723391 | -0.023998467 | -0.03154884 | 0.006008334 |\n",
       "| 4 | 0.006935380 |  0.006723391 | -0.003666540 | -0.00537501 | 0.006314121 |\n",
       "| 5 | 0.015728066 |  0.035395046 |  0.037690531 |  0.06131855 | 0.006317325 |\n",
       "| 6 | 0.017246463 | -0.024503385 | -0.037683829 | -0.07820705 | 0.006316923 |\n",
       "\n"
      ],
      "text/plain": [
       "  Pen_reg     Tree         RF           XGB         NN         \n",
       "1 0.017215035  0.013226401  0.016347659 -0.01580454 0.006197676\n",
       "2 0.014504626  0.035395046  0.008809728  0.06131855 0.005897887\n",
       "3 0.007069302  0.006723391 -0.023998467 -0.03154884 0.006008334\n",
       "4 0.006935380  0.006723391 -0.003666540 -0.00537501 0.006314121\n",
       "5 0.015728066  0.035395046  0.037690531  0.06131855 0.006317325\n",
       "6 0.017246463 -0.024503385 -0.037683829 -0.07820705 0.006316923"
      ]
     },
     "metadata": {},
     "output_type": "display_data"
    }
   ],
   "source": [
    "#Test ensemble training function - show model predictions\n",
    "model_preds <- Train_Ensemble_Models(training_sample, training_sample, benchmark_feat)\n",
    "head(model_preds)"
   ]
  },
  {
   "cell_type": "markdown",
   "id": "c4d100fd-02a4-4c56-b9d3-43f825e1266f",
   "metadata": {},
   "source": [
    "# Calculate Ensemble Weights\n",
    "\n",
    "Once we train our models seperately, they can be combined to form an ensemble portfolio.\n",
    "\n",
    "## Compute Model Errors\n",
    "\n",
    "First, examine the error of the individual model predictions."
   ]
  },
  {
   "cell_type": "code",
   "execution_count": 17,
   "id": "203afd47-5aac-4ac3-aed9-5e0da49046d8",
   "metadata": {},
   "outputs": [
    {
     "data": {
      "text/html": [
       "<table class=\"dataframe\">\n",
       "<caption>A matrix: 6 × 5 of type dbl</caption>\n",
       "<thead>\n",
       "\t<tr><th></th><th scope=col>Pen_reg</th><th scope=col>Tree</th><th scope=col>RF</th><th scope=col>XGB</th><th scope=col>NN</th></tr>\n",
       "</thead>\n",
       "<tbody>\n",
       "\t<tr><th scope=row>1</th><td>-0.10534996</td><td>-0.109338599</td><td>-0.106217341</td><td>-0.13836954</td><td>-0.11636732</td></tr>\n",
       "\t<tr><th scope=row>2</th><td> 0.05851663</td><td> 0.079407046</td><td> 0.052821728</td><td> 0.10533055</td><td> 0.04990989</td></tr>\n",
       "\t<tr><th scope=row>3</th><td> 0.17240830</td><td> 0.172062391</td><td> 0.141340533</td><td> 0.13379016</td><td> 0.17134733</td></tr>\n",
       "\t<tr><th scope=row>4</th><td>-0.04132762</td><td>-0.041539609</td><td>-0.051929540</td><td>-0.05363801</td><td>-0.04194888</td></tr>\n",
       "\t<tr><th scope=row>5</th><td>-0.01715793</td><td> 0.002509046</td><td> 0.004804531</td><td> 0.02843255</td><td>-0.02656868</td></tr>\n",
       "\t<tr><th scope=row>6</th><td> 0.11766246</td><td> 0.075912615</td><td> 0.062732171</td><td> 0.02220895</td><td> 0.10673292</td></tr>\n",
       "</tbody>\n",
       "</table>\n"
      ],
      "text/latex": [
       "A matrix: 6 × 5 of type dbl\n",
       "\\begin{tabular}{r|lllll}\n",
       "  & Pen\\_reg & Tree & RF & XGB & NN\\\\\n",
       "\\hline\n",
       "\t1 & -0.10534996 & -0.109338599 & -0.106217341 & -0.13836954 & -0.11636732\\\\\n",
       "\t2 &  0.05851663 &  0.079407046 &  0.052821728 &  0.10533055 &  0.04990989\\\\\n",
       "\t3 &  0.17240830 &  0.172062391 &  0.141340533 &  0.13379016 &  0.17134733\\\\\n",
       "\t4 & -0.04132762 & -0.041539609 & -0.051929540 & -0.05363801 & -0.04194888\\\\\n",
       "\t5 & -0.01715793 &  0.002509046 &  0.004804531 &  0.02843255 & -0.02656868\\\\\n",
       "\t6 &  0.11766246 &  0.075912615 &  0.062732171 &  0.02220895 &  0.10673292\\\\\n",
       "\\end{tabular}\n"
      ],
      "text/markdown": [
       "\n",
       "A matrix: 6 × 5 of type dbl\n",
       "\n",
       "| <!--/--> | Pen_reg | Tree | RF | XGB | NN |\n",
       "|---|---|---|---|---|---|\n",
       "| 1 | -0.10534996 | -0.109338599 | -0.106217341 | -0.13836954 | -0.11636732 |\n",
       "| 2 |  0.05851663 |  0.079407046 |  0.052821728 |  0.10533055 |  0.04990989 |\n",
       "| 3 |  0.17240830 |  0.172062391 |  0.141340533 |  0.13379016 |  0.17134733 |\n",
       "| 4 | -0.04132762 | -0.041539609 | -0.051929540 | -0.05363801 | -0.04194888 |\n",
       "| 5 | -0.01715793 |  0.002509046 |  0.004804531 |  0.02843255 | -0.02656868 |\n",
       "| 6 |  0.11766246 |  0.075912615 |  0.062732171 |  0.02220895 |  0.10673292 |\n",
       "\n"
      ],
      "text/plain": [
       "  Pen_reg     Tree         RF           XGB         NN         \n",
       "1 -0.10534996 -0.109338599 -0.106217341 -0.13836954 -0.11636732\n",
       "2  0.05851663  0.079407046  0.052821728  0.10533055  0.04990989\n",
       "3  0.17240830  0.172062391  0.141340533  0.13379016  0.17134733\n",
       "4 -0.04132762 -0.041539609 -0.051929540 -0.05363801 -0.04194888\n",
       "5 -0.01715793  0.002509046  0.004804531  0.02843255 -0.02656868\n",
       "6  0.11766246  0.075912615  0.062732171  0.02220895  0.10673292"
      ]
     },
     "metadata": {},
     "output_type": "display_data"
    }
   ],
   "source": [
    "#Show individual model error\n",
    "ensemble_errors <- model_preds - training_sample$FRET\n",
    "head(ensemble_errors)"
   ]
  },
  {
   "cell_type": "markdown",
   "id": "26144195-aae4-4747-846c-7498662b744a",
   "metadata": {},
   "source": [
    "These errors can be used to check model correlation which is key for an ensemble approach."
   ]
  },
  {
   "cell_type": "code",
   "execution_count": 18,
   "id": "0ce4b3e1-4c38-420e-817a-e3fd791f79b3",
   "metadata": {},
   "outputs": [
    {
     "data": {
      "text/html": [
       "<table class=\"dataframe\">\n",
       "<caption>A matrix: 5 × 5 of type dbl</caption>\n",
       "<thead>\n",
       "\t<tr><th></th><th scope=col>Pen_reg</th><th scope=col>Tree</th><th scope=col>RF</th><th scope=col>XGB</th><th scope=col>NN</th></tr>\n",
       "</thead>\n",
       "<tbody>\n",
       "\t<tr><th scope=row>Pen_reg</th><td>1.0000000</td><td>0.9331429</td><td>0.9442472</td><td>0.8364301</td><td>0.9947364</td></tr>\n",
       "\t<tr><th scope=row>Tree</th><td>0.9331429</td><td>1.0000000</td><td>0.9444912</td><td>0.9153203</td><td>0.9279569</td></tr>\n",
       "\t<tr><th scope=row>RF</th><td>0.9442472</td><td>0.9444912</td><td>1.0000000</td><td>0.9319004</td><td>0.9415794</td></tr>\n",
       "\t<tr><th scope=row>XGB</th><td>0.8364301</td><td>0.9153203</td><td>0.9319004</td><td>1.0000000</td><td>0.8275844</td></tr>\n",
       "\t<tr><th scope=row>NN</th><td>0.9947364</td><td>0.9279569</td><td>0.9415794</td><td>0.8275844</td><td>1.0000000</td></tr>\n",
       "</tbody>\n",
       "</table>\n"
      ],
      "text/latex": [
       "A matrix: 5 × 5 of type dbl\n",
       "\\begin{tabular}{r|lllll}\n",
       "  & Pen\\_reg & Tree & RF & XGB & NN\\\\\n",
       "\\hline\n",
       "\tPen\\_reg & 1.0000000 & 0.9331429 & 0.9442472 & 0.8364301 & 0.9947364\\\\\n",
       "\tTree & 0.9331429 & 1.0000000 & 0.9444912 & 0.9153203 & 0.9279569\\\\\n",
       "\tRF & 0.9442472 & 0.9444912 & 1.0000000 & 0.9319004 & 0.9415794\\\\\n",
       "\tXGB & 0.8364301 & 0.9153203 & 0.9319004 & 1.0000000 & 0.8275844\\\\\n",
       "\tNN & 0.9947364 & 0.9279569 & 0.9415794 & 0.8275844 & 1.0000000\\\\\n",
       "\\end{tabular}\n"
      ],
      "text/markdown": [
       "\n",
       "A matrix: 5 × 5 of type dbl\n",
       "\n",
       "| <!--/--> | Pen_reg | Tree | RF | XGB | NN |\n",
       "|---|---|---|---|---|---|\n",
       "| Pen_reg | 1.0000000 | 0.9331429 | 0.9442472 | 0.8364301 | 0.9947364 |\n",
       "| Tree | 0.9331429 | 1.0000000 | 0.9444912 | 0.9153203 | 0.9279569 |\n",
       "| RF | 0.9442472 | 0.9444912 | 1.0000000 | 0.9319004 | 0.9415794 |\n",
       "| XGB | 0.8364301 | 0.9153203 | 0.9319004 | 1.0000000 | 0.8275844 |\n",
       "| NN | 0.9947364 | 0.9279569 | 0.9415794 | 0.8275844 | 1.0000000 |\n",
       "\n"
      ],
      "text/plain": [
       "        Pen_reg   Tree      RF        XGB       NN       \n",
       "Pen_reg 1.0000000 0.9331429 0.9442472 0.8364301 0.9947364\n",
       "Tree    0.9331429 1.0000000 0.9444912 0.9153203 0.9279569\n",
       "RF      0.9442472 0.9444912 1.0000000 0.9319004 0.9415794\n",
       "XGB     0.8364301 0.9153203 0.9319004 1.0000000 0.8275844\n",
       "NN      0.9947364 0.9279569 0.9415794 0.8275844 1.0000000"
      ]
     },
     "metadata": {},
     "output_type": "display_data"
    }
   ],
   "source": [
    "#Show correlation\n",
    "cor(ensemble_errors)"
   ]
  },
  {
   "cell_type": "markdown",
   "id": "bdc02c61-7750-4b83-904b-78b2f8894145",
   "metadata": {},
   "source": [
    "We can see that for our benchmark features, at least on the training data, most of our models are heavily correlated. This means that the benefit from the ensemble approach is reduced. The neural network and boosted decision tree are by far the least correlated, so they will add valuable information to the ensemble.\n",
    "\n",
    "Next, view individual model performance ()mean absolute error ."
   ]
  },
  {
   "cell_type": "code",
   "execution_count": 19,
   "id": "54e99d2f-d92a-49e8-9f27-733e245d9f46",
   "metadata": {},
   "outputs": [
    {
     "data": {
      "text/html": [
       "<style>\n",
       ".dl-inline {width: auto; margin:0; padding: 0}\n",
       ".dl-inline>dt, .dl-inline>dd {float: none; width: auto; display: inline-block}\n",
       ".dl-inline>dt::after {content: \":\\0020\"; padding-right: .5ex}\n",
       ".dl-inline>dt:not(:first-of-type) {padding-left: .5ex}\n",
       "</style><dl class=dl-inline><dt>Pen_reg</dt><dd>0.0766494889885053</dd><dt>Tree</dt><dd>0.0726753256937267</dd><dt>RF</dt><dd>0.0691398775838575</dd><dt>XGB</dt><dd>0.0714220274175998</dd><dt>NN</dt><dd>0.0764834105734548</dd></dl>\n"
      ],
      "text/latex": [
       "\\begin{description*}\n",
       "\\item[Pen\\textbackslash{}\\_reg] 0.0766494889885053\n",
       "\\item[Tree] 0.0726753256937267\n",
       "\\item[RF] 0.0691398775838575\n",
       "\\item[XGB] 0.0714220274175998\n",
       "\\item[NN] 0.0764834105734548\n",
       "\\end{description*}\n"
      ],
      "text/markdown": [
       "Pen_reg\n",
       ":   0.0766494889885053Tree\n",
       ":   0.0726753256937267RF\n",
       ":   0.0691398775838575XGB\n",
       ":   0.0714220274175998NN\n",
       ":   0.0764834105734548\n",
       "\n"
      ],
      "text/plain": [
       "   Pen_reg       Tree         RF        XGB         NN \n",
       "0.07664949 0.07267533 0.06913988 0.07142203 0.07648341 "
      ]
     },
     "metadata": {},
     "output_type": "display_data"
    }
   ],
   "source": [
    "apply(abs(ensemble_errors), 2, mean);"
   ]
  },
  {
   "cell_type": "markdown",
   "id": "c212e75f-d75b-455b-bf09-ac0409875dba",
   "metadata": {},
   "source": [
    "We can see that the random forest performs the best on the training data, while the neural network and penalized regression underform."
   ]
  },
  {
   "cell_type": "markdown",
   "id": "c62200d4-3109-48bd-ae48-973a15790c1f",
   "metadata": {},
   "source": [
    "## Compute Weights\n",
    "\n",
    "Now, we can create a function that uses these errors to find the optimal weighting of these models that minimizes sample error. We want to enforce positive weights within our ensemble algorithm since adding leverage at the expense of poorly performing models worsens overfitting. So, we use the quadprog package to apply constraints to our optimization problem, ensuring that our weights sum to 1, and are positive."
   ]
  },
  {
   "cell_type": "code",
   "execution_count": 20,
   "id": "4d353bb3-8ad3-4286-bfc5-24e3985554ec",
   "metadata": {},
   "outputs": [],
   "source": [
    "#Use prediction errors to create optimal weights\n",
    "Compute_Ensemble_Weights <- function(ensemble_errors) {\n",
    "    nb_mods <- ncol(ensemble_errors)\n",
    "    Sigma <- t(ensemble_errors) %*% ensemble_errors #Unscaled covariance matrix\n",
    "    nb_mods <- nrow(Sigma)                  #Number of models\n",
    "    w_const <- solve.QP(Dmat = Sigma,       #D matrix =  Sigma\n",
    "                  dvec = rep(0, nb_mods),   #Zero vector\n",
    "                  Amat = rbind(rep(1, nb_mods), diag(nb_mods)) %>% t(), #A matrix for constraints\n",
    "                  bvec = c(1,rep(0, nb_mods)),                          #b vector for constraints\n",
    "                  meq = 1                   #1 line of equality constraints, others = inequalities\n",
    "                  )\n",
    "    return (w_const$solution)          # Solution\n",
    "}"
   ]
  },
  {
   "cell_type": "code",
   "execution_count": 21,
   "id": "7461c435-23d3-4ff3-ad00-52885c71c956",
   "metadata": {},
   "outputs": [
    {
     "data": {
      "text/html": [
       "<style>\n",
       ".list-inline {list-style: none; margin:0; padding: 0}\n",
       ".list-inline>li {display: inline-block}\n",
       ".list-inline>li:not(:last-child)::after {content: \"\\00b7\"; padding: 0 .5ex}\n",
       "</style>\n",
       "<ol class=list-inline><li>0</li><li>0.0951</li><li>0.1839</li><li>0.6881</li><li>0.0328</li></ol>\n"
      ],
      "text/latex": [
       "\\begin{enumerate*}\n",
       "\\item 0\n",
       "\\item 0.0951\n",
       "\\item 0.1839\n",
       "\\item 0.6881\n",
       "\\item 0.0328\n",
       "\\end{enumerate*}\n"
      ],
      "text/markdown": [
       "1. 0\n",
       "2. 0.0951\n",
       "3. 0.1839\n",
       "4. 0.6881\n",
       "5. 0.0328\n",
       "\n",
       "\n"
      ],
      "text/plain": [
       "[1] 0.0000 0.0951 0.1839 0.6881 0.0328"
      ]
     },
     "metadata": {},
     "output_type": "display_data"
    }
   ],
   "source": [
    "#Test ensemble weighting function\n",
    "ensemble_weights <- Compute_Ensemble_Weights(ensemble_errors)\n",
    "round(ensemble_weights, 4)"
   ]
  },
  {
   "cell_type": "markdown",
   "id": "ccef4a9a-f4eb-4324-8a51-e619277d0e39",
   "metadata": {},
   "source": [
    "Our optimal solution for the benchmark features does not use the penalized regression, or the neural network. This is not surprising since they performed poorly over the training period."
   ]
  },
  {
   "cell_type": "markdown",
   "id": "4f23c0bf-827f-459e-be03-2ef67a306882",
   "metadata": {},
   "source": [
    "## Combined Ensemble Returns"
   ]
  },
  {
   "cell_type": "markdown",
   "id": "7f7d675e-960e-46f7-996b-17a13c961bf5",
   "metadata": {},
   "source": [
    "Once we have ensemble weightings, we can use our ensemble model to predict returns, and evaluate its performance. To accomplish this, we create a function to combine our individual model predictions based on the given weights."
   ]
  },
  {
   "cell_type": "code",
   "execution_count": 22,
   "id": "cdff843a-a23a-49cf-88b7-7b7b5c220c38",
   "metadata": {},
   "outputs": [],
   "source": [
    "#Compute ensemble predictions based on weighting\n",
    "Compute_Ensemble_Pred <- function(preds, wts) {\n",
    "    ens_preds <- as_tibble(preds) %>%\n",
    "        mutate(preds = Pen_reg * wts[1] + Tree * wts[2] + #Compute prediction\n",
    "               RF * wts[3] + XGB * wts[4] + NN * wts[5]) %>%\n",
    "        select(preds)                                     #Return just prediction\n",
    "    \n",
    "    return (ens_preds$preds)\n",
    "}"
   ]
  },
  {
   "cell_type": "code",
   "execution_count": 23,
   "id": "337e31bf-5219-4bae-a0cf-5323dc908c1c",
   "metadata": {},
   "outputs": [
    {
     "data": {
      "text/html": [
       "0.0694819210693858"
      ],
      "text/latex": [
       "0.0694819210693858"
      ],
      "text/markdown": [
       "0.0694819210693858"
      ],
      "text/plain": [
       "[1] 0.06948192"
      ]
     },
     "metadata": {},
     "output_type": "display_data"
    }
   ],
   "source": [
    "#Test ensemble prediction function on training data\n",
    "ensemble_preds <- Compute_Ensemble_Pred(model_preds, ensemble_weights)\n",
    "\n",
    "#Compute mean absolute error of predictions\n",
    "opt_ens_error <- ensemble_preds - training_sample$FRET\n",
    "mean(abs(opt_ens_error))"
   ]
  },
  {
   "cell_type": "markdown",
   "id": "998c9d86-8526-4256-94f7-594ab51cc36a",
   "metadata": {},
   "source": [
    "We can see that the ensemble approach has similar performance to the best model (random forest) over the training data. It should generalize better to testing data, with the difference in models reducing overfitting."
   ]
  },
  {
   "cell_type": "markdown",
   "id": "a1e16d95-8141-4c86-9236-bdcc3b94d3be",
   "metadata": {},
   "source": [
    "# Creating Ensemble Portfolio\n",
    "\n",
    "We now return to the investing world, and create a portfolio based on our predictions. We split stocks into quantiles based on their predicted returns and create the 0-cost portfolio by longing the highest decile and shorting the lowest decile. We will simply apply an equal-weighted approach within stocks for simplicity, though the model performance could be improved with further optimization."
   ]
  },
  {
   "cell_type": "code",
   "execution_count": 24,
   "id": "364c62f2-ca6f-4a56-8be8-b845b68312d4",
   "metadata": {},
   "outputs": [],
   "source": [
    "Compute_Ensemble_Returns <- function (test_data, ens_pred) {\n",
    "    #Return to stock world with both our predicted and actual returns\n",
    "    stock_data <- test_data %>%\n",
    "        select(all_of(c(\"DATE\", \"PERMNO\", \"FRET\"))) %>%\n",
    "        mutate(PRED = ens_pred)         #Reformat predictions\n",
    "\n",
    "    #Compute realized returns of our portfolio\n",
    "    ensemble_returns <- stock_data %>%\n",
    "        group_by(DATE) %>%\n",
    "        mutate(QUANT = ntile(PRED, 10)) %>%     #Compute predicted return deciles\n",
    "        summarise(LONGRET = mean(if_else(QUANT == 10, FRET, NA), #Long leg returns\n",
    "                                 na.rm = TRUE),\n",
    "                  SHORTRET = mean(if_else(QUANT == 1, FRET, NA), #Short leg returns\n",
    "                                  na.rm = TRUE)) %>%\n",
    "        mutate(RET = LONGRET - SHORTRET) %>%    #Portfolio returns\n",
    "        select(all_of(c(\"DATE\", \"RET\"))) %>%\n",
    "        ungroup()    \n",
    "    \n",
    "    return (ensemble_returns)\n",
    "}"
   ]
  },
  {
   "cell_type": "code",
   "execution_count": 25,
   "id": "c0f5a8c5-bd3d-4900-8abb-62eaec653574",
   "metadata": {},
   "outputs": [
    {
     "data": {
      "text/html": [
       "<table class=\"dataframe\">\n",
       "<caption>A tibble: 6 × 2</caption>\n",
       "<thead>\n",
       "\t<tr><th scope=col>DATE</th><th scope=col>RET</th></tr>\n",
       "\t<tr><th scope=col>&lt;date&gt;</th><th scope=col>&lt;dbl&gt;</th></tr>\n",
       "</thead>\n",
       "<tbody>\n",
       "\t<tr><td>2004-01-31</td><td>0.015224694</td></tr>\n",
       "\t<tr><td>2004-02-29</td><td>0.024321452</td></tr>\n",
       "\t<tr><td>2004-03-31</td><td>0.043530598</td></tr>\n",
       "\t<tr><td>2004-04-30</td><td>0.003686735</td></tr>\n",
       "\t<tr><td>2004-05-31</td><td>0.054851412</td></tr>\n",
       "\t<tr><td>2004-06-30</td><td>0.035377873</td></tr>\n",
       "</tbody>\n",
       "</table>\n"
      ],
      "text/latex": [
       "A tibble: 6 × 2\n",
       "\\begin{tabular}{ll}\n",
       " DATE & RET\\\\\n",
       " <date> & <dbl>\\\\\n",
       "\\hline\n",
       "\t 2004-01-31 & 0.015224694\\\\\n",
       "\t 2004-02-29 & 0.024321452\\\\\n",
       "\t 2004-03-31 & 0.043530598\\\\\n",
       "\t 2004-04-30 & 0.003686735\\\\\n",
       "\t 2004-05-31 & 0.054851412\\\\\n",
       "\t 2004-06-30 & 0.035377873\\\\\n",
       "\\end{tabular}\n"
      ],
      "text/markdown": [
       "\n",
       "A tibble: 6 × 2\n",
       "\n",
       "| DATE &lt;date&gt; | RET &lt;dbl&gt; |\n",
       "|---|---|\n",
       "| 2004-01-31 | 0.015224694 |\n",
       "| 2004-02-29 | 0.024321452 |\n",
       "| 2004-03-31 | 0.043530598 |\n",
       "| 2004-04-30 | 0.003686735 |\n",
       "| 2004-05-31 | 0.054851412 |\n",
       "| 2004-06-30 | 0.035377873 |\n",
       "\n"
      ],
      "text/plain": [
       "  DATE       RET        \n",
       "1 2004-01-31 0.015224694\n",
       "2 2004-02-29 0.024321452\n",
       "3 2004-03-31 0.043530598\n",
       "4 2004-04-30 0.003686735\n",
       "5 2004-05-31 0.054851412\n",
       "6 2004-06-30 0.035377873"
      ]
     },
     "metadata": {},
     "output_type": "display_data"
    }
   ],
   "source": [
    "ens_ret <- Compute_Ensemble_Returns(training_sample, ensemble_preds)\n",
    "head(ens_ret)"
   ]
  },
  {
   "cell_type": "markdown",
   "id": "c54a70f7-3273-4857-bd3c-a290d7216dde",
   "metadata": {},
   "source": [
    "We now have the returns of the stock portfolio for each date, and can use this for our analysis."
   ]
  },
  {
   "cell_type": "markdown",
   "id": "dfb2d7f8-0819-434f-ad99-8d21f9c84b5d",
   "metadata": {},
   "source": [
    "# Putting It All Together\n",
    "\n",
    "Now, to be able to test our different portfolio combinations, we create a wrapper function that does all of the above steps. Given our input data, test data, and a list of features, we do the following:\n",
    "1. Train the 5 models individually on the training data.\n",
    "2. Compute the optimal ensemble algorithm weightings.\n",
    "3. Predict future returns on our test data for individual models.\n",
    "4. Create our ensemble stock portfolios for both the optimal and equal weightings.\n",
    "5. Return the performance (returns) of these two portfolios for our test data."
   ]
  },
  {
   "cell_type": "code",
   "execution_count": 26,
   "id": "b681348f-6980-484d-bfc9-3fe93ea67271",
   "metadata": {},
   "outputs": [],
   "source": [
    "Ensemble_Performance <- function(train_data, test_data, feat) {\n",
    "    #Train Individual Models\n",
    "    model_train_preds <- Train_Ensemble_Models(train_data, train_data, feat)\n",
    "    ens_train_errors <- model_train_preds - train_data$FRET\n",
    "\n",
    "    #Compute Ensemble Weights\n",
    "    ens_opt_wts <- Compute_Ensemble_Weights(ens_train_errors) #Minimum variance weighting\n",
    "    ens_eq_wts <- rep(0.2, 5)                                 #Equal weighting\n",
    "\n",
    "    #Predict returns on test data\n",
    "    test_preds <- Train_Ensemble_Models(train_data, test_data, feat)\n",
    "\n",
    "    #Create stock portfolios from ensemble predictions\n",
    "    ens_opt_preds <- Compute_Ensemble_Pred(test_preds, ens_opt_wts)\n",
    "    ens_opt_ret <- Compute_Ensemble_Returns(test_data, ens_opt_preds) %>%\n",
    "        rename(OPT_RET = RET)\n",
    "\n",
    "    ens_eq_preds <- Compute_Ensemble_Pred(test_preds, ens_eq_wts)\n",
    "    ens_eq_ret <- Compute_Ensemble_Returns(test_data, ens_eq_preds) %>%\n",
    "        rename(EQ_RET = RET)\n",
    "\n",
    "    #Return results for both weighting methods\n",
    "    return (left_join(ens_opt_ret, ens_eq_ret, by = c(\"DATE\")))\n",
    "}"
   ]
  },
  {
   "cell_type": "markdown",
   "id": "12ca5c4f-37aa-4e08-8c27-403e722ae799",
   "metadata": {},
   "source": [
    "## Summarizing Results\n",
    "\n",
    "Once we do the entire training and prediction process, we now just need to summarize the results.\n",
    "\n",
    "First, we define a function to print several basic summary statistics given the performance and name of a model."
   ]
  },
  {
   "cell_type": "code",
   "execution_count": 27,
   "id": "4294a4b4-4f04-4038-a360-2955880c0968",
   "metadata": {},
   "outputs": [],
   "source": [
    "#Pring summary statistics\n",
    "Basic_Summary_Stat <- function(values, name) {\n",
    "    mean <- mean(values) * 12\n",
    "    std <- sd(values) * sqrt(12)\n",
    "    sharpe <- mean / std\n",
    "    kurt <- kurtosis(values)\n",
    "    skew <- skewness(values)\n",
    "    \n",
    "    mean_text <- as.character(round(mean, 4))\n",
    "    std_text <- as.character(round(std, 4))\n",
    "    sharpe_text <- as.character(round(sharpe, 4))\n",
    "    kurt_text <- as.character(round(kurt, 4))\n",
    "    skew_text <- as.character(round(skew, 4))\n",
    "\n",
    "    text <- paste(\"For \",name,\" the average annual return is \", mean_text, \n",
    "                  \", the standard deviation is \", std_text,\n",
    "                  \" and the Sharpe Ratio is \", sharpe_text,\". The skew is \",\n",
    "                 skew_text,\" and the kurtosis is \",kurt_text, sep = \"\")\n",
    "    print(text)\n",
    "}"
   ]
  },
  {
   "cell_type": "markdown",
   "id": "39ecac7f-5a7b-4765-923a-7ad2f2cf3a72",
   "metadata": {},
   "source": [
    "This function produces a plot over time of the returns of all of the models provided in the data frame. The plot title needs to be provided."
   ]
  },
  {
   "cell_type": "code",
   "execution_count": 28,
   "id": "20d127a1-8d4e-4eba-be28-dfba4d6223e4",
   "metadata": {},
   "outputs": [],
   "source": [
    "#Plot returns of models\n",
    "Plot_Returns <- function(data, name) {\n",
    "    data %>%\n",
    "    pivot_longer(cols = -DATE, names_to=\"Portfolio\", values_to=\"returns\") %>%\n",
    "    ggplot(aes(x = DATE, y = returns)) + \n",
    "    ggtitle(paste(\"Plot of Returns Over Time for\", name)) +\n",
    "    geom_line(aes(linetype = Portfolio, color = Portfolio)) + \n",
    "    xlab(\"Time\") + ylab(\"Portfolio Returns\") +\n",
    "    theme(plot.title = element_text(hjust = 0.5))\n",
    "}"
   ]
  },
  {
   "cell_type": "markdown",
   "id": "13a72db7-5e16-45cd-9bae-915cb4d0a252",
   "metadata": {},
   "source": [
    "# Testing Portfolios\n",
    "\n",
    "We finally have all of our functions created, so we can now use them to test a variety of different portfolio strategies."
   ]
  },
  {
   "cell_type": "markdown",
   "id": "fba0b18c-f559-49f0-8cde-2bcb9c851dba",
   "metadata": {},
   "source": [
    "## Original WML Portfolio (No Machine Learning)\n",
    "\n",
    "First, we look at the base WML portfolio as defined by Fama-French, without applying any machine learning."
   ]
  },
  {
   "cell_type": "code",
   "execution_count": 29,
   "id": "e86c9ddf-cd7f-426c-9a53-92fe98647b03",
   "metadata": {},
   "outputs": [],
   "source": [
    "#Format portfolio\n",
    "WML_perf <- testing_sample %>%\n",
    "    select(all_of(c(\"DATE\", \"WML\"))) %>%\n",
    "    setNames(c(\"DATE\", \"RET\")) %>%\n",
    "    unique()"
   ]
  },
  {
   "cell_type": "code",
   "execution_count": 30,
   "id": "d1f3e0d0-4816-4ce3-a984-ebf053e714c2",
   "metadata": {},
   "outputs": [
    {
     "name": "stdout",
     "output_type": "stream",
     "text": [
      "[1] \"For Base WML the average annual return is 0.009, the standard deviation is 0.1369 and the Sharpe Ratio is 0.0657. The skew is -0.7333 and the kurtosis is 2.0409\"\n"
     ]
    }
   ],
   "source": [
    "#Print summary statistics\n",
    "Basic_Summary_Stat(WML_perf$RET, \"Base WML\")"
   ]
  },
  {
   "cell_type": "code",
   "execution_count": 31,
   "id": "c65f76e0-491e-4324-ae95-e646096dc005",
   "metadata": {},
   "outputs": [
    {
     "data": {
      "image/png": "[encoded data removed]",
      "text/plain": [
       "plot without title"
      ]
     },
     "metadata": {
      "image/png": {
       "height": 420,
       "width": 420
      }
     },
     "output_type": "display_data"
    }
   ],
   "source": [
    "#Plot returns\n",
    "Plot_Returns(WML_perf, \"Base WML\")"
   ]
  },
  {
   "cell_type": "markdown",
   "id": "1beef6c7-0d98-400f-b94f-c8fda3b50e52",
   "metadata": {},
   "source": [
    "## Benchmark Portfolio\n",
    "\n",
    "Next, we have our benchmark portfolio which uses the momentum factor without any risk adjustment."
   ]
  },
  {
   "cell_type": "code",
   "execution_count": 32,
   "id": "b2348cb1-f436-4122-9f19-2ea6a4947d90",
   "metadata": {},
   "outputs": [],
   "source": [
    "#Test portfolio\n",
    "bench_feat <- c(\"XRM\", \"MCAP\", \"BMKT\", \"RET11\")\n",
    "test_bench_perf <- Ensemble_Performance(training_sample, testing_sample, bench_feat)"
   ]
  },
  {
   "cell_type": "code",
   "execution_count": 33,
   "id": "9687af31-42ec-400d-9a92-0187e69ba171",
   "metadata": {},
   "outputs": [
    {
     "name": "stdout",
     "output_type": "stream",
     "text": [
      "[1] \"For Benchmark Optimal Weight the average annual return is 0.0884, the standard deviation is 0.1509 and the Sharpe Ratio is 0.5859. The skew is 1.5259 and the kurtosis is 7.2322\"\n",
      "[1] \"For Benchmark Equal Weight the average annual return is 0.1086, the standard deviation is 0.1872 and the Sharpe Ratio is 0.5802. The skew is 1.3261 and the kurtosis is 4.5167\"\n"
     ]
    }
   ],
   "source": [
    "#Print summary statistics\n",
    "Basic_Summary_Stat(test_bench_perf$OPT_RET, \"Benchmark Optimal Weight\")\n",
    "Basic_Summary_Stat(test_bench_perf$EQ_RET, \"Benchmark Equal Weight\")"
   ]
  },
  {
   "cell_type": "code",
   "execution_count": 34,
   "id": "e2a8e171-19fe-4aed-a999-fb988271b268",
   "metadata": {},
   "outputs": [
    {
     "data": {
      "image/png": "[encoded data removed]",
      "text/plain": [
       "plot without title"
      ]
     },
     "metadata": {
      "image/png": {
       "height": 420,
       "width": 420
      }
     },
     "output_type": "display_data"
    }
   ],
   "source": [
    "#Plot returns\n",
    "Plot_Returns(test_bench_perf, \"Benchmark\")"
   ]
  },
  {
   "cell_type": "markdown",
   "id": "48bc9c7b-8a3a-41a7-88ad-b316e4a91af1",
   "metadata": {},
   "source": [
    "## Risk-Variance Ratio\n",
    "\n",
    "Next, we test the risk-variance factor."
   ]
  },
  {
   "cell_type": "code",
   "execution_count": 35,
   "id": "13edeb77-fcf1-45f1-8fbc-6978725f65ee",
   "metadata": {},
   "outputs": [],
   "source": [
    "#Test portfolio\n",
    "rv_feat <- c(\"XRM\", \"MCAP\", \"BMKT\", \"RV\")\n",
    "test_rv_perf <- Ensemble_Performance(training_sample, testing_sample, rv_feat)"
   ]
  },
  {
   "cell_type": "code",
   "execution_count": 36,
   "id": "21b7f350-a894-4235-97ba-666e2980a1ab",
   "metadata": {},
   "outputs": [
    {
     "name": "stdout",
     "output_type": "stream",
     "text": [
      "[1] \"For RV Optimal Weight the average annual return is 0.1156, the standard deviation is 0.14 and the Sharpe Ratio is 0.8251. The skew is 1.2818 and the kurtosis is 4.174\"\n",
      "[1] \"For RV Equal Weight the average annual return is 0.1294, the standard deviation is 0.1586 and the Sharpe Ratio is 0.8161. The skew is 1.0374 and the kurtosis is 1.9137\"\n"
     ]
    }
   ],
   "source": [
    "#Print summary statistics\n",
    "Basic_Summary_Stat(test_rv_perf$OPT_RET, \"RV Optimal Weight\")\n",
    "Basic_Summary_Stat(test_rv_perf$EQ_RET, \"RV Equal Weight\")"
   ]
  },
  {
   "cell_type": "code",
   "execution_count": 37,
   "id": "10657d3c-f7c6-417b-97e0-bc58368ecc3d",
   "metadata": {},
   "outputs": [
    {
     "data": {
      "image/png": "[encoded data removed]",
      "text/plain": [
       "plot without title"
      ]
     },
     "metadata": {
      "image/png": {
       "height": 420,
       "width": 420
      }
     },
     "output_type": "display_data"
    }
   ],
   "source": [
    "#Plot returns\n",
    "Plot_Returns(test_rv_perf, \"Risk-Variance\")"
   ]
  },
  {
   "cell_type": "markdown",
   "id": "beced211-9f5c-4721-9fe0-69c9cbf8aa78",
   "metadata": {},
   "source": [
    "## GRJMOM\n",
    "Now, we use the GRJMOM factor."
   ]
  },
  {
   "cell_type": "code",
   "execution_count": 38,
   "id": "f982e4b8-000a-4a67-8a20-4a779d4e112b",
   "metadata": {},
   "outputs": [],
   "source": [
    "#Test portfolio\n",
    "grjmom_feat <- c(\"XRM\", \"MCAP\", \"BMKT\", \"GRJMOM\")\n",
    "test_grj_perf <- Ensemble_Performance(training_sample, testing_sample, grjmom_feat)"
   ]
  },
  {
   "cell_type": "code",
   "execution_count": 39,
   "id": "590caf6f-4a10-4f2f-a241-2f544a7c8bc1",
   "metadata": {},
   "outputs": [
    {
     "name": "stdout",
     "output_type": "stream",
     "text": [
      "[1] \"For GRJMOM Optimal Weight the average annual return is 0.1055, the standard deviation is 0.1372 and the Sharpe Ratio is 0.7691. The skew is 1.4255 and the kurtosis is 4.3905\"\n",
      "[1] \"For GRJMOM Equal Weight the average annual return is 0.0967, the standard deviation is 0.1559 and the Sharpe Ratio is 0.6202. The skew is 1.5153 and the kurtosis is 5.0246\"\n"
     ]
    }
   ],
   "source": [
    "#Print summary statistics\n",
    "Basic_Summary_Stat(test_grj_perf$OPT_RET, \"GRJMOM Optimal Weight\")\n",
    "Basic_Summary_Stat(test_grj_perf$EQ_RET, \"GRJMOM Equal Weight\")"
   ]
  },
  {
   "cell_type": "code",
   "execution_count": 40,
   "id": "a9276bdd-d087-40ab-82f8-4b17adc0b4eb",
   "metadata": {},
   "outputs": [
    {
     "data": {
      "image/png": "[encoded data removed]",
      "text/plain": [
       "plot without title"
      ]
     },
     "metadata": {
      "image/png": {
       "height": 420,
       "width": 420
      }
     },
     "output_type": "display_data"
    }
   ],
   "source": [
    "#Plot returns\n",
    "Plot_Returns(test_grj_perf, \"GRJMOM\")"
   ]
  },
  {
   "cell_type": "markdown",
   "id": "eab8ac99-5b7a-48a1-9844-d393b7dc276b",
   "metadata": {},
   "source": [
    "## WML *\n",
    "\n",
    "Our third risk-adjusted factor we test is WML*."
   ]
  },
  {
   "cell_type": "code",
   "execution_count": 41,
   "id": "0606a368-9f1e-4ed4-8858-97b7ac82a1c7",
   "metadata": {},
   "outputs": [],
   "source": [
    "#Test portfolio\n",
    "wml_feat <- c(\"XRM\", \"MCAP\", \"BMKT\", \"WML_star\")\n",
    "test_wml_perf <- Ensemble_Performance(training_sample, testing_sample, wml_feat)"
   ]
  },
  {
   "cell_type": "code",
   "execution_count": 42,
   "id": "02198bbd-cd40-4bcf-bd47-fba342b8de1d",
   "metadata": {},
   "outputs": [
    {
     "name": "stdout",
     "output_type": "stream",
     "text": [
      "[1] \"For WML* Optimal Weight the average annual return is 0.1291, the standard deviation is 0.1448 and the Sharpe Ratio is 0.8918. The skew is 1.0522 and the kurtosis is 3.4384\"\n",
      "[1] \"For WML* Equal Weight the average annual return is 0.142, the standard deviation is 0.1634 and the Sharpe Ratio is 0.8687. The skew is 1.5607 and the kurtosis is 4.7313\"\n"
     ]
    }
   ],
   "source": [
    "#Print summary statistics\n",
    "Basic_Summary_Stat(test_wml_perf$OPT_RET, \"WML* Optimal Weight\")\n",
    "Basic_Summary_Stat(test_wml_perf$EQ_RET, \"WML* Equal Weight\")"
   ]
  },
  {
   "cell_type": "code",
   "execution_count": 43,
   "id": "0e806897-ca59-4129-9c51-0171a2b285fc",
   "metadata": {},
   "outputs": [
    {
     "data": {
      "image/png": "[encoded data removed]",
      "text/plain": [
       "plot without title"
      ]
     },
     "metadata": {
      "image/png": {
       "height": 420,
       "width": 420
      }
     },
     "output_type": "display_data"
    }
   ],
   "source": [
    "#Plot returns\n",
    "Plot_Returns(test_wml_perf, \"WML*\")"
   ]
  },
  {
   "cell_type": "markdown",
   "id": "2d0af914-b909-44bc-aa0d-38fb49f19faf",
   "metadata": {},
   "source": [
    "## Combined Model\n",
    "\n",
    "Finally, create a model using all of the momentum factors."
   ]
  },
  {
   "cell_type": "code",
   "execution_count": 44,
   "id": "5a404006-f5b5-49ce-a31d-9f280f7862f7",
   "metadata": {},
   "outputs": [],
   "source": [
    "all_feat <- c(\"XRM\", \"MCAP\", \"BMKT\", \"RET11\", \"GRJMOM\", \"WML_star\", \"RV\")\n",
    "test_all_perf <- Ensemble_Performance(training_sample, testing_sample, all_feat)"
   ]
  },
  {
   "cell_type": "code",
   "execution_count": 45,
   "id": "6f79f708-e069-4e57-90c8-892278396606",
   "metadata": {},
   "outputs": [
    {
     "name": "stdout",
     "output_type": "stream",
     "text": [
      "[1] \"For All Factors Optimal Weight the average annual return is 0.1263, the standard deviation is 0.1554 and the Sharpe Ratio is 0.8132. The skew is 1.269 and the kurtosis is 2.8187\"\n",
      "[1] \"For All Factors Equal Weight the average annual return is 0.1461, the standard deviation is 0.1739 and the Sharpe Ratio is 0.84. The skew is 2.0903 and the kurtosis is 8.0979\"\n"
     ]
    }
   ],
   "source": [
    "Basic_Summary_Stat(test_all_perf$OPT_RET, \"All Factors Optimal Weight\")\n",
    "Basic_Summary_Stat(test_all_perf$EQ_RET, \"All Factors Equal Weight\")"
   ]
  },
  {
   "cell_type": "code",
   "execution_count": 46,
   "id": "f7768e01-50f8-4a78-b90b-2384b30ba95c",
   "metadata": {},
   "outputs": [
    {
     "data": {
      "image/png": "[encoded data removed]",
      "text/plain": [
       "plot without title"
      ]
     },
     "metadata": {
      "image/png": {
       "height": 420,
       "width": 420
      }
     },
     "output_type": "display_data"
    }
   ],
   "source": [
    "Plot_Returns(test_all_perf, \"All Factors\")"
   ]
  },
  {
   "cell_type": "markdown",
   "id": "3fe01f58-2591-4b51-a809-8e6c245c5208",
   "metadata": {},
   "source": [
    "## Additional Graphs\n",
    "\n",
    "Finally, to examine crash performance, portfolios all on the same graph."
   ]
  },
  {
   "cell_type": "code",
   "execution_count": 47,
   "id": "c69e3f18-d427-4c76-8224-ddfc76cf62f1",
   "metadata": {},
   "outputs": [
    {
     "data": {
      "text/html": [
       "<table class=\"dataframe\">\n",
       "<caption>A tibble: 3 × 5</caption>\n",
       "<thead>\n",
       "\t<tr><th scope=col>DATE</th><th scope=col>RET11</th><th scope=col>RV</th><th scope=col>GRJMOM</th><th scope=col>WML*</th></tr>\n",
       "\t<tr><th scope=col>&lt;date&gt;</th><th scope=col>&lt;dbl&gt;</th><th scope=col>&lt;dbl&gt;</th><th scope=col>&lt;dbl&gt;</th><th scope=col>&lt;dbl&gt;</th></tr>\n",
       "</thead>\n",
       "<tbody>\n",
       "\t<tr><td>2020-01-31</td><td> 0.02593888</td><td> 0.001575428</td><td> 0.009611325</td><td> 0.007652788</td></tr>\n",
       "\t<tr><td>2020-02-29</td><td>-0.13263318</td><td>-0.080181356</td><td>-0.080701754</td><td>-0.036820874</td></tr>\n",
       "\t<tr><td>2020-03-31</td><td> 0.11776247</td><td> 0.157538247</td><td> 0.103347245</td><td> 0.097845156</td></tr>\n",
       "</tbody>\n",
       "</table>\n"
      ],
      "text/latex": [
       "A tibble: 3 × 5\n",
       "\\begin{tabular}{lllll}\n",
       " DATE & RET11 & RV & GRJMOM & WML*\\\\\n",
       " <date> & <dbl> & <dbl> & <dbl> & <dbl>\\\\\n",
       "\\hline\n",
       "\t 2020-01-31 &  0.02593888 &  0.001575428 &  0.009611325 &  0.007652788\\\\\n",
       "\t 2020-02-29 & -0.13263318 & -0.080181356 & -0.080701754 & -0.036820874\\\\\n",
       "\t 2020-03-31 &  0.11776247 &  0.157538247 &  0.103347245 &  0.097845156\\\\\n",
       "\\end{tabular}\n"
      ],
      "text/markdown": [
       "\n",
       "A tibble: 3 × 5\n",
       "\n",
       "| DATE &lt;date&gt; | RET11 &lt;dbl&gt; | RV &lt;dbl&gt; | GRJMOM &lt;dbl&gt; | WML* &lt;dbl&gt; |\n",
       "|---|---|---|---|---|\n",
       "| 2020-01-31 |  0.02593888 |  0.001575428 |  0.009611325 |  0.007652788 |\n",
       "| 2020-02-29 | -0.13263318 | -0.080181356 | -0.080701754 | -0.036820874 |\n",
       "| 2020-03-31 |  0.11776247 |  0.157538247 |  0.103347245 |  0.097845156 |\n",
       "\n"
      ],
      "text/plain": [
       "  DATE       RET11       RV           GRJMOM       WML*        \n",
       "1 2020-01-31  0.02593888  0.001575428  0.009611325  0.007652788\n",
       "2 2020-02-29 -0.13263318 -0.080181356 -0.080701754 -0.036820874\n",
       "3 2020-03-31  0.11776247  0.157538247  0.103347245  0.097845156"
      ]
     },
     "metadata": {},
     "output_type": "display_data"
    }
   ],
   "source": [
    "#Combine datasets and rename\n",
    "port_names <- c(\"DATE\", \"RET11\", \"RV\", \"GRJMOM\", \"WML*\")\n",
    "\n",
    "eq_ret <- left_join(test_bench_perf, test_rv_perf, by = c(\"DATE\")) %>%\n",
    "    left_join(test_grj_perf, by = c(\"DATE\")) %>%\n",
    "    left_join(test_wml_perf, by = c(\"DATE\")) %>%\n",
    "    filter(DATE >= \"2020-01-01\", DATE <= \"2021-01-01\") %>%\n",
    "    select(-starts_with(\"OPT\")) %>%\n",
    "    setNames(port_names)\n",
    "\n",
    "opt_ret <- left_join(test_bench_perf, test_rv_perf, by = c(\"DATE\")) %>%\n",
    "    left_join(test_grj_perf, by = c(\"DATE\")) %>%\n",
    "    left_join(test_wml_perf, by = c(\"DATE\")) %>%\n",
    "    filter(DATE >= \"2020-01-01\", DATE <= \"2021-01-01\") %>%\n",
    "    select(-starts_with(\"EQ\")) %>%\n",
    "    setNames(port_names)\n",
    "\n",
    "head(eq_ret, 3)"
   ]
  },
  {
   "cell_type": "code",
   "execution_count": 48,
   "id": "dbb0e4c3-eff0-4915-860e-f50d46604abb",
   "metadata": {},
   "outputs": [
    {
     "data": {
      "image/png": "[encoded data removed]",
      "text/plain": [
       "plot without title"
      ]
     },
     "metadata": {
      "image/png": {
       "height": 420,
       "width": 420
      }
     },
     "output_type": "display_data"
    }
   ],
   "source": [
    "#Plot equal weighted returns\n",
    "Plot_Returns(eq_ret, \"Equal Weighted Portfolios in 2020\")"
   ]
  },
  {
   "cell_type": "code",
   "execution_count": 49,
   "id": "d897c169-2725-443e-95f8-8e8c54dc2aeb",
   "metadata": {},
   "outputs": [
    {
     "data": {
      "image/png": "[encoded data removed]",
      "text/plain": [
       "plot without title"
      ]
     },
     "metadata": {
      "image/png": {
       "height": 420,
       "width": 420
      }
     },
     "output_type": "display_data"
    }
   ],
   "source": [
    "#Plot optimal weighted returns\n",
    "Plot_Returns(opt_ret, \"Optimal Weighted Portfolios in 2020\")"
   ]
  }
 ],
 "metadata": {
  "kernelspec": {
   "display_name": "R",
   "language": "R",
   "name": "ir"
  },
  "language_info": {
   "codemirror_mode": "r",
   "file_extension": ".r",
   "mimetype": "text/x-r-source",
   "name": "R",
   "pygments_lexer": "r",
   "version": "4.4.3"
  }
 },
 "nbformat": 4,
 "nbformat_minor": 5
}
