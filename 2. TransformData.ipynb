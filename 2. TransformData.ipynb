{
 "cells": [
  {
   "cell_type": "markdown",
   "id": "1c834b38-f3fe-4051-911b-10334495de67",
   "metadata": {},
   "source": [
    "# Transform Data\n",
    "\n",
    "Here, all of the data will be imported and transformed into a single easy-to-use file \"clean_data.csv\" containing monthly stock features and returns.\n",
    "\n",
    "A subset of 1159 stocks was used over this period (rather than the full 27868 to speed up calculations). The selection used was those with full CRSP data which is done in the \"GetStockList\" file. Note that the final stock data used will be from January 2004 to December 2023, but due to calculations that require rolled back values, more data than needed is processed (between January 1995 and December 2024), allowing us to have a full set of parameter values for the actual testing."
   ]
  },
  {
   "cell_type": "code",
   "execution_count": 1,
   "id": "b2cb0425-560f-4165-b12f-0b0b8a8e9e6f",
   "metadata": {},
   "outputs": [],
   "source": [
    "#Load packages\n",
    "suppressPackageStartupMessages({\n",
    "    if(!require(tidyverse)){install.packages(\"tidyverse\")}\n",
    "    if(!require(tidyquant)){install.packages(\"tidyquant\")}\n",
    "    if(!require(lubridate)){install.packages(\"lubridate\")}\n",
    "    if(!require(dplyr)){install.packages(\"dplyr\")}\n",
    "    if(!require(PerformanceAnalytics)){install.packages(\"PerformanceAnalytics\")}\n",
    "    \n",
    "    library(tidyverse)\n",
    "    library(tidyquant)\n",
    "    library(lubridate)\n",
    "    library(dplyr)\n",
    "    library(PerformanceAnalytics)\n",
    "})"
   ]
  },
  {
   "cell_type": "code",
   "execution_count": 2,
   "id": "138f096f-15d9-4760-acb9-6003f992ebb0",
   "metadata": {},
   "outputs": [],
   "source": [
    "#Final dates we will filter by\n",
    "start_date = \"2004-1-1\"\n",
    "end_date = \"2023-12-31\""
   ]
  },
  {
   "cell_type": "markdown",
   "id": "ada811a1-ba07-48af-a65c-63fbcfa35380",
   "metadata": {},
   "source": [
    "### CRSP Data\n",
    "\n",
    "First, import our monthly CRSP data for stocks in our stock list, and clean it."
   ]
  },
  {
   "cell_type": "code",
   "execution_count": 3,
   "id": "7bfc3c66-ef6b-4f4e-9c34-d9772607380e",
   "metadata": {},
   "outputs": [
    {
     "data": {
      "text/html": [
       "<table class=\"dataframe\">\n",
       "<caption>A tibble: 5 × 8</caption>\n",
       "<thead>\n",
       "\t<tr><th scope=col>PERMNO</th><th scope=col>date</th><th scope=col>TICKER</th><th scope=col>PERMCO</th><th scope=col>PRC</th><th scope=col>RET</th><th scope=col>SHROUT</th><th scope=col>sprtrn</th></tr>\n",
       "\t<tr><th scope=col>&lt;dbl&gt;</th><th scope=col>&lt;date&gt;</th><th scope=col>&lt;chr&gt;</th><th scope=col>&lt;dbl&gt;</th><th scope=col>&lt;dbl&gt;</th><th scope=col>&lt;dbl&gt;</th><th scope=col>&lt;dbl&gt;</th><th scope=col>&lt;dbl&gt;</th></tr>\n",
       "</thead>\n",
       "<tbody>\n",
       "\t<tr><td>10026</td><td>1995-01-31</td><td>JJSF</td><td>7976</td><td>10.7500</td><td>-0.075269</td><td>9408</td><td>0.024278</td></tr>\n",
       "\t<tr><td>10026</td><td>1995-02-28</td><td>JJSF</td><td>7976</td><td>11.5625</td><td> 0.075581</td><td>9408</td><td>0.036074</td></tr>\n",
       "\t<tr><td>10026</td><td>1995-03-31</td><td>JJSF</td><td>7976</td><td>10.3750</td><td>-0.102703</td><td>9382</td><td>0.027329</td></tr>\n",
       "\t<tr><td>10026</td><td>1995-04-28</td><td>JJSF</td><td>7976</td><td>11.8750</td><td> 0.144578</td><td>9359</td><td>0.027960</td></tr>\n",
       "\t<tr><td>10026</td><td>1995-05-31</td><td>JJSF</td><td>7976</td><td>12.1250</td><td> 0.021053</td><td>9359</td><td>0.036312</td></tr>\n",
       "</tbody>\n",
       "</table>\n"
      ],
      "text/latex": [
       "A tibble: 5 × 8\n",
       "\\begin{tabular}{llllllll}\n",
       " PERMNO & date & TICKER & PERMCO & PRC & RET & SHROUT & sprtrn\\\\\n",
       " <dbl> & <date> & <chr> & <dbl> & <dbl> & <dbl> & <dbl> & <dbl>\\\\\n",
       "\\hline\n",
       "\t 10026 & 1995-01-31 & JJSF & 7976 & 10.7500 & -0.075269 & 9408 & 0.024278\\\\\n",
       "\t 10026 & 1995-02-28 & JJSF & 7976 & 11.5625 &  0.075581 & 9408 & 0.036074\\\\\n",
       "\t 10026 & 1995-03-31 & JJSF & 7976 & 10.3750 & -0.102703 & 9382 & 0.027329\\\\\n",
       "\t 10026 & 1995-04-28 & JJSF & 7976 & 11.8750 &  0.144578 & 9359 & 0.027960\\\\\n",
       "\t 10026 & 1995-05-31 & JJSF & 7976 & 12.1250 &  0.021053 & 9359 & 0.036312\\\\\n",
       "\\end{tabular}\n"
      ],
      "text/markdown": [
       "\n",
       "A tibble: 5 × 8\n",
       "\n",
       "| PERMNO &lt;dbl&gt; | date &lt;date&gt; | TICKER &lt;chr&gt; | PERMCO &lt;dbl&gt; | PRC &lt;dbl&gt; | RET &lt;dbl&gt; | SHROUT &lt;dbl&gt; | sprtrn &lt;dbl&gt; |\n",
       "|---|---|---|---|---|---|---|---|\n",
       "| 10026 | 1995-01-31 | JJSF | 7976 | 10.7500 | -0.075269 | 9408 | 0.024278 |\n",
       "| 10026 | 1995-02-28 | JJSF | 7976 | 11.5625 |  0.075581 | 9408 | 0.036074 |\n",
       "| 10026 | 1995-03-31 | JJSF | 7976 | 10.3750 | -0.102703 | 9382 | 0.027329 |\n",
       "| 10026 | 1995-04-28 | JJSF | 7976 | 11.8750 |  0.144578 | 9359 | 0.027960 |\n",
       "| 10026 | 1995-05-31 | JJSF | 7976 | 12.1250 |  0.021053 | 9359 | 0.036312 |\n",
       "\n"
      ],
      "text/plain": [
       "  PERMNO date       TICKER PERMCO PRC     RET       SHROUT sprtrn  \n",
       "1 10026  1995-01-31 JJSF   7976   10.7500 -0.075269 9408   0.024278\n",
       "2 10026  1995-02-28 JJSF   7976   11.5625  0.075581 9408   0.036074\n",
       "3 10026  1995-03-31 JJSF   7976   10.3750 -0.102703 9382   0.027329\n",
       "4 10026  1995-04-28 JJSF   7976   11.8750  0.144578 9359   0.027960\n",
       "5 10026  1995-05-31 JJSF   7976   12.1250  0.021053 9359   0.036312"
      ]
     },
     "metadata": {},
     "output_type": "display_data"
    }
   ],
   "source": [
    "#Import Initial CRSP Data\n",
    "init_data <- read_csv(\"Data/Downloaded/crsp_monthly.csv\", show_col_types = FALSE)\n",
    "\n",
    "head(init_data, 5)"
   ]
  },
  {
   "cell_type": "markdown",
   "id": "5e970b0b-71eb-4490-bf5d-f8db7a5b8510",
   "metadata": {},
   "source": [
    "The initial data contains basic features for stocks like their price or ticker. \n",
    "\n",
    "We remove any duplicate entries and rename/reorder our columns."
   ]
  },
  {
   "cell_type": "code",
   "execution_count": 4,
   "id": "743118e0-3318-475a-bb4d-27913efbb700",
   "metadata": {},
   "outputs": [
    {
     "data": {
      "text/html": [
       "<table class=\"dataframe\">\n",
       "<caption>A tibble: 3 × 7</caption>\n",
       "<thead>\n",
       "\t<tr><th scope=col>DATE</th><th scope=col>PERMNO</th><th scope=col>PERMCO</th><th scope=col>TIC</th><th scope=col>PRC</th><th scope=col>RET</th><th scope=col>SHROUT</th></tr>\n",
       "\t<tr><th scope=col>&lt;date&gt;</th><th scope=col>&lt;dbl&gt;</th><th scope=col>&lt;dbl&gt;</th><th scope=col>&lt;chr&gt;</th><th scope=col>&lt;dbl&gt;</th><th scope=col>&lt;dbl&gt;</th><th scope=col>&lt;dbl&gt;</th></tr>\n",
       "</thead>\n",
       "<tbody>\n",
       "\t<tr><td>1995-01-31</td><td>10026</td><td>7976</td><td>JJSF</td><td>10.7500</td><td>-0.075269</td><td>9408</td></tr>\n",
       "\t<tr><td>1995-02-28</td><td>10026</td><td>7976</td><td>JJSF</td><td>11.5625</td><td> 0.075581</td><td>9408</td></tr>\n",
       "\t<tr><td>1995-03-31</td><td>10026</td><td>7976</td><td>JJSF</td><td>10.3750</td><td>-0.102703</td><td>9382</td></tr>\n",
       "</tbody>\n",
       "</table>\n"
      ],
      "text/latex": [
       "A tibble: 3 × 7\n",
       "\\begin{tabular}{lllllll}\n",
       " DATE & PERMNO & PERMCO & TIC & PRC & RET & SHROUT\\\\\n",
       " <date> & <dbl> & <dbl> & <chr> & <dbl> & <dbl> & <dbl>\\\\\n",
       "\\hline\n",
       "\t 1995-01-31 & 10026 & 7976 & JJSF & 10.7500 & -0.075269 & 9408\\\\\n",
       "\t 1995-02-28 & 10026 & 7976 & JJSF & 11.5625 &  0.075581 & 9408\\\\\n",
       "\t 1995-03-31 & 10026 & 7976 & JJSF & 10.3750 & -0.102703 & 9382\\\\\n",
       "\\end{tabular}\n"
      ],
      "text/markdown": [
       "\n",
       "A tibble: 3 × 7\n",
       "\n",
       "| DATE &lt;date&gt; | PERMNO &lt;dbl&gt; | PERMCO &lt;dbl&gt; | TIC &lt;chr&gt; | PRC &lt;dbl&gt; | RET &lt;dbl&gt; | SHROUT &lt;dbl&gt; |\n",
       "|---|---|---|---|---|---|---|\n",
       "| 1995-01-31 | 10026 | 7976 | JJSF | 10.7500 | -0.075269 | 9408 |\n",
       "| 1995-02-28 | 10026 | 7976 | JJSF | 11.5625 |  0.075581 | 9408 |\n",
       "| 1995-03-31 | 10026 | 7976 | JJSF | 10.3750 | -0.102703 | 9382 |\n",
       "\n"
      ],
      "text/plain": [
       "  DATE       PERMNO PERMCO TIC  PRC     RET       SHROUT\n",
       "1 1995-01-31 10026  7976   JJSF 10.7500 -0.075269 9408  \n",
       "2 1995-02-28 10026  7976   JJSF 11.5625  0.075581 9408  \n",
       "3 1995-03-31 10026  7976   JJSF 10.3750 -0.102703 9382  "
      ]
     },
     "metadata": {},
     "output_type": "display_data"
    }
   ],
   "source": [
    "#Clean data structure\n",
    "cols_to_use <- c(\"date\", \"PERMNO\", \"PERMCO\", \"TICKER\", \"PRC\", \"RET\", \"SHROUT\")\n",
    "col_names <- c(\"DATE\",\"PERMNO\",\"PERMCO\",\"TIC\",\"PRC\",\"RET\",\"SHROUT\")\n",
    "\n",
    "crsp_data <- init_data[cols_to_use] %>%             #Select columns\n",
    "    setNames(col_names) %>%                         #Set column names\n",
    "    mutate(DATE = lubridate::rollforward(DATE)) %>% #Set dates to EOM\n",
    "    distinct()                                      #Remove duplicates\n",
    "\n",
    "head(crsp_data, 3)"
   ]
  },
  {
   "cell_type": "markdown",
   "id": "a91638c5-74f4-4312-8a2c-90d8c2b2a4fd",
   "metadata": {},
   "source": [
    "### CRSP Daily\n",
    "\n",
    "Here, we import and transform daily CRSP stock data for our stock list. We need the stock volatility based on daily data. Note that since doing rolling calculations on this much data takes ~10 minutes, the output is stored in a CSV as an intermediary step allowing for easy retrieval on re-running. If \"generate_data\" is TRUE, then the data file will be generated from scratch."
   ]
  },
  {
   "cell_type": "code",
   "execution_count": 5,
   "id": "e4d4541f-1207-4a38-83b1-5384ae6d891b",
   "metadata": {},
   "outputs": [
    {
     "data": {
      "text/html": [
       "<table class=\"dataframe\">\n",
       "<caption>A tibble: 3 × 3</caption>\n",
       "<thead>\n",
       "\t<tr><th scope=col>PERMNO</th><th scope=col>date</th><th scope=col>RET</th></tr>\n",
       "\t<tr><th scope=col>&lt;dbl&gt;</th><th scope=col>&lt;date&gt;</th><th scope=col>&lt;dbl&gt;</th></tr>\n",
       "</thead>\n",
       "<tbody>\n",
       "\t<tr><td>10026</td><td>1995-01-03</td><td>-0.010753</td></tr>\n",
       "\t<tr><td>10026</td><td>1995-01-04</td><td> 0.000000</td></tr>\n",
       "\t<tr><td>10026</td><td>1995-01-05</td><td>-0.010870</td></tr>\n",
       "</tbody>\n",
       "</table>\n"
      ],
      "text/latex": [
       "A tibble: 3 × 3\n",
       "\\begin{tabular}{lll}\n",
       " PERMNO & date & RET\\\\\n",
       " <dbl> & <date> & <dbl>\\\\\n",
       "\\hline\n",
       "\t 10026 & 1995-01-03 & -0.010753\\\\\n",
       "\t 10026 & 1995-01-04 &  0.000000\\\\\n",
       "\t 10026 & 1995-01-05 & -0.010870\\\\\n",
       "\\end{tabular}\n"
      ],
      "text/markdown": [
       "\n",
       "A tibble: 3 × 3\n",
       "\n",
       "| PERMNO &lt;dbl&gt; | date &lt;date&gt; | RET &lt;dbl&gt; |\n",
       "|---|---|---|\n",
       "| 10026 | 1995-01-03 | -0.010753 |\n",
       "| 10026 | 1995-01-04 |  0.000000 |\n",
       "| 10026 | 1995-01-05 | -0.010870 |\n",
       "\n"
      ],
      "text/plain": [
       "  PERMNO date       RET      \n",
       "1 10026  1995-01-03 -0.010753\n",
       "2 10026  1995-01-04  0.000000\n",
       "3 10026  1995-01-05 -0.010870"
      ]
     },
     "metadata": {},
     "output_type": "display_data"
    }
   ],
   "source": [
    "#Import Initial CRSP daily data\n",
    "init_daily <- read_csv(\"Data/Downloaded/crsp_daily.csv\", show_col_types = FALSE)\n",
    "generate_data = FALSE #Set to TRUE to re-generate volatility data file\n",
    "\n",
    "head(init_daily, 3)"
   ]
  },
  {
   "cell_type": "markdown",
   "id": "46b50ce7-67ac-45e7-8acf-ac0537e65c2e",
   "metadata": {},
   "source": [
    "Now, we compute The annual stock volatility (with 252 trading days) following the method used in \"Momentum and the Cross-section of Stock Volatility\" by Fan et al. (2022)."
   ]
  },
  {
   "cell_type": "code",
   "execution_count": 6,
   "id": "8e6c7497-8995-48c9-ab2e-4bb9895aa32a",
   "metadata": {},
   "outputs": [],
   "source": [
    "#Compute stock volatility for each month\n",
    "if (generate_data) {\n",
    "cols_to_use <- c(\"PERMNO\", \"date\", \"RET\")\n",
    "col_names <- c(\"PERMNO\",\"DATE\",\"RET\")\n",
    "\n",
    "daily_vol <- init_daily[cols_to_use] %>%     #Select columns\n",
    "    setNames(col_names)   %>%                #Set column names\n",
    "    drop_na() %>%                            #Remove NA values\n",
    "    filter(RET != \"C\") %>%                   #Remove values where return is unavailable\n",
    "    mutate(RET = as.numeric(RET)) %>%        #Convert returns to number\n",
    "    group_by(PERMNO) %>%\n",
    "    mutate(SRET = RET ^ 2) %>%               #Calculate sum of squares of returns\n",
    "    mutate(SSROLL = rollsumr(x = SRET, 252, fill = NA)) %>% #Calculate rolling sum of returns\n",
    "    ungroup() %>%\n",
    "    mutate(VOL = sqrt(21 / 252 * SSROLL)) %>%        #Compute volatility\n",
    "    select(all_of(c(\"DATE\", \"PERMNO\", \"VOL\"))) %>%   #Select needed columns\n",
    "    filter(DATE >= \"1997-1-1\")                       #Only keep data with a full rolling period\n",
    "\n",
    "head(daily_vol, 3)\n",
    "}"
   ]
  },
  {
   "cell_type": "markdown",
   "id": "f746d716-906a-44dc-83a4-feb2308f48ac",
   "metadata": {},
   "source": [
    "We computed the rolling returns for every daily entry. We only care about the data available at the end of each month for our final monthly dataset, so we only need to keep the last volatility metric available each month."
   ]
  },
  {
   "cell_type": "code",
   "execution_count": 7,
   "id": "eee2e8af-e778-4f56-9076-6b3e42af1feb",
   "metadata": {},
   "outputs": [],
   "source": [
    "#Select the last volatility in each month, and save as CSV\n",
    "if (generate_data) {\n",
    "vol_formatted <- daily_vol %>% \n",
    "    group_by(PERMNO, month = lubridate::ceiling_date(DATE, \"month\")) %>%\n",
    "    slice_tail() %>%                                #Keep only last entry of month\n",
    "    ungroup() %>%\n",
    "    mutate(DATE = lubridate::rollforward(DATE)) %>% #Set dates to EOM\n",
    "    select(-all_of(\"month\"))                        \n",
    "    \n",
    "    head(vol_formatted, 3)\n",
    "}"
   ]
  },
  {
   "cell_type": "markdown",
   "id": "2c68a0aa-182a-42e4-bf23-1717d6bb6ba1",
   "metadata": {},
   "source": [
    "Save data as CSV file to be imported quickly."
   ]
  },
  {
   "cell_type": "code",
   "execution_count": 8,
   "id": "0184c595-1581-4d71-83ef-52ae50724833",
   "metadata": {},
   "outputs": [],
   "source": [
    "#Save as CSV\n",
    "if (generate_data) {\n",
    "    write.csv(vol_formatted, \"Data/Generated/stock_vol.csv\", row.names = FALSE)\n",
    "}"
   ]
  },
  {
   "cell_type": "markdown",
   "id": "1e91b51a-9b48-4e9e-9f8e-17aafc42e820",
   "metadata": {},
   "source": [
    "Read in data from CSV."
   ]
  },
  {
   "cell_type": "code",
   "execution_count": 9,
   "id": "acdc7c0e-e76d-48dd-bb5f-61b767c9b137",
   "metadata": {},
   "outputs": [
    {
     "data": {
      "text/html": [
       "<table class=\"dataframe\">\n",
       "<caption>A tibble: 3 × 3</caption>\n",
       "<thead>\n",
       "\t<tr><th scope=col>DATE</th><th scope=col>PERMNO</th><th scope=col>VOL</th></tr>\n",
       "\t<tr><th scope=col>&lt;date&gt;</th><th scope=col>&lt;dbl&gt;</th><th scope=col>&lt;dbl&gt;</th></tr>\n",
       "</thead>\n",
       "<tbody>\n",
       "\t<tr><td>2024-10-31</td><td>92807</td><td>0.1408991</td></tr>\n",
       "\t<tr><td>2024-11-30</td><td>92807</td><td>0.1437990</td></tr>\n",
       "\t<tr><td>2024-12-31</td><td>92807</td><td>0.1431803</td></tr>\n",
       "</tbody>\n",
       "</table>\n"
      ],
      "text/latex": [
       "A tibble: 3 × 3\n",
       "\\begin{tabular}{lll}\n",
       " DATE & PERMNO & VOL\\\\\n",
       " <date> & <dbl> & <dbl>\\\\\n",
       "\\hline\n",
       "\t 2024-10-31 & 92807 & 0.1408991\\\\\n",
       "\t 2024-11-30 & 92807 & 0.1437990\\\\\n",
       "\t 2024-12-31 & 92807 & 0.1431803\\\\\n",
       "\\end{tabular}\n"
      ],
      "text/markdown": [
       "\n",
       "A tibble: 3 × 3\n",
       "\n",
       "| DATE &lt;date&gt; | PERMNO &lt;dbl&gt; | VOL &lt;dbl&gt; |\n",
       "|---|---|---|\n",
       "| 2024-10-31 | 92807 | 0.1408991 |\n",
       "| 2024-11-30 | 92807 | 0.1437990 |\n",
       "| 2024-12-31 | 92807 | 0.1431803 |\n",
       "\n"
      ],
      "text/plain": [
       "  DATE       PERMNO VOL      \n",
       "1 2024-10-31 92807  0.1408991\n",
       "2 2024-11-30 92807  0.1437990\n",
       "3 2024-12-31 92807  0.1431803"
      ]
     },
     "metadata": {},
     "output_type": "display_data"
    }
   ],
   "source": [
    "#Read in stored data\n",
    "stock_vol <- read_csv(\"Data/Generated/stock_vol.csv\", show_col_types = FALSE)\n",
    "\n",
    "tail(stock_vol, 3)"
   ]
  },
  {
   "cell_type": "markdown",
   "id": "3b8f6a17-c25f-4205-888e-ba079a47b520",
   "metadata": {},
   "source": [
    "### CRSP & Compustat Data\n",
    "\n",
    "Now, we pull additional stock feature data from the merged CRSP and Compustat Fundamentals Annual WRDS database. This allows us to use Compustat features using the common identifier PERMNO. Note that this data is quarterly, and so we will need to remedy this later."
   ]
  },
  {
   "cell_type": "code",
   "execution_count": 10,
   "id": "1607aefb-0f48-409d-bbd9-725d66cc504f",
   "metadata": {},
   "outputs": [
    {
     "data": {
      "text/html": [
       "<table class=\"dataframe\">\n",
       "<caption>A tibble: 3 × 11</caption>\n",
       "<thead>\n",
       "\t<tr><th scope=col>PERMNO</th><th scope=col>MthCalDt</th><th scope=col>UGVKEY</th><th scope=col>datadate</th><th scope=col>indfmt</th><th scope=col>consol</th><th scope=col>popsrc</th><th scope=col>datafmt</th><th scope=col>curcd</th><th scope=col>ceq</th><th scope=col>costat</th></tr>\n",
       "\t<tr><th scope=col>&lt;dbl&gt;</th><th scope=col>&lt;date&gt;</th><th scope=col>&lt;chr&gt;</th><th scope=col>&lt;date&gt;</th><th scope=col>&lt;chr&gt;</th><th scope=col>&lt;chr&gt;</th><th scope=col>&lt;chr&gt;</th><th scope=col>&lt;chr&gt;</th><th scope=col>&lt;chr&gt;</th><th scope=col>&lt;dbl&gt;</th><th scope=col>&lt;chr&gt;</th></tr>\n",
       "</thead>\n",
       "<tbody>\n",
       "\t<tr><td>10026</td><td>1995-01-31</td><td>012825</td><td>1994-09-30</td><td>INDL</td><td>C</td><td>D</td><td>STD</td><td>USD</td><td>100.545</td><td>A</td></tr>\n",
       "\t<tr><td>10026</td><td>1995-02-28</td><td>012825</td><td>1994-09-30</td><td>INDL</td><td>C</td><td>D</td><td>STD</td><td>USD</td><td>100.545</td><td>A</td></tr>\n",
       "\t<tr><td>10026</td><td>1995-03-31</td><td>012825</td><td>1994-09-30</td><td>INDL</td><td>C</td><td>D</td><td>STD</td><td>USD</td><td>100.545</td><td>A</td></tr>\n",
       "</tbody>\n",
       "</table>\n"
      ],
      "text/latex": [
       "A tibble: 3 × 11\n",
       "\\begin{tabular}{lllllllllll}\n",
       " PERMNO & MthCalDt & UGVKEY & datadate & indfmt & consol & popsrc & datafmt & curcd & ceq & costat\\\\\n",
       " <dbl> & <date> & <chr> & <date> & <chr> & <chr> & <chr> & <chr> & <chr> & <dbl> & <chr>\\\\\n",
       "\\hline\n",
       "\t 10026 & 1995-01-31 & 012825 & 1994-09-30 & INDL & C & D & STD & USD & 100.545 & A\\\\\n",
       "\t 10026 & 1995-02-28 & 012825 & 1994-09-30 & INDL & C & D & STD & USD & 100.545 & A\\\\\n",
       "\t 10026 & 1995-03-31 & 012825 & 1994-09-30 & INDL & C & D & STD & USD & 100.545 & A\\\\\n",
       "\\end{tabular}\n"
      ],
      "text/markdown": [
       "\n",
       "A tibble: 3 × 11\n",
       "\n",
       "| PERMNO &lt;dbl&gt; | MthCalDt &lt;date&gt; | UGVKEY &lt;chr&gt; | datadate &lt;date&gt; | indfmt &lt;chr&gt; | consol &lt;chr&gt; | popsrc &lt;chr&gt; | datafmt &lt;chr&gt; | curcd &lt;chr&gt; | ceq &lt;dbl&gt; | costat &lt;chr&gt; |\n",
       "|---|---|---|---|---|---|---|---|---|---|---|\n",
       "| 10026 | 1995-01-31 | 012825 | 1994-09-30 | INDL | C | D | STD | USD | 100.545 | A |\n",
       "| 10026 | 1995-02-28 | 012825 | 1994-09-30 | INDL | C | D | STD | USD | 100.545 | A |\n",
       "| 10026 | 1995-03-31 | 012825 | 1994-09-30 | INDL | C | D | STD | USD | 100.545 | A |\n",
       "\n"
      ],
      "text/plain": [
       "  PERMNO MthCalDt   UGVKEY datadate   indfmt consol popsrc datafmt curcd\n",
       "1 10026  1995-01-31 012825 1994-09-30 INDL   C      D      STD     USD  \n",
       "2 10026  1995-02-28 012825 1994-09-30 INDL   C      D      STD     USD  \n",
       "3 10026  1995-03-31 012825 1994-09-30 INDL   C      D      STD     USD  \n",
       "  ceq     costat\n",
       "1 100.545 A     \n",
       "2 100.545 A     \n",
       "3 100.545 A     "
      ]
     },
     "metadata": {},
     "output_type": "display_data"
    }
   ],
   "source": [
    "#Import Initial CRSP Data\n",
    "init_feat <- read_csv(\"Data/Downloaded/crsp_comp.csv\", show_col_types = FALSE)\n",
    "\n",
    "head(init_feat, 3)"
   ]
  },
  {
   "cell_type": "markdown",
   "id": "b0aa9489-fd47-41a6-9f07-ae20c3ca4b64",
   "metadata": {},
   "source": [
    "We will only select the needed variables which is the book value of the firm (ceqq). N"
   ]
  },
  {
   "cell_type": "code",
   "execution_count": 11,
   "id": "bb5c43d0-1067-4b45-af39-9dbba2e25d12",
   "metadata": {},
   "outputs": [
    {
     "data": {
      "text/html": [
       "<table class=\"dataframe\">\n",
       "<caption>A tibble: 3 × 3</caption>\n",
       "<thead>\n",
       "\t<tr><th scope=col>PERMNO</th><th scope=col>DATE</th><th scope=col>CEQ</th></tr>\n",
       "\t<tr><th scope=col>&lt;dbl&gt;</th><th scope=col>&lt;date&gt;</th><th scope=col>&lt;dbl&gt;</th></tr>\n",
       "</thead>\n",
       "<tbody>\n",
       "\t<tr><td>10026</td><td>1995-01-31</td><td>100.545</td></tr>\n",
       "\t<tr><td>10026</td><td>1995-02-28</td><td>100.545</td></tr>\n",
       "\t<tr><td>10026</td><td>1995-03-31</td><td>100.545</td></tr>\n",
       "</tbody>\n",
       "</table>\n"
      ],
      "text/latex": [
       "A tibble: 3 × 3\n",
       "\\begin{tabular}{lll}\n",
       " PERMNO & DATE & CEQ\\\\\n",
       " <dbl> & <date> & <dbl>\\\\\n",
       "\\hline\n",
       "\t 10026 & 1995-01-31 & 100.545\\\\\n",
       "\t 10026 & 1995-02-28 & 100.545\\\\\n",
       "\t 10026 & 1995-03-31 & 100.545\\\\\n",
       "\\end{tabular}\n"
      ],
      "text/markdown": [
       "\n",
       "A tibble: 3 × 3\n",
       "\n",
       "| PERMNO &lt;dbl&gt; | DATE &lt;date&gt; | CEQ &lt;dbl&gt; |\n",
       "|---|---|---|\n",
       "| 10026 | 1995-01-31 | 100.545 |\n",
       "| 10026 | 1995-02-28 | 100.545 |\n",
       "| 10026 | 1995-03-31 | 100.545 |\n",
       "\n"
      ],
      "text/plain": [
       "  PERMNO DATE       CEQ    \n",
       "1 10026  1995-01-31 100.545\n",
       "2 10026  1995-02-28 100.545\n",
       "3 10026  1995-03-31 100.545"
      ]
     },
     "metadata": {},
     "output_type": "display_data"
    }
   ],
   "source": [
    "#Format data\n",
    "cols_to_use <- c(\"PERMNO\", \"MthCalDt\", \"ceq\")\n",
    "col_names <- c(\"PERMNO\",\"DATE\",\"CEQ\")\n",
    "\n",
    "feat_data <- init_feat[cols_to_use] %>%             #Select columns\n",
    "    setNames(col_names) %>%                         #Set column names\n",
    "    mutate(DATE = lubridate::rollforward(DATE)) %>% #Roll forward date\n",
    "    distinct()                                      #Remove duplicates\n",
    "\n",
    "head(feat_data,3)"
   ]
  },
  {
   "cell_type": "markdown",
   "id": "4c8635ff-80bc-45ac-a130-66ee69174bf2",
   "metadata": {},
   "source": [
    "### Fama-French Monthly Data\n",
    "\n",
    "Here we import and transform the Fama-French 5-factor data to get the performance of Fama-French portfolios, along with market and risk free returns."
   ]
  },
  {
   "cell_type": "code",
   "execution_count": 12,
   "id": "d9821b37-3fff-491d-8832-716aea5067f9",
   "metadata": {},
   "outputs": [
    {
     "data": {
      "text/html": [
       "<table class=\"dataframe\">\n",
       "<caption>A tibble: 3 × 8</caption>\n",
       "<thead>\n",
       "\t<tr><th scope=col>mktrf</th><th scope=col>smb</th><th scope=col>hml</th><th scope=col>rmw</th><th scope=col>cma</th><th scope=col>rf</th><th scope=col>umd</th><th scope=col>dateff</th></tr>\n",
       "\t<tr><th scope=col>&lt;dbl&gt;</th><th scope=col>&lt;dbl&gt;</th><th scope=col>&lt;dbl&gt;</th><th scope=col>&lt;dbl&gt;</th><th scope=col>&lt;dbl&gt;</th><th scope=col>&lt;dbl&gt;</th><th scope=col>&lt;dbl&gt;</th><th scope=col>&lt;date&gt;</th></tr>\n",
       "</thead>\n",
       "<tbody>\n",
       "\t<tr><td>0.0180</td><td>-0.0306</td><td> 0.0257</td><td> 0.0017</td><td>-0.0075</td><td>0.0042</td><td>-0.0181</td><td>1995-01-31</td></tr>\n",
       "\t<tr><td>0.0363</td><td>-0.0054</td><td> 0.0108</td><td> 0.0059</td><td>-0.0033</td><td>0.0040</td><td>-0.0039</td><td>1995-02-28</td></tr>\n",
       "\t<tr><td>0.0219</td><td>-0.0051</td><td>-0.0215</td><td>-0.0017</td><td> 0.0022</td><td>0.0046</td><td> 0.0043</td><td>1995-03-31</td></tr>\n",
       "</tbody>\n",
       "</table>\n"
      ],
      "text/latex": [
       "A tibble: 3 × 8\n",
       "\\begin{tabular}{llllllll}\n",
       " mktrf & smb & hml & rmw & cma & rf & umd & dateff\\\\\n",
       " <dbl> & <dbl> & <dbl> & <dbl> & <dbl> & <dbl> & <dbl> & <date>\\\\\n",
       "\\hline\n",
       "\t 0.0180 & -0.0306 &  0.0257 &  0.0017 & -0.0075 & 0.0042 & -0.0181 & 1995-01-31\\\\\n",
       "\t 0.0363 & -0.0054 &  0.0108 &  0.0059 & -0.0033 & 0.0040 & -0.0039 & 1995-02-28\\\\\n",
       "\t 0.0219 & -0.0051 & -0.0215 & -0.0017 &  0.0022 & 0.0046 &  0.0043 & 1995-03-31\\\\\n",
       "\\end{tabular}\n"
      ],
      "text/markdown": [
       "\n",
       "A tibble: 3 × 8\n",
       "\n",
       "| mktrf &lt;dbl&gt; | smb &lt;dbl&gt; | hml &lt;dbl&gt; | rmw &lt;dbl&gt; | cma &lt;dbl&gt; | rf &lt;dbl&gt; | umd &lt;dbl&gt; | dateff &lt;date&gt; |\n",
       "|---|---|---|---|---|---|---|---|\n",
       "| 0.0180 | -0.0306 |  0.0257 |  0.0017 | -0.0075 | 0.0042 | -0.0181 | 1995-01-31 |\n",
       "| 0.0363 | -0.0054 |  0.0108 |  0.0059 | -0.0033 | 0.0040 | -0.0039 | 1995-02-28 |\n",
       "| 0.0219 | -0.0051 | -0.0215 | -0.0017 |  0.0022 | 0.0046 |  0.0043 | 1995-03-31 |\n",
       "\n"
      ],
      "text/plain": [
       "  mktrf  smb     hml     rmw     cma     rf     umd     dateff    \n",
       "1 0.0180 -0.0306  0.0257  0.0017 -0.0075 0.0042 -0.0181 1995-01-31\n",
       "2 0.0363 -0.0054  0.0108  0.0059 -0.0033 0.0040 -0.0039 1995-02-28\n",
       "3 0.0219 -0.0051 -0.0215 -0.0017  0.0022 0.0046  0.0043 1995-03-31"
      ]
     },
     "metadata": {},
     "output_type": "display_data"
    }
   ],
   "source": [
    "#Import Feature Data\n",
    "init_ff <- read_csv(\"Data/Downloaded/ff_monthly.csv\", show_col_types = FALSE)\n",
    "\n",
    "head(init_ff, 3)"
   ]
  },
  {
   "cell_type": "code",
   "execution_count": 13,
   "id": "e05c618a-1acb-43c0-a807-3bc2ec367619",
   "metadata": {},
   "outputs": [
    {
     "data": {
      "text/html": [
       "<table class=\"dataframe\">\n",
       "<caption>A tibble: 3 × 4</caption>\n",
       "<thead>\n",
       "\t<tr><th scope=col>DATE</th><th scope=col>XRM</th><th scope=col>RF</th><th scope=col>WML</th></tr>\n",
       "\t<tr><th scope=col>&lt;date&gt;</th><th scope=col>&lt;dbl&gt;</th><th scope=col>&lt;dbl&gt;</th><th scope=col>&lt;dbl&gt;</th></tr>\n",
       "</thead>\n",
       "<tbody>\n",
       "\t<tr><td>1995-01-31</td><td>0.0180</td><td>0.0042</td><td>-0.0181</td></tr>\n",
       "\t<tr><td>1995-02-28</td><td>0.0363</td><td>0.0040</td><td>-0.0039</td></tr>\n",
       "\t<tr><td>1995-03-31</td><td>0.0219</td><td>0.0046</td><td> 0.0043</td></tr>\n",
       "</tbody>\n",
       "</table>\n"
      ],
      "text/latex": [
       "A tibble: 3 × 4\n",
       "\\begin{tabular}{llll}\n",
       " DATE & XRM & RF & WML\\\\\n",
       " <date> & <dbl> & <dbl> & <dbl>\\\\\n",
       "\\hline\n",
       "\t 1995-01-31 & 0.0180 & 0.0042 & -0.0181\\\\\n",
       "\t 1995-02-28 & 0.0363 & 0.0040 & -0.0039\\\\\n",
       "\t 1995-03-31 & 0.0219 & 0.0046 &  0.0043\\\\\n",
       "\\end{tabular}\n"
      ],
      "text/markdown": [
       "\n",
       "A tibble: 3 × 4\n",
       "\n",
       "| DATE &lt;date&gt; | XRM &lt;dbl&gt; | RF &lt;dbl&gt; | WML &lt;dbl&gt; |\n",
       "|---|---|---|---|\n",
       "| 1995-01-31 | 0.0180 | 0.0042 | -0.0181 |\n",
       "| 1995-02-28 | 0.0363 | 0.0040 | -0.0039 |\n",
       "| 1995-03-31 | 0.0219 | 0.0046 |  0.0043 |\n",
       "\n"
      ],
      "text/plain": [
       "  DATE       XRM    RF     WML    \n",
       "1 1995-01-31 0.0180 0.0042 -0.0181\n",
       "2 1995-02-28 0.0363 0.0040 -0.0039\n",
       "3 1995-03-31 0.0219 0.0046  0.0043"
      ]
     },
     "metadata": {},
     "output_type": "display_data"
    }
   ],
   "source": [
    "#Format data\n",
    "cols_to_use <- c(\"dateff\", \"mktrf\", \"rf\", \"umd\")\n",
    "col_names <- c(\"DATE\",\"XRM\", \"RF\", \"WML\")\n",
    "ff_data <- init_ff[cols_to_use] %>%                 #Select columns\n",
    "    setNames(col_names) %>%                         #Set column names\n",
    "    mutate(DATE = lubridate::rollforward(DATE)) %>% #Set dates to EOM\n",
    "    distinct()                                      #Remove duplicates\n",
    "head(ff_data,3)"
   ]
  },
  {
   "cell_type": "markdown",
   "id": "5731dbe1-9dbe-48c3-b5fc-c92de6f4a7f0",
   "metadata": {},
   "source": [
    "### Fama-French Daily Data"
   ]
  },
  {
   "cell_type": "markdown",
   "id": "3f111539-cacb-4f72-9ad3-79cf8d7fbdf9",
   "metadata": {},
   "source": [
    "Use the Fama-French daily data to calculate the volatility of the WML portfolio."
   ]
  },
  {
   "cell_type": "code",
   "execution_count": 14,
   "id": "74cac633-6994-4dbb-b41d-ba3f6160a68a",
   "metadata": {},
   "outputs": [
    {
     "data": {
      "text/html": [
       "<table class=\"dataframe\">\n",
       "<caption>A tibble: 3 × 3</caption>\n",
       "<thead>\n",
       "\t<tr><th scope=col>date</th><th scope=col>rf</th><th scope=col>umd</th></tr>\n",
       "\t<tr><th scope=col>&lt;date&gt;</th><th scope=col>&lt;dbl&gt;</th><th scope=col>&lt;dbl&gt;</th></tr>\n",
       "</thead>\n",
       "<tbody>\n",
       "\t<tr><td>1995-01-03</td><td>2e-04</td><td>-0.0117</td></tr>\n",
       "\t<tr><td>1995-01-04</td><td>2e-04</td><td>-0.0056</td></tr>\n",
       "\t<tr><td>1995-01-05</td><td>2e-04</td><td>-0.0039</td></tr>\n",
       "</tbody>\n",
       "</table>\n"
      ],
      "text/latex": [
       "A tibble: 3 × 3\n",
       "\\begin{tabular}{lll}\n",
       " date & rf & umd\\\\\n",
       " <date> & <dbl> & <dbl>\\\\\n",
       "\\hline\n",
       "\t 1995-01-03 & 2e-04 & -0.0117\\\\\n",
       "\t 1995-01-04 & 2e-04 & -0.0056\\\\\n",
       "\t 1995-01-05 & 2e-04 & -0.0039\\\\\n",
       "\\end{tabular}\n"
      ],
      "text/markdown": [
       "\n",
       "A tibble: 3 × 3\n",
       "\n",
       "| date &lt;date&gt; | rf &lt;dbl&gt; | umd &lt;dbl&gt; |\n",
       "|---|---|---|\n",
       "| 1995-01-03 | 2e-04 | -0.0117 |\n",
       "| 1995-01-04 | 2e-04 | -0.0056 |\n",
       "| 1995-01-05 | 2e-04 | -0.0039 |\n",
       "\n"
      ],
      "text/plain": [
       "  date       rf    umd    \n",
       "1 1995-01-03 2e-04 -0.0117\n",
       "2 1995-01-04 2e-04 -0.0056\n",
       "3 1995-01-05 2e-04 -0.0039"
      ]
     },
     "metadata": {},
     "output_type": "display_data"
    }
   ],
   "source": [
    "#Import Feature Data\n",
    "init_ffd <- read_csv(\"Data/Downloaded/ff_daily.csv\", show_col_types = FALSE)\n",
    "\n",
    "head(init_ffd, 3)"
   ]
  },
  {
   "cell_type": "markdown",
   "id": "59e5f4bd-52c5-4368-9726-609709435d5d",
   "metadata": {},
   "source": [
    "We format the data and compute the variance forcast which is the rolling sum of squares of momentum returns over the past 126 days."
   ]
  },
  {
   "cell_type": "code",
   "execution_count": 15,
   "id": "cdfd1159-e5d1-4e39-b8f4-0c9c77453300",
   "metadata": {},
   "outputs": [
    {
     "data": {
      "text/html": [
       "<table class=\"dataframe\">\n",
       "<caption>A tibble: 3 × 2</caption>\n",
       "<thead>\n",
       "\t<tr><th scope=col>DATE</th><th scope=col>WML_VOL</th></tr>\n",
       "\t<tr><th scope=col>&lt;date&gt;</th><th scope=col>&lt;dbl&gt;</th></tr>\n",
       "</thead>\n",
       "<tbody>\n",
       "\t<tr><td>1997-01-02</td><td>0.01715202</td></tr>\n",
       "\t<tr><td>1997-01-03</td><td>0.01703839</td></tr>\n",
       "\t<tr><td>1997-01-06</td><td>0.01703839</td></tr>\n",
       "</tbody>\n",
       "</table>\n"
      ],
      "text/latex": [
       "A tibble: 3 × 2\n",
       "\\begin{tabular}{ll}\n",
       " DATE & WML\\_VOL\\\\\n",
       " <date> & <dbl>\\\\\n",
       "\\hline\n",
       "\t 1997-01-02 & 0.01715202\\\\\n",
       "\t 1997-01-03 & 0.01703839\\\\\n",
       "\t 1997-01-06 & 0.01703839\\\\\n",
       "\\end{tabular}\n"
      ],
      "text/markdown": [
       "\n",
       "A tibble: 3 × 2\n",
       "\n",
       "| DATE &lt;date&gt; | WML_VOL &lt;dbl&gt; |\n",
       "|---|---|\n",
       "| 1997-01-02 | 0.01715202 |\n",
       "| 1997-01-03 | 0.01703839 |\n",
       "| 1997-01-06 | 0.01703839 |\n",
       "\n"
      ],
      "text/plain": [
       "  DATE       WML_VOL   \n",
       "1 1997-01-02 0.01715202\n",
       "2 1997-01-03 0.01703839\n",
       "3 1997-01-06 0.01703839"
      ]
     },
     "metadata": {},
     "output_type": "display_data"
    }
   ],
   "source": [
    "#Format data and compute variance forcast\n",
    "cols_to_use <- c(\"date\", \"umd\")\n",
    "col_names <- c(\"DATE\", \"WML\")\n",
    "\n",
    "ffd_data <- init_ffd[cols_to_use] %>%                       #Select columns\n",
    "    setNames(col_names) %>%                                 #Set column names\n",
    "    drop_na() %>%                                           #Remove NA values\n",
    "    mutate(SRET = WML ^ 2) %>%                              #Calculate sum of squares of returns\n",
    "    mutate(SSROLL = rollsumr(x = SRET, 126, fill = NA)) %>% #Calculate rolling sum of returns\n",
    "    mutate(WML_VOL = sqrt(21 / 126 * SSROLL)) %>%           #Compute volatility\n",
    "    select(all_of(c(\"DATE\", \"WML_VOL\"))) %>%                #Select needed columns\n",
    "    filter(DATE >= \"1997-1-1\")                              #Only keep data with a full rolling period\n",
    "\n",
    "head(ffd_data,3)"
   ]
  },
  {
   "cell_type": "markdown",
   "id": "deff4f6b-2f54-4452-ac32-b3b890fe605d",
   "metadata": {},
   "source": [
    "Again, we computed the rolling returns for every daily entry. We only care about the data available at the end of each month for our final monthly dataset, so we only need to keep the last volatility metric available for each month."
   ]
  },
  {
   "cell_type": "code",
   "execution_count": 16,
   "id": "992097e3-2b2f-4f72-bc65-5058908446cf",
   "metadata": {},
   "outputs": [
    {
     "data": {
      "text/html": [
       "<table class=\"dataframe\">\n",
       "<caption>A tibble: 3 × 2</caption>\n",
       "<thead>\n",
       "\t<tr><th scope=col>DATE</th><th scope=col>WML_VOL</th></tr>\n",
       "\t<tr><th scope=col>&lt;date&gt;</th><th scope=col>&lt;dbl&gt;</th></tr>\n",
       "</thead>\n",
       "<tbody>\n",
       "\t<tr><td>1997-01-31</td><td>0.01584787</td></tr>\n",
       "\t<tr><td>1997-02-28</td><td>0.01713072</td></tr>\n",
       "\t<tr><td>1997-03-31</td><td>0.01762276</td></tr>\n",
       "</tbody>\n",
       "</table>\n"
      ],
      "text/latex": [
       "A tibble: 3 × 2\n",
       "\\begin{tabular}{ll}\n",
       " DATE & WML\\_VOL\\\\\n",
       " <date> & <dbl>\\\\\n",
       "\\hline\n",
       "\t 1997-01-31 & 0.01584787\\\\\n",
       "\t 1997-02-28 & 0.01713072\\\\\n",
       "\t 1997-03-31 & 0.01762276\\\\\n",
       "\\end{tabular}\n"
      ],
      "text/markdown": [
       "\n",
       "A tibble: 3 × 2\n",
       "\n",
       "| DATE &lt;date&gt; | WML_VOL &lt;dbl&gt; |\n",
       "|---|---|\n",
       "| 1997-01-31 | 0.01584787 |\n",
       "| 1997-02-28 | 0.01713072 |\n",
       "| 1997-03-31 | 0.01762276 |\n",
       "\n"
      ],
      "text/plain": [
       "  DATE       WML_VOL   \n",
       "1 1997-01-31 0.01584787\n",
       "2 1997-02-28 0.01713072\n",
       "3 1997-03-31 0.01762276"
      ]
     },
     "metadata": {},
     "output_type": "display_data"
    }
   ],
   "source": [
    "#Select monthly returns\n",
    "WML_VOL_data <- ffd_data %>% \n",
    "    group_by(month = lubridate::ceiling_date(DATE, \"month\")) %>%\n",
    "    slice_tail() %>%                                #Keep only last entry of month\n",
    "    ungroup() %>%\n",
    "    mutate(DATE = lubridate::rollforward(DATE)) %>% #Set dates to EOM\n",
    "    select(all_of(c(\"DATE\", \"WML_VOL\")))\n",
    "\n",
    "head(WML_VOL_data, 3)"
   ]
  },
  {
   "cell_type": "markdown",
   "id": "883b8739-48af-4b48-8f62-f5acce1abb76",
   "metadata": {},
   "source": [
    "### Create Combined Dataset\n",
    "\n",
    "Now that all of our datasets are in the same format, we can combine them all into a single monthly dataset."
   ]
  },
  {
   "cell_type": "code",
   "execution_count": 17,
   "id": "ff283286-bdb0-406e-92e8-96cbb73a49bb",
   "metadata": {},
   "outputs": [
    {
     "data": {
      "text/html": [
       "<table class=\"dataframe\">\n",
       "<caption>A tibble: 5 × 13</caption>\n",
       "<thead>\n",
       "\t<tr><th scope=col>DATE</th><th scope=col>PERMNO</th><th scope=col>PERMCO</th><th scope=col>TIC</th><th scope=col>PRC</th><th scope=col>RET</th><th scope=col>SHROUT</th><th scope=col>CEQ</th><th scope=col>VOL</th><th scope=col>XRM</th><th scope=col>RF</th><th scope=col>WML</th><th scope=col>WML_VOL</th></tr>\n",
       "\t<tr><th scope=col>&lt;date&gt;</th><th scope=col>&lt;dbl&gt;</th><th scope=col>&lt;dbl&gt;</th><th scope=col>&lt;chr&gt;</th><th scope=col>&lt;dbl&gt;</th><th scope=col>&lt;dbl&gt;</th><th scope=col>&lt;dbl&gt;</th><th scope=col>&lt;dbl&gt;</th><th scope=col>&lt;dbl&gt;</th><th scope=col>&lt;dbl&gt;</th><th scope=col>&lt;dbl&gt;</th><th scope=col>&lt;dbl&gt;</th><th scope=col>&lt;dbl&gt;</th></tr>\n",
       "</thead>\n",
       "<tbody>\n",
       "\t<tr><td>2004-01-31</td><td>10026</td><td>7976</td><td>JJSF</td><td>42.10</td><td> 0.114936</td><td>8801</td><td>182.564</td><td>0.09347483</td><td> 0.0215</td><td>7e-04</td><td> 0.0258</td><td>0.02589047</td></tr>\n",
       "\t<tr><td>2004-02-29</td><td>10026</td><td>7976</td><td>JJSF</td><td>47.26</td><td> 0.122565</td><td>8801</td><td>182.564</td><td>0.09796190</td><td> 0.0140</td><td>6e-04</td><td>-0.0114</td><td>0.02849751</td></tr>\n",
       "\t<tr><td>2004-03-31</td><td>10026</td><td>7976</td><td>JJSF</td><td>45.18</td><td>-0.044012</td><td>8906</td><td>182.564</td><td>0.10015411</td><td>-0.0132</td><td>9e-04</td><td> 0.0017</td><td>0.02949613</td></tr>\n",
       "\t<tr><td>2004-04-30</td><td>10026</td><td>7976</td><td>JJSF</td><td>37.71</td><td>-0.165339</td><td>8911</td><td>182.564</td><td>0.10577529</td><td>-0.0183</td><td>8e-04</td><td>-0.0538</td><td>0.02896038</td></tr>\n",
       "\t<tr><td>2004-05-31</td><td>10026</td><td>7976</td><td>JJSF</td><td>39.53</td><td> 0.048263</td><td>8911</td><td>182.564</td><td>0.10950843</td><td> 0.0117</td><td>6e-04</td><td> 0.0150</td><td>0.02831440</td></tr>\n",
       "</tbody>\n",
       "</table>\n"
      ],
      "text/latex": [
       "A tibble: 5 × 13\n",
       "\\begin{tabular}{lllllllllllll}\n",
       " DATE & PERMNO & PERMCO & TIC & PRC & RET & SHROUT & CEQ & VOL & XRM & RF & WML & WML\\_VOL\\\\\n",
       " <date> & <dbl> & <dbl> & <chr> & <dbl> & <dbl> & <dbl> & <dbl> & <dbl> & <dbl> & <dbl> & <dbl> & <dbl>\\\\\n",
       "\\hline\n",
       "\t 2004-01-31 & 10026 & 7976 & JJSF & 42.10 &  0.114936 & 8801 & 182.564 & 0.09347483 &  0.0215 & 7e-04 &  0.0258 & 0.02589047\\\\\n",
       "\t 2004-02-29 & 10026 & 7976 & JJSF & 47.26 &  0.122565 & 8801 & 182.564 & 0.09796190 &  0.0140 & 6e-04 & -0.0114 & 0.02849751\\\\\n",
       "\t 2004-03-31 & 10026 & 7976 & JJSF & 45.18 & -0.044012 & 8906 & 182.564 & 0.10015411 & -0.0132 & 9e-04 &  0.0017 & 0.02949613\\\\\n",
       "\t 2004-04-30 & 10026 & 7976 & JJSF & 37.71 & -0.165339 & 8911 & 182.564 & 0.10577529 & -0.0183 & 8e-04 & -0.0538 & 0.02896038\\\\\n",
       "\t 2004-05-31 & 10026 & 7976 & JJSF & 39.53 &  0.048263 & 8911 & 182.564 & 0.10950843 &  0.0117 & 6e-04 &  0.0150 & 0.02831440\\\\\n",
       "\\end{tabular}\n"
      ],
      "text/markdown": [
       "\n",
       "A tibble: 5 × 13\n",
       "\n",
       "| DATE &lt;date&gt; | PERMNO &lt;dbl&gt; | PERMCO &lt;dbl&gt; | TIC &lt;chr&gt; | PRC &lt;dbl&gt; | RET &lt;dbl&gt; | SHROUT &lt;dbl&gt; | CEQ &lt;dbl&gt; | VOL &lt;dbl&gt; | XRM &lt;dbl&gt; | RF &lt;dbl&gt; | WML &lt;dbl&gt; | WML_VOL &lt;dbl&gt; |\n",
       "|---|---|---|---|---|---|---|---|---|---|---|---|---|\n",
       "| 2004-01-31 | 10026 | 7976 | JJSF | 42.10 |  0.114936 | 8801 | 182.564 | 0.09347483 |  0.0215 | 7e-04 |  0.0258 | 0.02589047 |\n",
       "| 2004-02-29 | 10026 | 7976 | JJSF | 47.26 |  0.122565 | 8801 | 182.564 | 0.09796190 |  0.0140 | 6e-04 | -0.0114 | 0.02849751 |\n",
       "| 2004-03-31 | 10026 | 7976 | JJSF | 45.18 | -0.044012 | 8906 | 182.564 | 0.10015411 | -0.0132 | 9e-04 |  0.0017 | 0.02949613 |\n",
       "| 2004-04-30 | 10026 | 7976 | JJSF | 37.71 | -0.165339 | 8911 | 182.564 | 0.10577529 | -0.0183 | 8e-04 | -0.0538 | 0.02896038 |\n",
       "| 2004-05-31 | 10026 | 7976 | JJSF | 39.53 |  0.048263 | 8911 | 182.564 | 0.10950843 |  0.0117 | 6e-04 |  0.0150 | 0.02831440 |\n",
       "\n"
      ],
      "text/plain": [
       "  DATE       PERMNO PERMCO TIC  PRC   RET       SHROUT CEQ     VOL       \n",
       "1 2004-01-31 10026  7976   JJSF 42.10  0.114936 8801   182.564 0.09347483\n",
       "2 2004-02-29 10026  7976   JJSF 47.26  0.122565 8801   182.564 0.09796190\n",
       "3 2004-03-31 10026  7976   JJSF 45.18 -0.044012 8906   182.564 0.10015411\n",
       "4 2004-04-30 10026  7976   JJSF 37.71 -0.165339 8911   182.564 0.10577529\n",
       "5 2004-05-31 10026  7976   JJSF 39.53  0.048263 8911   182.564 0.10950843\n",
       "  XRM     RF    WML     WML_VOL   \n",
       "1  0.0215 7e-04  0.0258 0.02589047\n",
       "2  0.0140 6e-04 -0.0114 0.02849751\n",
       "3 -0.0132 9e-04  0.0017 0.02949613\n",
       "4 -0.0183 8e-04 -0.0538 0.02896038\n",
       "5  0.0117 6e-04  0.0150 0.02831440"
      ]
     },
     "metadata": {},
     "output_type": "display_data"
    }
   ],
   "source": [
    "#Merge datasets together\n",
    "comb_data <- left_join(crsp_data, feat_data, by = c(\"PERMNO\", \"DATE\")) %>%\n",
    "    left_join(stock_vol, by = c(\"PERMNO\", \"DATE\")) %>%\n",
    "    left_join(ff_data, by = c(\"DATE\")) %>%\n",
    "    left_join(WML_VOL_data, by = c(\"DATE\")) %>%\n",
    "    arrange(PERMNO, DATE)                   #Order data \n",
    "\n",
    "head(filter(comb_data, DATE > start_date), 5)"
   ]
  },
  {
   "cell_type": "markdown",
   "id": "ebe0bf68-228b-43f4-ae9f-e0bc760b61d3",
   "metadata": {},
   "source": [
    "Next, use calculations to add key features like return (RET), or book-to-market ratio (BMKT).\n",
    "\n",
    "Our momentum proxy is the past 12 month return (minus the most recent month). This is used to protect against short term reversals."
   ]
  },
  {
   "cell_type": "code",
   "execution_count": 18,
   "id": "3cc60b14-87db-4267-a8db-b9446b049acc",
   "metadata": {},
   "outputs": [
    {
     "data": {
      "text/html": [
       "<table class=\"dataframe\">\n",
       "<caption>A tibble: 3 × 20</caption>\n",
       "<thead>\n",
       "\t<tr><th scope=col>DATE</th><th scope=col>PERMNO</th><th scope=col>PERMCO</th><th scope=col>TIC</th><th scope=col>PRC</th><th scope=col>RET</th><th scope=col>SHROUT</th><th scope=col>CEQ</th><th scope=col>VOL</th><th scope=col>XRM</th><th scope=col>RF</th><th scope=col>WML</th><th scope=col>WML_VOL</th><th scope=col>XRET</th><th scope=col>FRET</th><th scope=col>MCAP</th><th scope=col>BMKT</th><th scope=col>RET11</th><th scope=col>XRET11</th><th scope=col>RV</th></tr>\n",
       "\t<tr><th scope=col>&lt;date&gt;</th><th scope=col>&lt;dbl&gt;</th><th scope=col>&lt;dbl&gt;</th><th scope=col>&lt;chr&gt;</th><th scope=col>&lt;dbl&gt;</th><th scope=col>&lt;dbl&gt;</th><th scope=col>&lt;dbl&gt;</th><th scope=col>&lt;dbl&gt;</th><th scope=col>&lt;dbl&gt;</th><th scope=col>&lt;dbl&gt;</th><th scope=col>&lt;dbl&gt;</th><th scope=col>&lt;dbl&gt;</th><th scope=col>&lt;dbl&gt;</th><th scope=col>&lt;dbl&gt;</th><th scope=col>&lt;dbl&gt;</th><th scope=col>&lt;dbl&gt;</th><th scope=col>&lt;dbl&gt;</th><th scope=col>&lt;dbl&gt;</th><th scope=col>&lt;dbl&gt;</th><th scope=col>&lt;dbl&gt;</th></tr>\n",
       "</thead>\n",
       "<tbody>\n",
       "\t<tr><td>2004-01-31</td><td>10026</td><td>7976</td><td>JJSF</td><td>42.10</td><td> 0.114936</td><td>8801</td><td>182.564</td><td>0.09347483</td><td> 0.0215</td><td>7e-04</td><td> 0.0258</td><td>0.02589047</td><td> 0.114236</td><td> 0.122565</td><td>370522.1</td><td>0.0004927209</td><td>0.03309673</td><td>0.03226036</td><td>3.692154</td></tr>\n",
       "\t<tr><td>2004-02-29</td><td>10026</td><td>7976</td><td>JJSF</td><td>47.26</td><td> 0.122565</td><td>8801</td><td>182.564</td><td>0.09796190</td><td> 0.0140</td><td>6e-04</td><td>-0.0114</td><td>0.02849751</td><td> 0.121965</td><td>-0.044012</td><td>415935.3</td><td>0.0004389241</td><td>0.03532145</td><td>0.03450327</td><td>3.595389</td></tr>\n",
       "\t<tr><td>2004-03-31</td><td>10026</td><td>7976</td><td>JJSF</td><td>45.18</td><td>-0.044012</td><td>8906</td><td>182.564</td><td>0.10015411</td><td>-0.0132</td><td>9e-04</td><td> 0.0017</td><td>0.02949613</td><td>-0.044912</td><td>-0.165339</td><td>402373.1</td><td>0.0004537182</td><td>0.04209582</td><td>0.04131400</td><td>4.118695</td></tr>\n",
       "</tbody>\n",
       "</table>\n"
      ],
      "text/latex": [
       "A tibble: 3 × 20\n",
       "\\begin{tabular}{llllllllllllllllllll}\n",
       " DATE & PERMNO & PERMCO & TIC & PRC & RET & SHROUT & CEQ & VOL & XRM & RF & WML & WML\\_VOL & XRET & FRET & MCAP & BMKT & RET11 & XRET11 & RV\\\\\n",
       " <date> & <dbl> & <dbl> & <chr> & <dbl> & <dbl> & <dbl> & <dbl> & <dbl> & <dbl> & <dbl> & <dbl> & <dbl> & <dbl> & <dbl> & <dbl> & <dbl> & <dbl> & <dbl> & <dbl>\\\\\n",
       "\\hline\n",
       "\t 2004-01-31 & 10026 & 7976 & JJSF & 42.10 &  0.114936 & 8801 & 182.564 & 0.09347483 &  0.0215 & 7e-04 &  0.0258 & 0.02589047 &  0.114236 &  0.122565 & 370522.1 & 0.0004927209 & 0.03309673 & 0.03226036 & 3.692154\\\\\n",
       "\t 2004-02-29 & 10026 & 7976 & JJSF & 47.26 &  0.122565 & 8801 & 182.564 & 0.09796190 &  0.0140 & 6e-04 & -0.0114 & 0.02849751 &  0.121965 & -0.044012 & 415935.3 & 0.0004389241 & 0.03532145 & 0.03450327 & 3.595389\\\\\n",
       "\t 2004-03-31 & 10026 & 7976 & JJSF & 45.18 & -0.044012 & 8906 & 182.564 & 0.10015411 & -0.0132 & 9e-04 &  0.0017 & 0.02949613 & -0.044912 & -0.165339 & 402373.1 & 0.0004537182 & 0.04209582 & 0.04131400 & 4.118695\\\\\n",
       "\\end{tabular}\n"
      ],
      "text/markdown": [
       "\n",
       "A tibble: 3 × 20\n",
       "\n",
       "| DATE &lt;date&gt; | PERMNO &lt;dbl&gt; | PERMCO &lt;dbl&gt; | TIC &lt;chr&gt; | PRC &lt;dbl&gt; | RET &lt;dbl&gt; | SHROUT &lt;dbl&gt; | CEQ &lt;dbl&gt; | VOL &lt;dbl&gt; | XRM &lt;dbl&gt; | RF &lt;dbl&gt; | WML &lt;dbl&gt; | WML_VOL &lt;dbl&gt; | XRET &lt;dbl&gt; | FRET &lt;dbl&gt; | MCAP &lt;dbl&gt; | BMKT &lt;dbl&gt; | RET11 &lt;dbl&gt; | XRET11 &lt;dbl&gt; | RV &lt;dbl&gt; |\n",
       "|---|---|---|---|---|---|---|---|---|---|---|---|---|---|---|---|---|---|---|---|\n",
       "| 2004-01-31 | 10026 | 7976 | JJSF | 42.10 |  0.114936 | 8801 | 182.564 | 0.09347483 |  0.0215 | 7e-04 |  0.0258 | 0.02589047 |  0.114236 |  0.122565 | 370522.1 | 0.0004927209 | 0.03309673 | 0.03226036 | 3.692154 |\n",
       "| 2004-02-29 | 10026 | 7976 | JJSF | 47.26 |  0.122565 | 8801 | 182.564 | 0.09796190 |  0.0140 | 6e-04 | -0.0114 | 0.02849751 |  0.121965 | -0.044012 | 415935.3 | 0.0004389241 | 0.03532145 | 0.03450327 | 3.595389 |\n",
       "| 2004-03-31 | 10026 | 7976 | JJSF | 45.18 | -0.044012 | 8906 | 182.564 | 0.10015411 | -0.0132 | 9e-04 |  0.0017 | 0.02949613 | -0.044912 | -0.165339 | 402373.1 | 0.0004537182 | 0.04209582 | 0.04131400 | 4.118695 |\n",
       "\n"
      ],
      "text/plain": [
       "  DATE       PERMNO PERMCO TIC  PRC   RET       SHROUT CEQ     VOL       \n",
       "1 2004-01-31 10026  7976   JJSF 42.10  0.114936 8801   182.564 0.09347483\n",
       "2 2004-02-29 10026  7976   JJSF 47.26  0.122565 8801   182.564 0.09796190\n",
       "3 2004-03-31 10026  7976   JJSF 45.18 -0.044012 8906   182.564 0.10015411\n",
       "  XRM     RF    WML     WML_VOL    XRET      FRET      MCAP     BMKT        \n",
       "1  0.0215 7e-04  0.0258 0.02589047  0.114236  0.122565 370522.1 0.0004927209\n",
       "2  0.0140 6e-04 -0.0114 0.02849751  0.121965 -0.044012 415935.3 0.0004389241\n",
       "3 -0.0132 9e-04  0.0017 0.02949613 -0.044912 -0.165339 402373.1 0.0004537182\n",
       "  RET11      XRET11     RV      \n",
       "1 0.03309673 0.03226036 3.692154\n",
       "2 0.03532145 0.03450327 3.595389\n",
       "3 0.04209582 0.04131400 4.118695"
      ]
     },
     "metadata": {},
     "output_type": "display_data"
    }
   ],
   "source": [
    "#Add features\n",
    "fact_data <- comb_data %>% group_by(PERMNO) %>%\n",
    "    mutate(XRET = RET - RF) %>%                     #Add excess return\n",
    "    mutate(FRET = lead(RET)) %>%                    #Add future returns\n",
    "    mutate(MCAP = SHROUT * PRC) %>%                 #Add market capitalization\n",
    "    mutate(BMKT = CEQ / MCAP) %>%                   #Add book-to-market ratio\n",
    "    mutate(RET11 = 1/11 * \n",
    "           (rollsumr(x = RET, 12, fill = NA) - RET)) %>%    #Rolling momentum\n",
    "    mutate(XRET11 = 1/11 * \n",
    "           (rollsumr(x = XRET, 12, fill = NA) - XRET)) %>%  #Rolling excess momentum\n",
    "    mutate(RV = XRET11 / (VOL ^ 2)) %>%             #RV ratio         \n",
    "    ungroup()\n",
    "\n",
    "head(filter(fact_data, DATE > start_date), 3)"
   ]
  },
  {
   "cell_type": "markdown",
   "id": "b2d4e629-958e-4275-a6ba-83546a6b88b5",
   "metadata": {},
   "source": [
    "### Add WML* factor\n",
    "\n",
    "Compute WML* returns. This strategy scales the portfolio size based on an annualized target volatility of 12%. This factor is suggested by Barroso and Santa-Clara (2015)."
   ]
  },
  {
   "cell_type": "code",
   "execution_count": 19,
   "id": "636247df-9c3f-4545-b3b7-0ee954d9420b",
   "metadata": {},
   "outputs": [
    {
     "data": {
      "text/html": [
       "<table class=\"dataframe\">\n",
       "<caption>A tibble: 3 × 21</caption>\n",
       "<thead>\n",
       "\t<tr><th scope=col>DATE</th><th scope=col>PERMNO</th><th scope=col>PERMCO</th><th scope=col>TIC</th><th scope=col>PRC</th><th scope=col>RET</th><th scope=col>SHROUT</th><th scope=col>CEQ</th><th scope=col>VOL</th><th scope=col>XRM</th><th scope=col>⋯</th><th scope=col>WML</th><th scope=col>WML_VOL</th><th scope=col>XRET</th><th scope=col>FRET</th><th scope=col>MCAP</th><th scope=col>BMKT</th><th scope=col>RET11</th><th scope=col>XRET11</th><th scope=col>RV</th><th scope=col>WML_star</th></tr>\n",
       "\t<tr><th scope=col>&lt;date&gt;</th><th scope=col>&lt;dbl&gt;</th><th scope=col>&lt;dbl&gt;</th><th scope=col>&lt;chr&gt;</th><th scope=col>&lt;dbl&gt;</th><th scope=col>&lt;dbl&gt;</th><th scope=col>&lt;dbl&gt;</th><th scope=col>&lt;dbl&gt;</th><th scope=col>&lt;dbl&gt;</th><th scope=col>&lt;dbl&gt;</th><th scope=col>⋯</th><th scope=col>&lt;dbl&gt;</th><th scope=col>&lt;dbl&gt;</th><th scope=col>&lt;dbl&gt;</th><th scope=col>&lt;dbl&gt;</th><th scope=col>&lt;dbl&gt;</th><th scope=col>&lt;dbl&gt;</th><th scope=col>&lt;dbl&gt;</th><th scope=col>&lt;dbl&gt;</th><th scope=col>&lt;dbl&gt;</th><th scope=col>&lt;dbl&gt;</th></tr>\n",
       "</thead>\n",
       "<tbody>\n",
       "\t<tr><td>2004-01-31</td><td>10026</td><td>7976</td><td>JJSF</td><td>42.10</td><td> 0.114936</td><td>8801</td><td>182.564</td><td>0.09347483</td><td> 0.0215</td><td>⋯</td><td> 0.0258</td><td>0.02589047</td><td> 0.114236</td><td> 0.122565</td><td>370522.1</td><td>0.0004927209</td><td>0.03309673</td><td>0.03226036</td><td>3.692154</td><td> 0.034519963</td></tr>\n",
       "\t<tr><td>2004-02-29</td><td>10026</td><td>7976</td><td>JJSF</td><td>47.26</td><td> 0.122565</td><td>8801</td><td>182.564</td><td>0.09796190</td><td> 0.0140</td><td>⋯</td><td>-0.0114</td><td>0.02849751</td><td> 0.121965</td><td>-0.044012</td><td>415935.3</td><td>0.0004389241</td><td>0.03532145</td><td>0.03450327</td><td>3.595389</td><td>-0.013857615</td></tr>\n",
       "\t<tr><td>2004-03-31</td><td>10026</td><td>7976</td><td>JJSF</td><td>45.18</td><td>-0.044012</td><td>8906</td><td>182.564</td><td>0.10015411</td><td>-0.0132</td><td>⋯</td><td> 0.0017</td><td>0.02949613</td><td>-0.044912</td><td>-0.165339</td><td>402373.1</td><td>0.0004537182</td><td>0.04209582</td><td>0.04131400</td><td>4.118695</td><td> 0.001996524</td></tr>\n",
       "</tbody>\n",
       "</table>\n"
      ],
      "text/latex": [
       "A tibble: 3 × 21\n",
       "\\begin{tabular}{lllllllllllllllllllll}\n",
       " DATE & PERMNO & PERMCO & TIC & PRC & RET & SHROUT & CEQ & VOL & XRM & ⋯ & WML & WML\\_VOL & XRET & FRET & MCAP & BMKT & RET11 & XRET11 & RV & WML\\_star\\\\\n",
       " <date> & <dbl> & <dbl> & <chr> & <dbl> & <dbl> & <dbl> & <dbl> & <dbl> & <dbl> & ⋯ & <dbl> & <dbl> & <dbl> & <dbl> & <dbl> & <dbl> & <dbl> & <dbl> & <dbl> & <dbl>\\\\\n",
       "\\hline\n",
       "\t 2004-01-31 & 10026 & 7976 & JJSF & 42.10 &  0.114936 & 8801 & 182.564 & 0.09347483 &  0.0215 & ⋯ &  0.0258 & 0.02589047 &  0.114236 &  0.122565 & 370522.1 & 0.0004927209 & 0.03309673 & 0.03226036 & 3.692154 &  0.034519963\\\\\n",
       "\t 2004-02-29 & 10026 & 7976 & JJSF & 47.26 &  0.122565 & 8801 & 182.564 & 0.09796190 &  0.0140 & ⋯ & -0.0114 & 0.02849751 &  0.121965 & -0.044012 & 415935.3 & 0.0004389241 & 0.03532145 & 0.03450327 & 3.595389 & -0.013857615\\\\\n",
       "\t 2004-03-31 & 10026 & 7976 & JJSF & 45.18 & -0.044012 & 8906 & 182.564 & 0.10015411 & -0.0132 & ⋯ &  0.0017 & 0.02949613 & -0.044912 & -0.165339 & 402373.1 & 0.0004537182 & 0.04209582 & 0.04131400 & 4.118695 &  0.001996524\\\\\n",
       "\\end{tabular}\n"
      ],
      "text/markdown": [
       "\n",
       "A tibble: 3 × 21\n",
       "\n",
       "| DATE &lt;date&gt; | PERMNO &lt;dbl&gt; | PERMCO &lt;dbl&gt; | TIC &lt;chr&gt; | PRC &lt;dbl&gt; | RET &lt;dbl&gt; | SHROUT &lt;dbl&gt; | CEQ &lt;dbl&gt; | VOL &lt;dbl&gt; | XRM &lt;dbl&gt; | ⋯ ⋯ | WML &lt;dbl&gt; | WML_VOL &lt;dbl&gt; | XRET &lt;dbl&gt; | FRET &lt;dbl&gt; | MCAP &lt;dbl&gt; | BMKT &lt;dbl&gt; | RET11 &lt;dbl&gt; | XRET11 &lt;dbl&gt; | RV &lt;dbl&gt; | WML_star &lt;dbl&gt; |\n",
       "|---|---|---|---|---|---|---|---|---|---|---|---|---|---|---|---|---|---|---|---|---|\n",
       "| 2004-01-31 | 10026 | 7976 | JJSF | 42.10 |  0.114936 | 8801 | 182.564 | 0.09347483 |  0.0215 | ⋯ |  0.0258 | 0.02589047 |  0.114236 |  0.122565 | 370522.1 | 0.0004927209 | 0.03309673 | 0.03226036 | 3.692154 |  0.034519963 |\n",
       "| 2004-02-29 | 10026 | 7976 | JJSF | 47.26 |  0.122565 | 8801 | 182.564 | 0.09796190 |  0.0140 | ⋯ | -0.0114 | 0.02849751 |  0.121965 | -0.044012 | 415935.3 | 0.0004389241 | 0.03532145 | 0.03450327 | 3.595389 | -0.013857615 |\n",
       "| 2004-03-31 | 10026 | 7976 | JJSF | 45.18 | -0.044012 | 8906 | 182.564 | 0.10015411 | -0.0132 | ⋯ |  0.0017 | 0.02949613 | -0.044912 | -0.165339 | 402373.1 | 0.0004537182 | 0.04209582 | 0.04131400 | 4.118695 |  0.001996524 |\n",
       "\n"
      ],
      "text/plain": [
       "  DATE       PERMNO PERMCO TIC  PRC   RET       SHROUT CEQ     VOL       \n",
       "1 2004-01-31 10026  7976   JJSF 42.10  0.114936 8801   182.564 0.09347483\n",
       "2 2004-02-29 10026  7976   JJSF 47.26  0.122565 8801   182.564 0.09796190\n",
       "3 2004-03-31 10026  7976   JJSF 45.18 -0.044012 8906   182.564 0.10015411\n",
       "  XRM     ⋯ WML     WML_VOL    XRET      FRET      MCAP     BMKT        \n",
       "1  0.0215 ⋯  0.0258 0.02589047  0.114236  0.122565 370522.1 0.0004927209\n",
       "2  0.0140 ⋯ -0.0114 0.02849751  0.121965 -0.044012 415935.3 0.0004389241\n",
       "3 -0.0132 ⋯  0.0017 0.02949613 -0.044912 -0.165339 402373.1 0.0004537182\n",
       "  RET11      XRET11     RV       WML_star    \n",
       "1 0.03309673 0.03226036 3.692154  0.034519963\n",
       "2 0.03532145 0.03450327 3.595389 -0.013857615\n",
       "3 0.04209582 0.04131400 4.118695  0.001996524"
      ]
     },
     "metadata": {},
     "output_type": "display_data"
    }
   ],
   "source": [
    "target_vol <- 0.12 / sqrt(12) #Bring to monthly volatility\n",
    "\n",
    "fact_data2 <- fact_data %>% \n",
    "    mutate(WML_star = target_vol / WML_VOL * WML) #Compute WML*\n",
    "\n",
    "head(filter(fact_data2, DATE > start_date), 3)"
   ]
  },
  {
   "cell_type": "markdown",
   "id": "a19d8476-96cb-4927-980c-597619606d4a",
   "metadata": {},
   "source": [
    "### Add GRJMOM factor\n",
    "\n",
    "Compute the returns of the GRJMOM factor suggested by Fan et al. (2022). This is a modified Sharpe Ratio where the exponent of the volatility is selected each period as the one that maximizes the Sharpe Ratio of the GRJMOM portfolio using all previous data (an expanding window approach)."
   ]
  },
  {
   "cell_type": "code",
   "execution_count": 20,
   "id": "13cea478-811e-4210-b6f8-0e53422a85cf",
   "metadata": {},
   "outputs": [],
   "source": [
    "#This function calculates the monthly returns of the GRJMOM portfolio for the\n",
    "# given dataset and exponent N. It returns the Sharpe ratio of this portfolio\n",
    "# at each month using an expanding window approach\n",
    "GRJMOM_Sharpe <-  function(data, N) {\n",
    "    expand_window <- seq_along(unique(data$DATE))         #Create our expanding window\n",
    "    \n",
    "    ret_data <- data %>% group_by(PERMNO) %>% \n",
    "        mutate(RV = lag(XRET11) / (lag(VOL) ^ N)) %>%     #Dynamic risk variance ratio\n",
    "        ungroup() %>%\n",
    "        group_by(DATE) %>%\n",
    "        mutate(QUANT = ntile(RV, 10)) %>%                 #Split data into deciles based on RV\n",
    "        summarise(WINRET = mean(if_else(QUANT == 10, RET, NA), #Average top decile return\n",
    "                                na.rm = TRUE),\n",
    "                  LOSERET = mean(if_else(QUANT == 1, RET, NA), #Average bottom decile return\n",
    "                                 na.rm = TRUE),\n",
    "                  RF = max(RF)) %>%\n",
    "        mutate(PORTRET = WINRET - LOSERET) %>%            #Compute long-short portfolio return\n",
    "        mutate(XRMEAN = rollapplyr(PORTRET - RF,          #Compute rolling monthly return\n",
    "                                   width = expand_window, \n",
    "                                   FUN = mean, na.rm = TRUE)) %>%\n",
    "        mutate(RSD = rollapplyr(PORTRET,                  #Compute rolling monthly standard deviation\n",
    "                                width = expand_window, \n",
    "                                FUN = sd, na.rm = TRUE)) %>%\n",
    "        mutate(RSHARPE = XRMEAN / RSD) %>%                #Compute rolling monthly Sharpe Ratio\n",
    "        select(all_of(c(\"DATE\", \"RSHARPE\")))              #Select return variables\n",
    "        \n",
    "    return (ret_data)\n",
    "}"
   ]
  },
  {
   "cell_type": "code",
   "execution_count": 21,
   "id": "eb9ac77d-0a41-4ecc-a73b-20997cb07f37",
   "metadata": {},
   "outputs": [
    {
     "data": {
      "text/html": [
       "<table class=\"dataframe\">\n",
       "<caption>A tibble: 2 × 2</caption>\n",
       "<thead>\n",
       "\t<tr><th scope=col>DATE</th><th scope=col>RSHARPE</th></tr>\n",
       "\t<tr><th scope=col>&lt;date&gt;</th><th scope=col>&lt;dbl&gt;</th></tr>\n",
       "</thead>\n",
       "<tbody>\n",
       "\t<tr><td>2024-11-30</td><td>-0.04657986</td></tr>\n",
       "\t<tr><td>2024-12-31</td><td>-0.04753981</td></tr>\n",
       "</tbody>\n",
       "</table>\n"
      ],
      "text/latex": [
       "A tibble: 2 × 2\n",
       "\\begin{tabular}{ll}\n",
       " DATE & RSHARPE\\\\\n",
       " <date> & <dbl>\\\\\n",
       "\\hline\n",
       "\t 2024-11-30 & -0.04657986\\\\\n",
       "\t 2024-12-31 & -0.04753981\\\\\n",
       "\\end{tabular}\n"
      ],
      "text/markdown": [
       "\n",
       "A tibble: 2 × 2\n",
       "\n",
       "| DATE &lt;date&gt; | RSHARPE &lt;dbl&gt; |\n",
       "|---|---|\n",
       "| 2024-11-30 | -0.04657986 |\n",
       "| 2024-12-31 | -0.04753981 |\n",
       "\n"
      ],
      "text/plain": [
       "  DATE       RSHARPE    \n",
       "1 2024-11-30 -0.04657986\n",
       "2 2024-12-31 -0.04753981"
      ]
     },
     "metadata": {},
     "output_type": "display_data"
    }
   ],
   "source": [
    "#Test the function\n",
    "sub_data <- fact_data %>%\n",
    "    select(all_of(c(\"DATE\", \"PERMNO\", \"XRET11\", \"RET\", \"VOL\", \"RF\"))) %>%\n",
    "    filter(DATE >= \"2000-1-1\")\n",
    "test <- GRJMOM_Sharpe(sub_data, 0)\n",
    "tail(test, 2)"
   ]
  },
  {
   "cell_type": "markdown",
   "id": "d2e89a48-26b6-42b5-9207-ba07527e5743",
   "metadata": {},
   "source": [
    "We compute the optimal N for each month by simply createing a portfolio based on each value of N between 0 and 4 (with intervals of 0.1) as per Fan et al. (2022). Then, the Sharpe ratios of these portfolios are compared at each period, and the best performing one is selected."
   ]
  },
  {
   "cell_type": "code",
   "execution_count": 22,
   "id": "698bb761-08fd-48e0-a1a7-6f0cf280eeb1",
   "metadata": {},
   "outputs": [],
   "source": [
    "#Compute the best N based on our function\n",
    "possible_N <- seq(0, 4, 0.1) #Constraints given by article\n",
    "\n",
    "#Create subset of data with the appropriate period and variables\n",
    "sub_data <- fact_data %>% \n",
    "    select(all_of(c(\"DATE\", \"PERMNO\", \"XRET11\", \"RET\", \"VOL\", \"RF\"))) %>%\n",
    "    filter(DATE >= \"1999-1-1\")\n",
    "\n",
    "#Initialize a data frame storing the best N seen so far, along with its\n",
    "# corresponding Sharpe Ratio\n",
    "first_N <- head(possible_N, 1)\n",
    "best_N <- GRJMOM_Sharpe(sub_data, first_N) %>%\n",
    "    setNames(c(\"DATE\", \"BESTRSHARPE\")) %>%\n",
    "    mutate(N = first_N)\n",
    "\n",
    "#We iterate through all possible values of N and keep the best one for\n",
    "# each month\n",
    "for (n in possible_N){\n",
    "    new_Sharpe <- GRJMOM_Sharpe(sub_data, n) #Compute rolling sharpe with N\n",
    "\n",
    "    best_N <- left_join(best_N, new_Sharpe, by = \"DATE\") %>%       \n",
    "        mutate(N = if_else(BESTRSHARPE >=  RSHARPE, N, n)) %>% #Select best N\n",
    "        mutate(RSHARPE = max(BESTRSHARPE, RSHARPE)) %>%        #Select best Sharpe\n",
    "        select(all_of(c(\"DATE\", \"BESTRSHARPE\", \"N\")))          #Select return columns\n",
    "}\n",
    "\n",
    "best_N <- select(best_N, all_of(c(\"DATE\", \"N\")))"
   ]
  },
  {
   "cell_type": "markdown",
   "id": "5efea4a4-d44d-4fe9-bd95-3c0dc81eef08",
   "metadata": {},
   "source": [
    "Now, we can see how the optimal N changes over time."
   ]
  },
  {
   "cell_type": "code",
   "execution_count": 23,
   "id": "0621baf9-01cd-4262-a0fb-4e4629f5d77c",
   "metadata": {},
   "outputs": [
    {
     "data": {
      "image/png": "[encoded data removed]",
      "text/plain": [
       "plot without title"
      ]
     },
     "metadata": {
      "image/png": {
       "height": 420,
       "width": 420
      }
     },
     "output_type": "display_data"
    }
   ],
   "source": [
    "#Graph N\n",
    "display_data <- filter(best_N, DATE > \"2005-1-1\")\n",
    "ggplot(display_data, aes(x = DATE)) + \n",
    "    geom_line(aes(y = N))"
   ]
  },
  {
   "cell_type": "markdown",
   "id": "e8ab8f6b-cf49-4f97-beae-090477f34dce",
   "metadata": {},
   "source": [
    "We get very different results from the original paper, getting a value of N that stays below 1, meaning that our volatility is penalised even less than the Sharpe Ratio over the period. Since these values are computed based on an expanding window approach, we do not include the ~70 earlier years of data that were inlcuded in that paper which likely had different stock behavior. Having the 2008 financial crisis composing a large portion of our period likely had a significant impact as high-volatility stocks overperformed in its recovery, making a portfolio with less variance penalisation optimal. Another alternative explanation may be the the subset of stocks selected that may exhibit characteristics different from the market as a whole.\n",
    "\n",
    "Next, using these optimal N values, we can compute the GRJMOM factor for each month."
   ]
  },
  {
   "cell_type": "code",
   "execution_count": 24,
   "id": "31147f67-a93d-4ffb-a587-d0977ebd8860",
   "metadata": {},
   "outputs": [
    {
     "data": {
      "text/html": [
       "<table class=\"dataframe\">\n",
       "<caption>A tibble: 3 × 23</caption>\n",
       "<thead>\n",
       "\t<tr><th scope=col>DATE</th><th scope=col>PERMNO</th><th scope=col>PERMCO</th><th scope=col>TIC</th><th scope=col>PRC</th><th scope=col>RET</th><th scope=col>SHROUT</th><th scope=col>CEQ</th><th scope=col>VOL</th><th scope=col>XRM</th><th scope=col>⋯</th><th scope=col>XRET</th><th scope=col>FRET</th><th scope=col>MCAP</th><th scope=col>BMKT</th><th scope=col>RET11</th><th scope=col>XRET11</th><th scope=col>RV</th><th scope=col>WML_star</th><th scope=col>N</th><th scope=col>GRJMOM</th></tr>\n",
       "\t<tr><th scope=col>&lt;date&gt;</th><th scope=col>&lt;dbl&gt;</th><th scope=col>&lt;dbl&gt;</th><th scope=col>&lt;chr&gt;</th><th scope=col>&lt;dbl&gt;</th><th scope=col>&lt;dbl&gt;</th><th scope=col>&lt;dbl&gt;</th><th scope=col>&lt;dbl&gt;</th><th scope=col>&lt;dbl&gt;</th><th scope=col>&lt;dbl&gt;</th><th scope=col>⋯</th><th scope=col>&lt;dbl&gt;</th><th scope=col>&lt;dbl&gt;</th><th scope=col>&lt;dbl&gt;</th><th scope=col>&lt;dbl&gt;</th><th scope=col>&lt;dbl&gt;</th><th scope=col>&lt;dbl&gt;</th><th scope=col>&lt;dbl&gt;</th><th scope=col>&lt;dbl&gt;</th><th scope=col>&lt;dbl&gt;</th><th scope=col>&lt;dbl&gt;</th></tr>\n",
       "</thead>\n",
       "<tbody>\n",
       "\t<tr><td>2004-01-31</td><td>10026</td><td>7976</td><td>JJSF</td><td>42.10</td><td> 0.114936</td><td>8801</td><td>182.564</td><td>0.09347483</td><td> 0.0215</td><td>⋯</td><td> 0.114236</td><td> 0.122565</td><td>370522.1</td><td>0.0004927209</td><td>0.03309673</td><td>0.03226036</td><td>3.692154</td><td> 0.034519963</td><td>0.9</td><td>0.2722977</td></tr>\n",
       "\t<tr><td>2004-02-29</td><td>10026</td><td>7976</td><td>JJSF</td><td>47.26</td><td> 0.122565</td><td>8801</td><td>182.564</td><td>0.09796190</td><td> 0.0140</td><td>⋯</td><td> 0.121965</td><td>-0.044012</td><td>415935.3</td><td>0.0004389241</td><td>0.03532145</td><td>0.03450327</td><td>3.595389</td><td>-0.013857615</td><td>0.9</td><td>0.2791958</td></tr>\n",
       "\t<tr><td>2004-03-31</td><td>10026</td><td>7976</td><td>JJSF</td><td>45.18</td><td>-0.044012</td><td>8906</td><td>182.564</td><td>0.10015411</td><td>-0.0132</td><td>⋯</td><td>-0.044912</td><td>-0.165339</td><td>402373.1</td><td>0.0004537182</td><td>0.04209582</td><td>0.04131400</td><td>4.118695</td><td> 0.001996524</td><td>0.9</td><td>0.3277143</td></tr>\n",
       "</tbody>\n",
       "</table>\n"
      ],
      "text/latex": [
       "A tibble: 3 × 23\n",
       "\\begin{tabular}{lllllllllllllllllllll}\n",
       " DATE & PERMNO & PERMCO & TIC & PRC & RET & SHROUT & CEQ & VOL & XRM & ⋯ & XRET & FRET & MCAP & BMKT & RET11 & XRET11 & RV & WML\\_star & N & GRJMOM\\\\\n",
       " <date> & <dbl> & <dbl> & <chr> & <dbl> & <dbl> & <dbl> & <dbl> & <dbl> & <dbl> & ⋯ & <dbl> & <dbl> & <dbl> & <dbl> & <dbl> & <dbl> & <dbl> & <dbl> & <dbl> & <dbl>\\\\\n",
       "\\hline\n",
       "\t 2004-01-31 & 10026 & 7976 & JJSF & 42.10 &  0.114936 & 8801 & 182.564 & 0.09347483 &  0.0215 & ⋯ &  0.114236 &  0.122565 & 370522.1 & 0.0004927209 & 0.03309673 & 0.03226036 & 3.692154 &  0.034519963 & 0.9 & 0.2722977\\\\\n",
       "\t 2004-02-29 & 10026 & 7976 & JJSF & 47.26 &  0.122565 & 8801 & 182.564 & 0.09796190 &  0.0140 & ⋯ &  0.121965 & -0.044012 & 415935.3 & 0.0004389241 & 0.03532145 & 0.03450327 & 3.595389 & -0.013857615 & 0.9 & 0.2791958\\\\\n",
       "\t 2004-03-31 & 10026 & 7976 & JJSF & 45.18 & -0.044012 & 8906 & 182.564 & 0.10015411 & -0.0132 & ⋯ & -0.044912 & -0.165339 & 402373.1 & 0.0004537182 & 0.04209582 & 0.04131400 & 4.118695 &  0.001996524 & 0.9 & 0.3277143\\\\\n",
       "\\end{tabular}\n"
      ],
      "text/markdown": [
       "\n",
       "A tibble: 3 × 23\n",
       "\n",
       "| DATE &lt;date&gt; | PERMNO &lt;dbl&gt; | PERMCO &lt;dbl&gt; | TIC &lt;chr&gt; | PRC &lt;dbl&gt; | RET &lt;dbl&gt; | SHROUT &lt;dbl&gt; | CEQ &lt;dbl&gt; | VOL &lt;dbl&gt; | XRM &lt;dbl&gt; | ⋯ ⋯ | XRET &lt;dbl&gt; | FRET &lt;dbl&gt; | MCAP &lt;dbl&gt; | BMKT &lt;dbl&gt; | RET11 &lt;dbl&gt; | XRET11 &lt;dbl&gt; | RV &lt;dbl&gt; | WML_star &lt;dbl&gt; | N &lt;dbl&gt; | GRJMOM &lt;dbl&gt; |\n",
       "|---|---|---|---|---|---|---|---|---|---|---|---|---|---|---|---|---|---|---|---|---|\n",
       "| 2004-01-31 | 10026 | 7976 | JJSF | 42.10 |  0.114936 | 8801 | 182.564 | 0.09347483 |  0.0215 | ⋯ |  0.114236 |  0.122565 | 370522.1 | 0.0004927209 | 0.03309673 | 0.03226036 | 3.692154 |  0.034519963 | 0.9 | 0.2722977 |\n",
       "| 2004-02-29 | 10026 | 7976 | JJSF | 47.26 |  0.122565 | 8801 | 182.564 | 0.09796190 |  0.0140 | ⋯ |  0.121965 | -0.044012 | 415935.3 | 0.0004389241 | 0.03532145 | 0.03450327 | 3.595389 | -0.013857615 | 0.9 | 0.2791958 |\n",
       "| 2004-03-31 | 10026 | 7976 | JJSF | 45.18 | -0.044012 | 8906 | 182.564 | 0.10015411 | -0.0132 | ⋯ | -0.044912 | -0.165339 | 402373.1 | 0.0004537182 | 0.04209582 | 0.04131400 | 4.118695 |  0.001996524 | 0.9 | 0.3277143 |\n",
       "\n"
      ],
      "text/plain": [
       "  DATE       PERMNO PERMCO TIC  PRC   RET       SHROUT CEQ     VOL       \n",
       "1 2004-01-31 10026  7976   JJSF 42.10  0.114936 8801   182.564 0.09347483\n",
       "2 2004-02-29 10026  7976   JJSF 47.26  0.122565 8801   182.564 0.09796190\n",
       "3 2004-03-31 10026  7976   JJSF 45.18 -0.044012 8906   182.564 0.10015411\n",
       "  XRM     ⋯ XRET      FRET      MCAP     BMKT         RET11      XRET11    \n",
       "1  0.0215 ⋯  0.114236  0.122565 370522.1 0.0004927209 0.03309673 0.03226036\n",
       "2  0.0140 ⋯  0.121965 -0.044012 415935.3 0.0004389241 0.03532145 0.03450327\n",
       "3 -0.0132 ⋯ -0.044912 -0.165339 402373.1 0.0004537182 0.04209582 0.04131400\n",
       "  RV       WML_star     N   GRJMOM   \n",
       "1 3.692154  0.034519963 0.9 0.2722977\n",
       "2 3.595389 -0.013857615 0.9 0.2791958\n",
       "3 4.118695  0.001996524 0.9 0.3277143"
      ]
     },
     "metadata": {},
     "output_type": "display_data"
    }
   ],
   "source": [
    "#Compute GRJMOM\n",
    "fact_data3 <- fact_data2 %>% left_join(best_N, by = \"DATE\") %>%\n",
    "    mutate(GRJMOM = XRET11 / (VOL ^ N))\n",
    "\n",
    "head(filter(fact_data3, DATE >= start_date), 3)"
   ]
  },
  {
   "cell_type": "markdown",
   "id": "1e8dfaaa-dd78-46af-8fb6-4a4222a4d628",
   "metadata": {},
   "source": [
    "### Select Used Data\n",
    "\n",
    "Now that all of our factors are added, we select data from the correct period and remove any rows with NA data."
   ]
  },
  {
   "cell_type": "code",
   "execution_count": 25,
   "id": "9a73573a-4156-496d-9abd-33f38b7063df",
   "metadata": {},
   "outputs": [],
   "source": [
    "#Select correct period\n",
    "all_data <- fact_data3 %>% filter(DATE >= start_date, DATE <= end_date) %>%\n",
    "    drop_na()"
   ]
  },
  {
   "cell_type": "markdown",
   "id": "8929051e-d397-4f31-b267-eaa8b109f5ce",
   "metadata": {},
   "source": [
    "### Normalize Data\n",
    "\n",
    "Finally, we need to normalize our factors to improve machine learning performance. First, examine what the initial distribution of our factors is."
   ]
  },
  {
   "cell_type": "code",
   "execution_count": 26,
   "id": "e6e87afb-d03e-41cb-9f94-a84f6306f3b1",
   "metadata": {},
   "outputs": [
    {
     "data": {
      "image/png": "[encoded data removed]",
      "text/plain": [
       "plot without title"
      ]
     },
     "metadata": {
      "image/png": {
       "height": 420,
       "width": 420
      }
     },
     "output_type": "display_data"
    }
   ],
   "source": [
    "#Plot Distribution\n",
    "factors <- c(\"XRM\", \"XRET11\", \"BMKT\", \"MCAP\", \"GRJMOM\", \"WML_VOL\", \"RV\")\n",
    "\n",
    "all_data %>% select(all_of(factors)) %>% \n",
    "    pivot_longer(everything(), names_to = \"name\", values_to = \"value\") %>%\n",
    "    ggplot(aes(value)) + geom_histogram(bins = 30, , color = \"black\") +\n",
    "    facet_wrap(~name, scales = \"free_x\")"
   ]
  },
  {
   "cell_type": "markdown",
   "id": "bb24c2e0-cbd2-4212-b19c-3a0f30881fc3",
   "metadata": {},
   "source": [
    "We can see that the distributions of our predictive variables are not uniform, generally with extreme tail values, particularily for market capitalization. ECDF normalization will be used since some of the outliers are too large for Z-score standardization (like MCAP). This will introduce information loss, but should reduce the impact of oversized values, improving machine learning accuracy. Note that values are normalized at each time step (month).\n",
    "\n",
    "XRM and WML_VOL will not be normalized since these only have one value each period, and don't have the problem of extreme magnitude values."
   ]
  },
  {
   "cell_type": "code",
   "execution_count": 27,
   "id": "adb23dc1-564c-42b9-9cac-b1aced46f5cf",
   "metadata": {},
   "outputs": [
    {
     "data": {
      "text/html": [
       "<table class=\"dataframe\">\n",
       "<caption>A tibble: 3 × 23</caption>\n",
       "<thead>\n",
       "\t<tr><th scope=col>DATE</th><th scope=col>PERMNO</th><th scope=col>PERMCO</th><th scope=col>TIC</th><th scope=col>PRC</th><th scope=col>RET</th><th scope=col>SHROUT</th><th scope=col>CEQ</th><th scope=col>VOL</th><th scope=col>XRM</th><th scope=col>⋯</th><th scope=col>XRET</th><th scope=col>FRET</th><th scope=col>MCAP</th><th scope=col>BMKT</th><th scope=col>RET11</th><th scope=col>XRET11</th><th scope=col>RV</th><th scope=col>WML_star</th><th scope=col>N</th><th scope=col>GRJMOM</th></tr>\n",
       "\t<tr><th scope=col>&lt;date&gt;</th><th scope=col>&lt;dbl&gt;</th><th scope=col>&lt;dbl&gt;</th><th scope=col>&lt;chr&gt;</th><th scope=col>&lt;dbl&gt;</th><th scope=col>&lt;dbl&gt;</th><th scope=col>&lt;dbl&gt;</th><th scope=col>&lt;dbl&gt;</th><th scope=col>&lt;dbl&gt;</th><th scope=col>&lt;dbl&gt;</th><th scope=col>⋯</th><th scope=col>&lt;dbl&gt;</th><th scope=col>&lt;dbl&gt;</th><th scope=col>&lt;dbl&gt;</th><th scope=col>&lt;dbl&gt;</th><th scope=col>&lt;dbl&gt;</th><th scope=col>&lt;dbl&gt;</th><th scope=col>&lt;dbl&gt;</th><th scope=col>&lt;dbl&gt;</th><th scope=col>&lt;dbl&gt;</th><th scope=col>&lt;dbl&gt;</th></tr>\n",
       "</thead>\n",
       "<tbody>\n",
       "\t<tr><td>2004-01-31</td><td>10026</td><td>7976</td><td>JJSF</td><td>42.10</td><td> 0.114936</td><td>8801</td><td>182.564</td><td>0.09347483</td><td> 0.0215</td><td>⋯</td><td> 0.114236</td><td> 0.122565</td><td>0.2973503</td><td>0.5750736</td><td>0.03309673</td><td>0.4818449</td><td>0.4317959</td><td> 0.034519963</td><td>0.9</td><td>0.3954858</td></tr>\n",
       "\t<tr><td>2004-02-29</td><td>10026</td><td>7976</td><td>JJSF</td><td>47.26</td><td> 0.122565</td><td>8801</td><td>182.564</td><td>0.09796190</td><td> 0.0140</td><td>⋯</td><td> 0.121965</td><td>-0.044012</td><td>0.3209028</td><td>0.4936212</td><td>0.03532145</td><td>0.4563297</td><td>0.3444553</td><td>-0.013857615</td><td>0.9</td><td>0.3316977</td></tr>\n",
       "\t<tr><td>2004-03-31</td><td>10026</td><td>7976</td><td>JJSF</td><td>45.18</td><td>-0.044012</td><td>8906</td><td>182.564</td><td>0.10015411</td><td>-0.0132</td><td>⋯</td><td>-0.044912</td><td>-0.165339</td><td>0.3107843</td><td>0.5392157</td><td>0.04209582</td><td>0.5401961</td><td>0.3911765</td><td> 0.001996524</td><td>0.9</td><td>0.4039216</td></tr>\n",
       "</tbody>\n",
       "</table>\n"
      ],
      "text/latex": [
       "A tibble: 3 × 23\n",
       "\\begin{tabular}{lllllllllllllllllllll}\n",
       " DATE & PERMNO & PERMCO & TIC & PRC & RET & SHROUT & CEQ & VOL & XRM & ⋯ & XRET & FRET & MCAP & BMKT & RET11 & XRET11 & RV & WML\\_star & N & GRJMOM\\\\\n",
       " <date> & <dbl> & <dbl> & <chr> & <dbl> & <dbl> & <dbl> & <dbl> & <dbl> & <dbl> & ⋯ & <dbl> & <dbl> & <dbl> & <dbl> & <dbl> & <dbl> & <dbl> & <dbl> & <dbl> & <dbl>\\\\\n",
       "\\hline\n",
       "\t 2004-01-31 & 10026 & 7976 & JJSF & 42.10 &  0.114936 & 8801 & 182.564 & 0.09347483 &  0.0215 & ⋯ &  0.114236 &  0.122565 & 0.2973503 & 0.5750736 & 0.03309673 & 0.4818449 & 0.4317959 &  0.034519963 & 0.9 & 0.3954858\\\\\n",
       "\t 2004-02-29 & 10026 & 7976 & JJSF & 47.26 &  0.122565 & 8801 & 182.564 & 0.09796190 &  0.0140 & ⋯ &  0.121965 & -0.044012 & 0.3209028 & 0.4936212 & 0.03532145 & 0.4563297 & 0.3444553 & -0.013857615 & 0.9 & 0.3316977\\\\\n",
       "\t 2004-03-31 & 10026 & 7976 & JJSF & 45.18 & -0.044012 & 8906 & 182.564 & 0.10015411 & -0.0132 & ⋯ & -0.044912 & -0.165339 & 0.3107843 & 0.5392157 & 0.04209582 & 0.5401961 & 0.3911765 &  0.001996524 & 0.9 & 0.4039216\\\\\n",
       "\\end{tabular}\n"
      ],
      "text/markdown": [
       "\n",
       "A tibble: 3 × 23\n",
       "\n",
       "| DATE &lt;date&gt; | PERMNO &lt;dbl&gt; | PERMCO &lt;dbl&gt; | TIC &lt;chr&gt; | PRC &lt;dbl&gt; | RET &lt;dbl&gt; | SHROUT &lt;dbl&gt; | CEQ &lt;dbl&gt; | VOL &lt;dbl&gt; | XRM &lt;dbl&gt; | ⋯ ⋯ | XRET &lt;dbl&gt; | FRET &lt;dbl&gt; | MCAP &lt;dbl&gt; | BMKT &lt;dbl&gt; | RET11 &lt;dbl&gt; | XRET11 &lt;dbl&gt; | RV &lt;dbl&gt; | WML_star &lt;dbl&gt; | N &lt;dbl&gt; | GRJMOM &lt;dbl&gt; |\n",
       "|---|---|---|---|---|---|---|---|---|---|---|---|---|---|---|---|---|---|---|---|---|\n",
       "| 2004-01-31 | 10026 | 7976 | JJSF | 42.10 |  0.114936 | 8801 | 182.564 | 0.09347483 |  0.0215 | ⋯ |  0.114236 |  0.122565 | 0.2973503 | 0.5750736 | 0.03309673 | 0.4818449 | 0.4317959 |  0.034519963 | 0.9 | 0.3954858 |\n",
       "| 2004-02-29 | 10026 | 7976 | JJSF | 47.26 |  0.122565 | 8801 | 182.564 | 0.09796190 |  0.0140 | ⋯ |  0.121965 | -0.044012 | 0.3209028 | 0.4936212 | 0.03532145 | 0.4563297 | 0.3444553 | -0.013857615 | 0.9 | 0.3316977 |\n",
       "| 2004-03-31 | 10026 | 7976 | JJSF | 45.18 | -0.044012 | 8906 | 182.564 | 0.10015411 | -0.0132 | ⋯ | -0.044912 | -0.165339 | 0.3107843 | 0.5392157 | 0.04209582 | 0.5401961 | 0.3911765 |  0.001996524 | 0.9 | 0.4039216 |\n",
       "\n"
      ],
      "text/plain": [
       "  DATE       PERMNO PERMCO TIC  PRC   RET       SHROUT CEQ     VOL       \n",
       "1 2004-01-31 10026  7976   JJSF 42.10  0.114936 8801   182.564 0.09347483\n",
       "2 2004-02-29 10026  7976   JJSF 47.26  0.122565 8801   182.564 0.09796190\n",
       "3 2004-03-31 10026  7976   JJSF 45.18 -0.044012 8906   182.564 0.10015411\n",
       "  XRM     ⋯ XRET      FRET      MCAP      BMKT      RET11      XRET11   \n",
       "1  0.0215 ⋯  0.114236  0.122565 0.2973503 0.5750736 0.03309673 0.4818449\n",
       "2  0.0140 ⋯  0.121965 -0.044012 0.3209028 0.4936212 0.03532145 0.4563297\n",
       "3 -0.0132 ⋯ -0.044912 -0.165339 0.3107843 0.5392157 0.04209582 0.5401961\n",
       "  RV        WML_star     N   GRJMOM   \n",
       "1 0.4317959  0.034519963 0.9 0.3954858\n",
       "2 0.3444553 -0.013857615 0.9 0.3316977\n",
       "3 0.3911765  0.001996524 0.9 0.4039216"
      ]
     },
     "metadata": {},
     "output_type": "display_data"
    }
   ],
   "source": [
    "#Set of factors to be normalized\n",
    "norm_factors <- c(\"XRET11\", \"BMKT\", \"MCAP\", \"GRJMOM\", \"RV\")\n",
    "\n",
    "#Compute ECDF normalization at each month\n",
    "norm_data <- all_data %>% group_by(DATE) %>%\n",
    "    mutate_at(norm_factors, ~ecdf(.)(.)) %>%\n",
    "    ungroup()\n",
    "head(norm_data, 3)"
   ]
  },
  {
   "cell_type": "code",
   "execution_count": 28,
   "id": "50ac1d82-70f0-4bdf-b9fc-83859ba01d55",
   "metadata": {},
   "outputs": [
    {
     "data": {
      "image/png": "[encoded data removed]",
      "text/plain": [
       "plot without title"
      ]
     },
     "metadata": {
      "image/png": {
       "height": 420,
       "width": 420
      }
     },
     "output_type": "display_data"
    }
   ],
   "source": [
    "#Plot Normalized Distribution\n",
    "norm_data %>% select(all_of(norm_factors)) %>% \n",
    "    pivot_longer(everything(), names_to = \"name\", values_to = \"value\") %>%\n",
    "    ggplot(aes(value)) + geom_histogram(bins = 30, , color = \"black\") +\n",
    "    facet_wrap(~name, scales = \"free_x\")"
   ]
  },
  {
   "cell_type": "markdown",
   "id": "3658e7ac-399c-49b4-b3a9-19ce3f1a79ae",
   "metadata": {},
   "source": [
    "Our normalization is effective, and the features are now standardized."
   ]
  },
  {
   "cell_type": "markdown",
   "id": "1458afb1-35d0-46ab-b327-7789adefd69b",
   "metadata": {},
   "source": [
    "### Save Our Clean ML Data\n",
    "\n",
    "Now that the data transformation and cleaning step is done, the final data file is saved as \"clean_data.csv\" where it can be used for machine learning."
   ]
  },
  {
   "cell_type": "code",
   "execution_count": 29,
   "id": "38b87422-46c2-4d3e-9a11-284c9e8b15aa",
   "metadata": {},
   "outputs": [],
   "source": [
    "write.csv(norm_data, \"Data/Generated/clean_data.csv\", row.names = FALSE)"
   ]
  }
 ],
 "metadata": {
  "kernelspec": {
   "display_name": "R",
   "language": "R",
   "name": "ir"
  },
  "language_info": {
   "codemirror_mode": "r",
   "file_extension": ".r",
   "mimetype": "text/x-r-source",
   "name": "R",
   "pygments_lexer": "r",
   "version": "4.4.3"
  }
 },
 "nbformat": 4,
 "nbformat_minor": 5
}
