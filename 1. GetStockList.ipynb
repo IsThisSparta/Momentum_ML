{
 "cells": [
  {
   "cell_type": "markdown",
   "id": "5f96efc2-7878-46a1-9c76-51da1e6a12fc",
   "metadata": {},
   "source": [
    "# Get Stock List\n",
    "The purpose of this file is to simply generate a list of stocks based on their unique identifier (PERMNO) that have full CRSP data from January 1995 to December 2024. This stock list will then be used to query WRDS databases for all of the other used datasets. The dataset used is the CRSP monthly stock data and includes all stocks. "
   ]
  },
  {
   "cell_type": "code",
   "execution_count": 1,
   "id": "d6f0fba3-7335-42b9-aed0-887e83da3f1c",
   "metadata": {},
   "outputs": [],
   "source": [
    "#Import packages\n",
    "suppressPackageStartupMessages({\n",
    "    if(!require(tidyverse)){install.packages(\"tidyverse\")}\n",
    "    \n",
    "    library(tidyverse)\n",
    "})"
   ]
  },
  {
   "cell_type": "code",
   "execution_count": 2,
   "id": "28c1a117-4b32-4fc8-8b64-1a38e059bd2a",
   "metadata": {},
   "outputs": [
    {
     "data": {
      "text/html": [
       "<table class=\"dataframe\">\n",
       "<caption>A tibble: 6 × 7</caption>\n",
       "<thead>\n",
       "\t<tr><th scope=col>PERMNO</th><th scope=col>date</th><th scope=col>TICKER</th><th scope=col>PERMCO</th><th scope=col>PRC</th><th scope=col>RET</th><th scope=col>SHROUT</th></tr>\n",
       "\t<tr><th scope=col>&lt;dbl&gt;</th><th scope=col>&lt;date&gt;</th><th scope=col>&lt;chr&gt;</th><th scope=col>&lt;dbl&gt;</th><th scope=col>&lt;dbl&gt;</th><th scope=col>&lt;chr&gt;</th><th scope=col>&lt;dbl&gt;</th></tr>\n",
       "</thead>\n",
       "<tbody>\n",
       "\t<tr><td>10001</td><td>1995-01-31</td><td>EWST</td><td>7953</td><td>-7.75000</td><td>-0.031250</td><td>2224</td></tr>\n",
       "\t<tr><td>10001</td><td>1995-02-28</td><td>EWST</td><td>7953</td><td> 7.54688</td><td>-0.026210</td><td>2224</td></tr>\n",
       "\t<tr><td>10001</td><td>1995-03-31</td><td>EWST</td><td>7953</td><td> 7.50000</td><td>0.006377 </td><td>2244</td></tr>\n",
       "\t<tr><td>10001</td><td>1995-04-28</td><td>EWST</td><td>7953</td><td> 7.50000</td><td>0.000000 </td><td>2244</td></tr>\n",
       "\t<tr><td>10001</td><td>1995-05-31</td><td>EWST</td><td>7953</td><td>-7.87500</td><td>0.050000 </td><td>2244</td></tr>\n",
       "\t<tr><td>10001</td><td>1995-06-30</td><td>EWST</td><td>7953</td><td> 8.25000</td><td>0.060317 </td><td>2254</td></tr>\n",
       "</tbody>\n",
       "</table>\n"
      ],
      "text/latex": [
       "A tibble: 6 × 7\n",
       "\\begin{tabular}{lllllll}\n",
       " PERMNO & date & TICKER & PERMCO & PRC & RET & SHROUT\\\\\n",
       " <dbl> & <date> & <chr> & <dbl> & <dbl> & <chr> & <dbl>\\\\\n",
       "\\hline\n",
       "\t 10001 & 1995-01-31 & EWST & 7953 & -7.75000 & -0.031250 & 2224\\\\\n",
       "\t 10001 & 1995-02-28 & EWST & 7953 &  7.54688 & -0.026210 & 2224\\\\\n",
       "\t 10001 & 1995-03-31 & EWST & 7953 &  7.50000 & 0.006377  & 2244\\\\\n",
       "\t 10001 & 1995-04-28 & EWST & 7953 &  7.50000 & 0.000000  & 2244\\\\\n",
       "\t 10001 & 1995-05-31 & EWST & 7953 & -7.87500 & 0.050000  & 2244\\\\\n",
       "\t 10001 & 1995-06-30 & EWST & 7953 &  8.25000 & 0.060317  & 2254\\\\\n",
       "\\end{tabular}\n"
      ],
      "text/markdown": [
       "\n",
       "A tibble: 6 × 7\n",
       "\n",
       "| PERMNO &lt;dbl&gt; | date &lt;date&gt; | TICKER &lt;chr&gt; | PERMCO &lt;dbl&gt; | PRC &lt;dbl&gt; | RET &lt;chr&gt; | SHROUT &lt;dbl&gt; |\n",
       "|---|---|---|---|---|---|---|\n",
       "| 10001 | 1995-01-31 | EWST | 7953 | -7.75000 | -0.031250 | 2224 |\n",
       "| 10001 | 1995-02-28 | EWST | 7953 |  7.54688 | -0.026210 | 2224 |\n",
       "| 10001 | 1995-03-31 | EWST | 7953 |  7.50000 | 0.006377  | 2244 |\n",
       "| 10001 | 1995-04-28 | EWST | 7953 |  7.50000 | 0.000000  | 2244 |\n",
       "| 10001 | 1995-05-31 | EWST | 7953 | -7.87500 | 0.050000  | 2244 |\n",
       "| 10001 | 1995-06-30 | EWST | 7953 |  8.25000 | 0.060317  | 2254 |\n",
       "\n"
      ],
      "text/plain": [
       "  PERMNO date       TICKER PERMCO PRC      RET       SHROUT\n",
       "1 10001  1995-01-31 EWST   7953   -7.75000 -0.031250 2224  \n",
       "2 10001  1995-02-28 EWST   7953    7.54688 -0.026210 2224  \n",
       "3 10001  1995-03-31 EWST   7953    7.50000 0.006377  2244  \n",
       "4 10001  1995-04-28 EWST   7953    7.50000 0.000000  2244  \n",
       "5 10001  1995-05-31 EWST   7953   -7.87500 0.050000  2244  \n",
       "6 10001  1995-06-30 EWST   7953    8.25000 0.060317  2254  "
      ]
     },
     "metadata": {},
     "output_type": "display_data"
    }
   ],
   "source": [
    "#Import data\n",
    "stock_data <- read_csv(\"Data/Downloaded/crsp_all.csv\", show_col_types = FALSE)\n",
    "\n",
    "head(stock_data)"
   ]
  },
  {
   "cell_type": "markdown",
   "id": "8609bef5-a705-4eca-9347-b653fe315d67",
   "metadata": {},
   "source": [
    "Now, we select stocks that have a full set of data over the period."
   ]
  },
  {
   "cell_type": "code",
   "execution_count": 3,
   "id": "f3a81842-eec5-49bc-b161-ba1682fc7659",
   "metadata": {},
   "outputs": [
    {
     "data": {
      "text/html": [
       "27868"
      ],
      "text/latex": [
       "27868"
      ],
      "text/markdown": [
       "27868"
      ],
      "text/plain": [
       "[1] 27868"
      ]
     },
     "metadata": {},
     "output_type": "display_data"
    },
    {
     "data": {
      "text/html": [
       "1159"
      ],
      "text/latex": [
       "1159"
      ],
      "text/markdown": [
       "1159"
      ],
      "text/plain": [
       "[1] 1159"
      ]
     },
     "metadata": {},
     "output_type": "display_data"
    }
   ],
   "source": [
    "#Select stocks\n",
    "no_na_data <- drop_na(stock_data) %>% #Remove NAs\n",
    "    filter(RET != \"C\")                #Keep only numeric returns \n",
    "\n",
    "stock_ids <- levels(as.factor(no_na_data$PERMNO)) # A list of all stock_ids\n",
    "\n",
    "stock_days <- no_na_data %>%                        # Compute # of data points per stock\n",
    "    group_by(PERMNO) %>% summarize(nb = n())\n",
    "max_days <- max(stock_days$nb)                     # Number of data points each stock should have\n",
    "\n",
    "full_stocks <- stock_ids[which(stock_days$nb == max_days)] #Stocks with data every period\n",
    "\n",
    "full_data <- filter(stock_data, PERMNO %in% full_stocks) # data with all rows\n",
    "\n",
    "length(unique(stock_data$PERMNO))\n",
    "length(unique(full_data$PERMNO))"
   ]
  },
  {
   "cell_type": "markdown",
   "id": "48a43d6f-65c4-4a35-8d60-f1ad742c09d2",
   "metadata": {},
   "source": [
    "We have 1159 stocks out of 27868 that have full data over the entire period. By only selecting these stocks, we are introducing bias into our dataset, but this makes our analysis far easier, and greatly speeds up computations which is important since some factors require daily data.\n",
    "\n",
    "Now, we can ouput our list of stock ids to \"stock_ids.csv\" which is used to pull data from CRSP and other databases."
   ]
  },
  {
   "cell_type": "code",
   "execution_count": 4,
   "id": "025456dd-5a15-4fbf-adc5-04fa1ed7f897",
   "metadata": {},
   "outputs": [],
   "source": [
    "#Output stock ID list\n",
    "write.table(as.numeric(full_stocks), \"Data/Generated/stock_ids.csv\", row.names = FALSE, col.names = FALSE, sep = \",\")"
   ]
  }
 ],
 "metadata": {
  "kernelspec": {
   "display_name": "R",
   "language": "R",
   "name": "ir"
  },
  "language_info": {
   "codemirror_mode": "r",
   "file_extension": ".r",
   "mimetype": "text/x-r-source",
   "name": "R",
   "pygments_lexer": "r",
   "version": "4.4.3"
  }
 },
 "nbformat": 4,
 "nbformat_minor": 5
}
